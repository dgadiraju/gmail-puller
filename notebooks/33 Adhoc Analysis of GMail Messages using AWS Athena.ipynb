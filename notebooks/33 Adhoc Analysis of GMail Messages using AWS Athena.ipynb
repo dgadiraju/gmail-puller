{
 "cells": [
  {
   "cell_type": "markdown",
   "id": "db1b6286-9680-4fc4-ad7b-18f2f3cc78fc",
   "metadata": {},
   "source": [
    "## Adhoc Analysis of GMail Messages using AWS Athena\n",
    "\n",
    "As Glue Catalog Table is ready, one can perform analysis of GMail Messages using Athena Queries.\n",
    "* Athena is a serverless query engine which can be used for ad-hoc analysis, reporting as well as processing the data via catalog tables created on top of files in s3.\n",
    "* We can install libraries such as **pyathena** and **sqlalchemy** to run SQL queries from clients such as Jupyter. We can also use Athena Query Editor directly to run queries for ad-hoc analysis.\n",
    "\n",
    "```\n",
    "pip install pyathena\n",
    "pip install sqlalchemy\n",
    "```"
   ]
  },
  {
   "cell_type": "code",
   "execution_count": 5,
   "id": "fcd2b07b-9701-432d-865f-ef16414e9753",
   "metadata": {},
   "outputs": [],
   "source": [
    "from pyathena import connect\n",
    "import pandas as pd\n",
    "conn = connect(\n",
    "    s3_staging_dir='s3://itversitydata/gmail_messages/',\n",
    "    region_name='us-east-1'\n",
    ")"
   ]
  },
  {
   "cell_type": "code",
   "execution_count": 6,
   "id": "c360153b-ec63-4060-8b51-8aedb1f64bcf",
   "metadata": {},
   "outputs": [
    {
     "name": "stderr",
     "output_type": "stream",
     "text": [
      "/Users/itversity/Projects/Internal/bootcamp/gmail-puller/gp-venv/lib/python3.9/site-packages/pandas/io/sql.py:761: UserWarning: pandas only support SQLAlchemy connectable(engine/connection) ordatabase string URI or sqlite3 DBAPI2 connectionother DBAPI2 objects are not tested, please consider using SQLAlchemy\n",
      "  warnings.warn(\n"
     ]
    },
    {
     "data": {
      "text/html": [
       "<div>\n",
       "<style scoped>\n",
       "    .dataframe tbody tr th:only-of-type {\n",
       "        vertical-align: middle;\n",
       "    }\n",
       "\n",
       "    .dataframe tbody tr th {\n",
       "        vertical-align: top;\n",
       "    }\n",
       "\n",
       "    .dataframe thead th {\n",
       "        text-align: right;\n",
       "    }\n",
       "</style>\n",
       "<table border=\"1\" class=\"dataframe\">\n",
       "  <thead>\n",
       "    <tr style=\"text-align: right;\">\n",
       "      <th></th>\n",
       "      <th>id</th>\n",
       "      <th>threadid</th>\n",
       "      <th>labelids</th>\n",
       "      <th>snippet</th>\n",
       "      <th>payload</th>\n",
       "      <th>sizeestimate</th>\n",
       "      <th>historyid</th>\n",
       "      <th>internaldate</th>\n",
       "    </tr>\n",
       "  </thead>\n",
       "  <tbody>\n",
       "    <tr>\n",
       "      <th>0</th>\n",
       "      <td>17feb75706416d5f</td>\n",
       "      <td>17feb75706416d5f</td>\n",
       "      <td>[CATEGORY_PROMOTIONS, UNREAD, INBOX]</td>\n",
       "      <td>[Click here] to see your new student enrollmen...</td>\n",
       "      <td>{partid=, mimetype=text/html, filename=, heade...</td>\n",
       "      <td>55961</td>\n",
       "      <td>11785812</td>\n",
       "      <td>1648922814000</td>\n",
       "    </tr>\n",
       "    <tr>\n",
       "      <th>1</th>\n",
       "      <td>17feb5481dd454e3</td>\n",
       "      <td>17feb5481dd454e3</td>\n",
       "      <td>[CATEGORY_PROMOTIONS, UNREAD, INBOX]</td>\n",
       "      <td>Learn more about Amazon pickup locations Amazo...</td>\n",
       "      <td>{partid=, mimetype=multipart/alternative, file...</td>\n",
       "      <td>50192</td>\n",
       "      <td>11785811</td>\n",
       "      <td>1648920657000</td>\n",
       "    </tr>\n",
       "  </tbody>\n",
       "</table>\n",
       "</div>"
      ],
      "text/plain": [
       "                 id          threadid                              labelids  \\\n",
       "0  17feb75706416d5f  17feb75706416d5f  [CATEGORY_PROMOTIONS, UNREAD, INBOX]   \n",
       "1  17feb5481dd454e3  17feb5481dd454e3  [CATEGORY_PROMOTIONS, UNREAD, INBOX]   \n",
       "\n",
       "                                             snippet  \\\n",
       "0  [Click here] to see your new student enrollmen...   \n",
       "1  Learn more about Amazon pickup locations Amazo...   \n",
       "\n",
       "                                             payload  sizeestimate historyid  \\\n",
       "0  {partid=, mimetype=text/html, filename=, heade...         55961  11785812   \n",
       "1  {partid=, mimetype=multipart/alternative, file...         50192  11785811   \n",
       "\n",
       "    internaldate  \n",
       "0  1648922814000  \n",
       "1  1648920657000  "
      ]
     },
     "execution_count": 6,
     "metadata": {},
     "output_type": "execute_result"
    }
   ],
   "source": [
    "messages = pd.read_sql(\"SELECT * FROM gmail_db.messages LIMIT 10\", conn)\n",
    "messages.head(2)"
   ]
  },
  {
   "cell_type": "code",
   "execution_count": 8,
   "id": "ebf8fc2a-3736-4930-9682-66fcf865b281",
   "metadata": {},
   "outputs": [
    {
     "name": "stderr",
     "output_type": "stream",
     "text": [
      "/Users/itversity/Projects/Internal/bootcamp/gmail-puller/gp-venv/lib/python3.9/site-packages/pandas/io/sql.py:761: UserWarning: pandas only support SQLAlchemy connectable(engine/connection) ordatabase string URI or sqlite3 DBAPI2 connectionother DBAPI2 objects are not tested, please consider using SQLAlchemy\n",
      "  warnings.warn(\n"
     ]
    },
    {
     "data": {
      "text/html": [
       "<div>\n",
       "<style scoped>\n",
       "    .dataframe tbody tr th:only-of-type {\n",
       "        vertical-align: middle;\n",
       "    }\n",
       "\n",
       "    .dataframe tbody tr th {\n",
       "        vertical-align: top;\n",
       "    }\n",
       "\n",
       "    .dataframe thead th {\n",
       "        text-align: right;\n",
       "    }\n",
       "</style>\n",
       "<table border=\"1\" class=\"dataframe\">\n",
       "  <thead>\n",
       "    <tr style=\"text-align: right;\">\n",
       "      <th></th>\n",
       "      <th>_col0</th>\n",
       "    </tr>\n",
       "  </thead>\n",
       "  <tbody>\n",
       "    <tr>\n",
       "      <th>0</th>\n",
       "      <td>531</td>\n",
       "    </tr>\n",
       "  </tbody>\n",
       "</table>\n",
       "</div>"
      ],
      "text/plain": [
       "   _col0\n",
       "0    531"
      ]
     },
     "execution_count": 8,
     "metadata": {},
     "output_type": "execute_result"
    }
   ],
   "source": [
    "pd.read_sql(\"SELECT count(*) FROM gmail_db.messages\", conn)"
   ]
  },
  {
   "cell_type": "code",
   "execution_count": 9,
   "id": "0aa8122e-a1a7-4e81-8a04-307aa505088c",
   "metadata": {},
   "outputs": [
    {
     "name": "stderr",
     "output_type": "stream",
     "text": [
      "/Users/itversity/Projects/Internal/bootcamp/gmail-puller/gp-venv/lib/python3.9/site-packages/pandas/io/sql.py:761: UserWarning: pandas only support SQLAlchemy connectable(engine/connection) ordatabase string URI or sqlite3 DBAPI2 connectionother DBAPI2 objects are not tested, please consider using SQLAlchemy\n",
      "  warnings.warn(\n"
     ]
    },
    {
     "data": {
      "text/html": [
       "<div>\n",
       "<style scoped>\n",
       "    .dataframe tbody tr th:only-of-type {\n",
       "        vertical-align: middle;\n",
       "    }\n",
       "\n",
       "    .dataframe tbody tr th {\n",
       "        vertical-align: top;\n",
       "    }\n",
       "\n",
       "    .dataframe thead th {\n",
       "        text-align: right;\n",
       "    }\n",
       "</style>\n",
       "<table border=\"1\" class=\"dataframe\">\n",
       "  <thead>\n",
       "    <tr style=\"text-align: right;\">\n",
       "      <th></th>\n",
       "      <th>_col0</th>\n",
       "      <th>_col1</th>\n",
       "    </tr>\n",
       "  </thead>\n",
       "  <tbody>\n",
       "    <tr>\n",
       "      <th>0</th>\n",
       "      <td>17fe27ee39d579d1</td>\n",
       "      <td>1800677955e7c0be</td>\n",
       "    </tr>\n",
       "  </tbody>\n",
       "</table>\n",
       "</div>"
      ],
      "text/plain": [
       "              _col0             _col1\n",
       "0  17fe27ee39d579d1  1800677955e7c0be"
      ]
     },
     "execution_count": 9,
     "metadata": {},
     "output_type": "execute_result"
    }
   ],
   "source": [
    "pd.read_sql(\"SELECT min(id), max(id) FROM gmail_db.messages\", conn)"
   ]
  },
  {
   "cell_type": "code",
   "execution_count": null,
   "id": "b4fb6ce7-b4cf-4a89-9a79-68fb427b9dcf",
   "metadata": {},
   "outputs": [],
   "source": []
  }
 ],
 "metadata": {
  "kernelspec": {
   "display_name": "Python 3 (ipykernel)",
   "language": "python",
   "name": "python3"
  },
  "language_info": {
   "codemirror_mode": {
    "name": "ipython",
    "version": 3
   },
   "file_extension": ".py",
   "mimetype": "text/x-python",
   "name": "python",
   "nbconvert_exporter": "python",
   "pygments_lexer": "ipython3",
   "version": "3.9.12"
  }
 },
 "nbformat": 4,
 "nbformat_minor": 5
}
