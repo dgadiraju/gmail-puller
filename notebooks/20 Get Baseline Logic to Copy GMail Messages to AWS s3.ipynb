{
 "cells": [
  {
   "cell_type": "markdown",
   "id": "782c5938-30af-4c6c-baca-09e39f4ab689",
   "metadata": {},
   "source": [
    "## Get Baseline Logic to Copy GMail Messages to AWS s3"
   ]
  },
  {
   "cell_type": "code",
   "execution_count": 1,
   "id": "faa22725-8514-4b10-b97f-f7caa2286a93",
   "metadata": {},
   "outputs": [],
   "source": [
    "import boto3\n",
    "import pickle\n",
    "\n",
    "\n",
    "def get_creds():\n",
    "    sm_client = boto3.client(\n",
    "        'secretsmanager',\n",
    "        region_name='us-east-1'\n",
    "    )\n",
    "\n",
    "    secret_token = sm_client.get_secret_value(SecretId='gmail_token')['SecretBinary']\n",
    "    creds = pickle.loads(secret_token)\n",
    "    return creds"
   ]
  },
  {
   "cell_type": "code",
   "execution_count": 2,
   "id": "a8b274bb-2bd4-4f06-ab3c-746eaa99a58f",
   "metadata": {},
   "outputs": [],
   "source": [
    "from googleapiclient.discovery import build\n",
    "\n",
    "creds = get_creds()\n",
    "service = build('gmail', 'v1', credentials=creds)"
   ]
  },
  {
   "cell_type": "code",
   "execution_count": 3,
   "id": "1ff11333-e1a3-477f-baff-f5d3ddd9cb0e",
   "metadata": {},
   "outputs": [],
   "source": [
    "users = service.users()"
   ]
  },
  {
   "cell_type": "code",
   "execution_count": 4,
   "id": "6f6bf4cd-6b7f-4a99-895c-0c1fb376e657",
   "metadata": {},
   "outputs": [],
   "source": [
    "def get_job_details(job_name):\n",
    "    dynamodb = boto3.resource('dynamodb')\n",
    "    table = dynamodb.Table('gmail_jobs')\n",
    "    job_details = table.get_item(Key={'job_id': job_name})['Item']\n",
    "    return job_details"
   ]
  },
  {
   "cell_type": "code",
   "execution_count": 5,
   "id": "339b5126-4568-4c96-858f-3b7d169b5eea",
   "metadata": {},
   "outputs": [
    {
     "data": {
      "text/plain": [
       "{'job_description': 'Ingest data from gmail to s3',\n",
       " 'is_active': 'Y',\n",
       " 'job_id': 'gmail_ingest',\n",
       " 'baseline_days': Decimal('45'),\n",
       " 'job_run_bookmark_details': {'last_run_max_message_id': '17e144500cc9efec',\n",
       "  'last_run_start_time_epoch': Decimal('1648492200'),\n",
       "  'last_run_end_time_epoch': Decimal('1648578600')}}"
      ]
     },
     "execution_count": 5,
     "metadata": {},
     "output_type": "execute_result"
    }
   ],
   "source": [
    "job_details = get_job_details('gmail_ingest')\n",
    "job_details"
   ]
  },
  {
   "cell_type": "code",
   "execution_count": 6,
   "id": "47b63ab6-80eb-4fc1-8816-a2e25077bb88",
   "metadata": {},
   "outputs": [
    {
     "data": {
      "text/plain": [
       "Decimal('45')"
      ]
     },
     "execution_count": 6,
     "metadata": {},
     "output_type": "execute_result"
    }
   ],
   "source": [
    "baseline_days = job_details['baseline_days']\n",
    "baseline_days"
   ]
  },
  {
   "cell_type": "code",
   "execution_count": 7,
   "id": "9ce5ba2a-9238-47e6-a663-035313239460",
   "metadata": {},
   "outputs": [],
   "source": [
    "import datetime"
   ]
  },
  {
   "cell_type": "code",
   "execution_count": 8,
   "id": "4fb4244b-5319-4c27-ba3c-4233cccdd9d5",
   "metadata": {},
   "outputs": [
    {
     "data": {
      "text/plain": [
       "datetime.date(2022, 3, 30)"
      ]
     },
     "execution_count": 8,
     "metadata": {},
     "output_type": "execute_result"
    }
   ],
   "source": [
    "start_time = datetime.datetime.now().date() - datetime.timedelta(days=int(baseline_days))\n",
    "start_time"
   ]
  },
  {
   "cell_type": "code",
   "execution_count": 9,
   "id": "e8134bd3-9207-45b7-af2b-e00ad8526abe",
   "metadata": {},
   "outputs": [
    {
     "data": {
      "text/plain": [
       "datetime.date(2022, 3, 31)"
      ]
     },
     "execution_count": 9,
     "metadata": {},
     "output_type": "execute_result"
    }
   ],
   "source": [
    "end_time = start_time + datetime.timedelta(days=1)\n",
    "end_time"
   ]
  },
  {
   "cell_type": "code",
   "execution_count": 10,
   "id": "5bf8f840-4c7f-4b1c-99ee-dfc32bc29727",
   "metadata": {},
   "outputs": [],
   "source": [
    "import time"
   ]
  },
  {
   "cell_type": "code",
   "execution_count": 11,
   "id": "b32cc4d9-2f23-4d64-a78d-28b184dd8d56",
   "metadata": {},
   "outputs": [
    {
     "data": {
      "text/plain": [
       "1648578600"
      ]
     },
     "execution_count": 11,
     "metadata": {},
     "output_type": "execute_result"
    }
   ],
   "source": [
    "start_time_epoch = int(time.mktime(start_time.timetuple()))\n",
    "start_time_epoch"
   ]
  },
  {
   "cell_type": "code",
   "execution_count": 12,
   "id": "50ff8197-5739-49fe-8ba8-4ae526cf32bd",
   "metadata": {},
   "outputs": [
    {
     "data": {
      "text/plain": [
       "1648665000"
      ]
     },
     "execution_count": 12,
     "metadata": {},
     "output_type": "execute_result"
    }
   ],
   "source": [
    "end_time_epoch = int(time.mktime(end_time.timetuple()))   \n",
    "end_time_epoch"
   ]
  },
  {
   "cell_type": "code",
   "execution_count": 13,
   "id": "ae8ee20e-c1ba-4ee0-9326-aa872f905854",
   "metadata": {},
   "outputs": [],
   "source": [
    "job_details = {\n",
    "    'job_id': 'gmail_ingest',\n",
    "    'job_description': 'Ingest data from gmail to s3',\n",
    "    'is_active': 'Y',\n",
    "    'baseline_days': 45,\n",
    "    'job_run_bookmark_details': {\n",
    "        'last_run_max_message_id': '17e144500cc9efec',\n",
    "        'last_run_start_time_epoch': 1648492200,\n",
    "        'last_run_end_time_epoch': 1648578600\n",
    "    }\n",
    "}"
   ]
  },
  {
   "cell_type": "code",
   "execution_count": 14,
   "id": "723b3f72-0bf2-4537-ad3f-46eb69800396",
   "metadata": {},
   "outputs": [],
   "source": [
    "dynamodb = boto3.resource('dynamodb')"
   ]
  },
  {
   "cell_type": "code",
   "execution_count": 15,
   "id": "89afef69-f7fd-464a-90b8-5e3610e48814",
   "metadata": {},
   "outputs": [],
   "source": [
    "table = dynamodb.Table('gmail_jobs')"
   ]
  },
  {
   "cell_type": "code",
   "execution_count": 16,
   "id": "89e7aabf-9b14-4b21-b577-0b63044137f3",
   "metadata": {},
   "outputs": [
    {
     "data": {
      "text/plain": [
       "{'ResponseMetadata': {'RequestId': 'RA3JK774KNTGNEU3252NPTUNM3VV4KQNSO5AEMVJF66Q9ASUAAJG',\n",
       "  'HTTPStatusCode': 200,\n",
       "  'HTTPHeaders': {'server': 'Server',\n",
       "   'date': 'Sat, 14 May 2022 08:01:25 GMT',\n",
       "   'content-type': 'application/x-amz-json-1.0',\n",
       "   'content-length': '2',\n",
       "   'connection': 'keep-alive',\n",
       "   'x-amzn-requestid': 'RA3JK774KNTGNEU3252NPTUNM3VV4KQNSO5AEMVJF66Q9ASUAAJG',\n",
       "   'x-amz-crc32': '2745614147'},\n",
       "  'RetryAttempts': 0}}"
      ]
     },
     "execution_count": 16,
     "metadata": {},
     "output_type": "execute_result"
    }
   ],
   "source": [
    "table.put_item(Item=job_details)"
   ]
  },
  {
   "cell_type": "code",
   "execution_count": 17,
   "id": "74c68453-190b-41b8-a61a-53ab02f9e3dc",
   "metadata": {},
   "outputs": [
    {
     "data": {
      "text/plain": [
       "{'Item': {'job_description': 'Ingest data from gmail to s3',\n",
       "  'is_active': 'Y',\n",
       "  'job_id': 'gmail_ingest',\n",
       "  'baseline_days': Decimal('45'),\n",
       "  'job_run_bookmark_details': {'last_run_max_message_id': '17e144500cc9efec',\n",
       "   'last_run_start_time_epoch': Decimal('1648492200'),\n",
       "   'last_run_end_time_epoch': Decimal('1648578600')}},\n",
       " 'ResponseMetadata': {'RequestId': '379PDCHLUIVP3496LHJBIIEVQBVV4KQNSO5AEMVJF66Q9ASUAAJG',\n",
       "  'HTTPStatusCode': 200,\n",
       "  'HTTPHeaders': {'server': 'Server',\n",
       "   'date': 'Sat, 14 May 2022 08:01:25 GMT',\n",
       "   'content-type': 'application/x-amz-json-1.0',\n",
       "   'content-length': '322',\n",
       "   'connection': 'keep-alive',\n",
       "   'x-amzn-requestid': '379PDCHLUIVP3496LHJBIIEVQBVV4KQNSO5AEMVJF66Q9ASUAAJG',\n",
       "   'x-amz-crc32': '2826147811'},\n",
       "  'RetryAttempts': 0}}"
      ]
     },
     "execution_count": 17,
     "metadata": {},
     "output_type": "execute_result"
    }
   ],
   "source": [
    "table.get_item(Key={'job_id': 'gmail_ingest'})"
   ]
  },
  {
   "cell_type": "code",
   "execution_count": 18,
   "id": "06ad34a4-61e2-411d-95a1-010eca6d1841",
   "metadata": {},
   "outputs": [],
   "source": [
    "job_run_bookmark_details = table.get_item(Key={'job_id': 'gmail_ingest'})['Item']['job_run_bookmark_details']"
   ]
  },
  {
   "cell_type": "code",
   "execution_count": 19,
   "id": "6e44f79a-a44a-4b6b-b881-5f9a4a1941e8",
   "metadata": {},
   "outputs": [
    {
     "data": {
      "text/plain": [
       "{'last_run_max_message_id': '17e144500cc9efec',\n",
       " 'last_run_start_time_epoch': Decimal('1648492200'),\n",
       " 'last_run_end_time_epoch': Decimal('1648578600')}"
      ]
     },
     "execution_count": 19,
     "metadata": {},
     "output_type": "execute_result"
    }
   ],
   "source": [
    "job_run_bookmark_details"
   ]
  },
  {
   "cell_type": "code",
   "execution_count": 20,
   "id": "03d8a7f0-fd91-4e80-8f17-c8a3b6a13ed0",
   "metadata": {},
   "outputs": [],
   "source": [
    "last_run_start_time_epoch = int(job_run_bookmark_details['last_run_start_time_epoch'])"
   ]
  },
  {
   "cell_type": "code",
   "execution_count": 21,
   "id": "f6501447-fd06-4913-81bb-e1790c451a70",
   "metadata": {},
   "outputs": [],
   "source": [
    "last_run_end_time_epoch = int(job_run_bookmark_details['last_run_end_time_epoch'])"
   ]
  },
  {
   "cell_type": "code",
   "execution_count": 22,
   "id": "921271b3-e6e8-4bed-8051-d035fa213427",
   "metadata": {},
   "outputs": [],
   "source": [
    "import datetime"
   ]
  },
  {
   "cell_type": "code",
   "execution_count": 23,
   "id": "a2427a38-0876-4814-854b-c3edb7aad009",
   "metadata": {},
   "outputs": [
    {
     "data": {
      "text/plain": [
       "datetime.timedelta(days=13)"
      ]
     },
     "execution_count": 23,
     "metadata": {},
     "output_type": "execute_result"
    }
   ],
   "source": [
    "datetime.datetime.now().date() - datetime.date(2022, 5, 1)"
   ]
  },
  {
   "cell_type": "code",
   "execution_count": 24,
   "id": "1e8cd44c-65d8-46ca-af25-279fb3fbfe6f",
   "metadata": {},
   "outputs": [
    {
     "data": {
      "text/plain": [
       "datetime.datetime(2022, 3, 30, 0, 0)"
      ]
     },
     "execution_count": 24,
     "metadata": {},
     "output_type": "execute_result"
    }
   ],
   "source": [
    "datetime.datetime.fromtimestamp(last_run_end_time_epoch)"
   ]
  },
  {
   "cell_type": "code",
   "execution_count": 25,
   "id": "e0072943-e35f-432b-be8b-7f25044be9fa",
   "metadata": {},
   "outputs": [],
   "source": [
    "last_run_diff = datetime.datetime.now().date() - datetime.datetime.fromtimestamp(last_run_end_time_epoch).date()"
   ]
  },
  {
   "cell_type": "code",
   "execution_count": 26,
   "id": "426b626e-0498-449f-870e-915849df17b6",
   "metadata": {},
   "outputs": [
    {
     "data": {
      "text/plain": [
       "45"
      ]
     },
     "execution_count": 26,
     "metadata": {},
     "output_type": "execute_result"
    }
   ],
   "source": [
    "last_run_diff.days"
   ]
  },
  {
   "cell_type": "code",
   "execution_count": 27,
   "id": "95f5d28b-a7cc-41a9-88a7-dd79fb0f7e53",
   "metadata": {},
   "outputs": [],
   "source": [
    "if last_run_diff.days > 1:\n",
    "    start_time_epoch = last_run_end_time_epoch\n",
    "    end_time = datetime.datetime.fromtimestamp(start_time_epoch).date() + datetime.timedelta(days=1)\n",
    "    end_time_epoch = int(time.mktime(end_time.timetuple()))\n",
    "else:\n",
    "    start_time_epoch = end_time_epoch\n",
    "    end_time_epoch = int(time.mktime(datetime.datetime.now().timetuple()))"
   ]
  },
  {
   "cell_type": "code",
   "execution_count": 28,
   "id": "31a6f58b-90f8-4f2b-9247-deb18ca1fee6",
   "metadata": {},
   "outputs": [
    {
     "data": {
      "text/plain": [
       "1648578600"
      ]
     },
     "execution_count": 28,
     "metadata": {},
     "output_type": "execute_result"
    }
   ],
   "source": [
    "start_time_epoch"
   ]
  },
  {
   "cell_type": "code",
   "execution_count": 29,
   "id": "864cca57-59b4-4e49-93cb-827156045d99",
   "metadata": {},
   "outputs": [
    {
     "data": {
      "text/plain": [
       "1648665000"
      ]
     },
     "execution_count": 29,
     "metadata": {},
     "output_type": "execute_result"
    }
   ],
   "source": [
    "end_time_epoch"
   ]
  },
  {
   "cell_type": "code",
   "execution_count": 30,
   "id": "8e566ac0-d09a-440d-b8ba-e6c9ee314fea",
   "metadata": {},
   "outputs": [],
   "source": [
    "message_ids = users. \\\n",
    "    messages(). \\\n",
    "    list(\n",
    "        userId='me', \n",
    "        q=f'after:{start_time_epoch} before:{end_time_epoch}'\n",
    "    ). \\\n",
    "    execute()['messages']"
   ]
  },
  {
   "cell_type": "code",
   "execution_count": 31,
   "id": "ebb7b387-fafc-4858-8157-ea14521216a2",
   "metadata": {},
   "outputs": [
    {
     "data": {
      "text/plain": [
       "[{'id': '17fdc0b349836c2f', 'threadId': '17fdc0b349836c2f'},\n",
       " {'id': '17fdc0139bb6ef0e', 'threadId': '17fdc0139bb6ef0e'},\n",
       " {'id': '17fdbf69c6a845ea', 'threadId': '17fdbf69c6a845ea'},\n",
       " {'id': '17fdbd3a5bbc0550', 'threadId': '17fdbd3a5bbc0550'},\n",
       " {'id': '17fdbd0a3a385f4c', 'threadId': '17fdbd0a3a385f4c'},\n",
       " {'id': '17fdbc81ba38885c', 'threadId': '17fdbc81ba38885c'},\n",
       " {'id': '17fdbb8fdc3029e0', 'threadId': '17fdbb8fdc3029e0'},\n",
       " {'id': '17fdbb202cec0aec', 'threadId': '17fdbb202cec0aec'},\n",
       " {'id': '17fdba6487207633', 'threadId': '17fdba6487207633'},\n",
       " {'id': '17fdb9f619d8c36d', 'threadId': '17fdb9f619d8c36d'},\n",
       " {'id': '17fdb9ad57f34dbe', 'threadId': '17fdb9ad57f34dbe'},\n",
       " {'id': '17fdb8185604211e', 'threadId': '17fdb8185604211e'},\n",
       " {'id': '17fdb75066750fce', 'threadId': '17fdb75066750fce'},\n",
       " {'id': '17fdb64366fad0c4', 'threadId': '17fdb64366fad0c4'},\n",
       " {'id': '17fdb4f1cd3f25a7', 'threadId': '17fdb4f1cd3f25a7'},\n",
       " {'id': '17fdb4c53bf4c77b', 'threadId': '17fdb4c53bf4c77b'},\n",
       " {'id': '17fdb383418f4b9e', 'threadId': '17fdb383418f4b9e'},\n",
       " {'id': '17fdb3673b1129aa', 'threadId': '17fdb3673b1129aa'},\n",
       " {'id': '17fdb2e09aa179dd', 'threadId': '17fdb2e09aa179dd'},\n",
       " {'id': '17fdb0ee131eae15', 'threadId': '17fdb0ee131eae15'},\n",
       " {'id': '17fdb0910fc8f59c', 'threadId': '17fdb0910fc8f59c'},\n",
       " {'id': '17fdaffbb26bbc78', 'threadId': '17fdaffbb26bbc78'},\n",
       " {'id': '17fdafac18ed081b', 'threadId': '17fdafac18ed081b'},\n",
       " {'id': '17fdaf6d78b0b0c8', 'threadId': '17fdaf6d78b0b0c8'},\n",
       " {'id': '17fdae3eb9ea5e59', 'threadId': '17fdae3eb9ea5e59'},\n",
       " {'id': '17fdadfee9c768df', 'threadId': '17fdadfee9c768df'},\n",
       " {'id': '17fdadea67b7df66', 'threadId': '17fdadea67b7df66'},\n",
       " {'id': '17fdadcd2a15b915', 'threadId': '17fdadcd2a15b915'},\n",
       " {'id': '17fdaafbe10c0f4c', 'threadId': '17fdaafbe10c0f4c'},\n",
       " {'id': '17fdaa9538f6f03d', 'threadId': '17fdaa9538f6f03d'},\n",
       " {'id': '17fda9715f764dd2', 'threadId': '17fda9715f764dd2'},\n",
       " {'id': '17fda906ca5e92d7', 'threadId': '17fda906ca5e92d7'},\n",
       " {'id': '17fda5ea982020d3', 'threadId': '17fda5ea982020d3'},\n",
       " {'id': '17fda24f7f28bd23', 'threadId': '17fda24f7f28bd23'},\n",
       " {'id': '17fda0cb8586416e', 'threadId': '17fd096154ec821e'},\n",
       " {'id': '17fda05170c74dfc', 'threadId': '17fd096154ec821e'},\n",
       " {'id': '17fd9f63abfd5072', 'threadId': '17fd9f63abfd5072'},\n",
       " {'id': '17fd9d1f0e7a8006', 'threadId': '17fd9d1f0e7a8006'},\n",
       " {'id': '17fd9a513d76178f', 'threadId': '17fd9a513d76178f'},\n",
       " {'id': '17fd999e71eba268', 'threadId': '17fd981c0b2356c0'},\n",
       " {'id': '17fd98c54b9b4b2e', 'threadId': '17fd981c0b2356c0'},\n",
       " {'id': '17fd981c0b2356c0', 'threadId': '17fd981c0b2356c0'},\n",
       " {'id': '17fd959ae30e2439', 'threadId': '17fd959ae30e2439'},\n",
       " {'id': '17fd936c3b08440c', 'threadId': '17fd936c3b08440c'},\n",
       " {'id': '17fd91db27723cff', 'threadId': '17fd91db27723cff'},\n",
       " {'id': '17fd90c7aeaa7c49', 'threadId': '17fd90c7aeaa7c49'},\n",
       " {'id': '17fd8fc9f1c6f871', 'threadId': '17fd8fc9f1c6f871'},\n",
       " {'id': '17fd8e8902622931', 'threadId': '17fd8e8902622931'},\n",
       " {'id': '17fd8c1bfb3c0597', 'threadId': '17fd8c1bfb3c0597'},\n",
       " {'id': '17fd8c1aca67c02e', 'threadId': '17fd8c1aca67c02e'},\n",
       " {'id': '17fd8ad78da0b8c4', 'threadId': '17fd8ad78da0b8c4'},\n",
       " {'id': '17fd88b8796f1b15', 'threadId': '17fd86a387ddd985'},\n",
       " {'id': '17fd87fb9914734c', 'threadId': '17fd87fb9914734c'},\n",
       " {'id': '17fd87acf3223a87', 'threadId': '17fd87acf3223a87'},\n",
       " {'id': '17fd86a387ddd985', 'threadId': '17fd86a387ddd985'},\n",
       " {'id': '17fd858f8aedc444', 'threadId': '17fd858f8aedc444'},\n",
       " {'id': '17fd83eeaec6287d', 'threadId': '17fd83eeaec6287d'},\n",
       " {'id': '17fd83a39a3ff8fd', 'threadId': '17fd83a39a3ff8fd'},\n",
       " {'id': '17fd836a4def64bc', 'threadId': '17fd836a4def64bc'},\n",
       " {'id': '17fd827c80d13fb8', 'threadId': '17fd827c80d13fb8'},\n",
       " {'id': '17fd82791a79633d', 'threadId': '17fd535ecc6c1bdd'},\n",
       " {'id': '17fd7d46e5be7d26', 'threadId': '17fd7d46e5be7d26'},\n",
       " {'id': '17fd7bdd1d475e17', 'threadId': '17fd7bdd1d475e17'},\n",
       " {'id': '17fd7987a2ea534d', 'threadId': '17fd7987a2ea534d'},\n",
       " {'id': '17fd77a97382c3d8', 'threadId': '17fd77a97382c3d8'},\n",
       " {'id': '17fd76fda0650527', 'threadId': '17fd76fda0650527'},\n",
       " {'id': '17fd75695a559f8b', 'threadId': '17fd75695a559f8b'},\n",
       " {'id': '17fd7528a7f568c6', 'threadId': '17fd7528a7f568c6'},\n",
       " {'id': '17fd74cbda3a3723', 'threadId': '17fd74cbda3a3723'},\n",
       " {'id': '17fd73a656b405ca', 'threadId': '17fd73a656b405ca'},\n",
       " {'id': '17fd71827cb08527', 'threadId': '17fd71827cb08527'},\n",
       " {'id': '17fd6fbe4c226ff9', 'threadId': '17fd6fbe4c226ff9'},\n",
       " {'id': '17fd6fba80150a95', 'threadId': '17fd6fba80150a95'}]"
      ]
     },
     "execution_count": 31,
     "metadata": {},
     "output_type": "execute_result"
    }
   ],
   "source": [
    "message_ids"
   ]
  },
  {
   "cell_type": "code",
   "execution_count": null,
   "id": "1da497cc-eee9-4a01-92d9-7d2e5280ed99",
   "metadata": {},
   "outputs": [],
   "source": []
  }
 ],
 "metadata": {
  "kernelspec": {
   "display_name": "Python 3 (ipykernel)",
   "language": "python",
   "name": "python3"
  },
  "language_info": {
   "codemirror_mode": {
    "name": "ipython",
    "version": 3
   },
   "file_extension": ".py",
   "mimetype": "text/x-python",
   "name": "python",
   "nbconvert_exporter": "python",
   "pygments_lexer": "ipython3",
   "version": "3.9.12"
  }
 },
 "nbformat": 4,
 "nbformat_minor": 5
}
