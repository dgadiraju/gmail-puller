{
 "cells": [
  {
   "cell_type": "code",
   "execution_count": null,
   "id": "d53ecb1e-dba7-41d3-8921-34e86627c9a1",
   "metadata": {},
   "outputs": [],
   "source": [
    "import boto3"
   ]
  },
  {
   "cell_type": "code",
   "execution_count": null,
   "id": "a1419b51-8be4-48f9-94e0-7a3013f295bf",
   "metadata": {},
   "outputs": [],
   "source": [
    "sm_client = boto3.client(\n",
    "    'secretsmanager',\n",
    "    region_name='us-east-1'\n",
    ")"
   ]
  },
  {
   "cell_type": "code",
   "execution_count": null,
   "id": "f0b7907c-f437-4749-aa1b-b5ebce8ca9e3",
   "metadata": {},
   "outputs": [],
   "source": [
    "sm_client.list_secrets()"
   ]
  },
  {
   "cell_type": "code",
   "execution_count": null,
   "id": "c484ac9b-8f49-4817-bdc9-72b89bc1a83d",
   "metadata": {},
   "outputs": [],
   "source": [
    "sm_client.create_secret?"
   ]
  },
  {
   "cell_type": "code",
   "execution_count": null,
   "id": "d7d23ab0-6abf-4d95-ae65-91ab1498927a",
   "metadata": {},
   "outputs": [],
   "source": [
    "token = open('/gmail-puller/.credentials/token.pickle', 'rb').read()"
   ]
  },
  {
   "cell_type": "code",
   "execution_count": null,
   "id": "6a6244e3-0d0d-4999-ba92-6002a2139c2d",
   "metadata": {},
   "outputs": [],
   "source": [
    "sm_client.create_secret(\n",
    "    Name='gmail_token',\n",
    "    SecretBinary=token\n",
    ")"
   ]
  },
  {
   "cell_type": "code",
   "execution_count": null,
   "id": "516d5b95-a72a-4c0c-a36c-b130c2e51711",
   "metadata": {},
   "outputs": [],
   "source": [
    "sm_client.update_secret(\n",
    "    SecretId='gmail_token',\n",
    "    SecretBinary=token\n",
    ")"
   ]
  },
  {
   "cell_type": "code",
   "execution_count": null,
   "id": "87ab1858-28bd-487f-b054-3ef23abdc3ad",
   "metadata": {},
   "outputs": [],
   "source": [
    "sm_client.get_secret_value?"
   ]
  },
  {
   "cell_type": "code",
   "execution_count": null,
   "id": "039ab43d-7bda-477a-a963-2978d3d58481",
   "metadata": {},
   "outputs": [],
   "source": [
    "secret_token = sm_client.get_secret_value(SecretId='gmail_token')['SecretBinary']"
   ]
  },
  {
   "cell_type": "code",
   "execution_count": null,
   "id": "95b15a6a-7848-49da-ba90-83722612b188",
   "metadata": {},
   "outputs": [],
   "source": [
    "import pickle"
   ]
  },
  {
   "cell_type": "code",
   "execution_count": null,
   "id": "fc8a7841-531c-45d6-9240-a4b7241b50ea",
   "metadata": {},
   "outputs": [],
   "source": [
    "creds = pickle.loads(secret_token)"
   ]
  },
  {
   "cell_type": "code",
   "execution_count": null,
   "id": "153548f1-bc2a-4c8f-96c7-69ea4cc6887c",
   "metadata": {},
   "outputs": [],
   "source": [
    "creds"
   ]
  },
  {
   "cell_type": "code",
   "execution_count": null,
   "id": "044c9676-cc85-4225-a84d-45ea7308258e",
   "metadata": {},
   "outputs": [],
   "source": [
    "from googleapiclient.discovery import build"
   ]
  },
  {
   "cell_type": "code",
   "execution_count": null,
   "id": "c300f0da-c8c0-4da9-b5d1-d9a9fe1dfd63",
   "metadata": {},
   "outputs": [],
   "source": [
    "service = build('gmail', 'v1', credentials=creds)"
   ]
  },
  {
   "cell_type": "code",
   "execution_count": null,
   "id": "1ff11333-e1a3-477f-baff-f5d3ddd9cb0e",
   "metadata": {},
   "outputs": [],
   "source": [
    "users = service.users()"
   ]
  },
  {
   "cell_type": "code",
   "execution_count": null,
   "id": "d8d5bf49-476f-41dc-82a2-c9c041752a6d",
   "metadata": {},
   "outputs": [],
   "source": [
    "messages = users.messages().list(userId='me').execute()"
   ]
  },
  {
   "cell_type": "code",
   "execution_count": null,
   "id": "359bfd6b-3a14-4053-ab5e-c5fdff4d0187",
   "metadata": {},
   "outputs": [],
   "source": [
    "messages"
   ]
  },
  {
   "cell_type": "code",
   "execution_count": null,
   "id": "61661801-f7f4-4a44-a753-dad17a671290",
   "metadata": {},
   "outputs": [],
   "source": []
  }
 ],
 "metadata": {
  "kernelspec": {
   "display_name": "Python 3 (ipykernel)",
   "language": "python",
   "name": "python3"
  },
  "language_info": {
   "codemirror_mode": {
    "name": "ipython",
    "version": 3
   },
   "file_extension": ".py",
   "mimetype": "text/x-python",
   "name": "python",
   "nbconvert_exporter": "python",
   "pygments_lexer": "ipython3",
   "version": "3.9.12"
  }
 },
 "nbformat": 4,
 "nbformat_minor": 5
}
