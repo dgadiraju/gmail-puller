{
 "cells": [
  {
   "cell_type": "markdown",
   "id": "c8070999-2764-4fc3-bec1-4e47043cc302",
   "metadata": {},
   "source": [
    "## Managing s3 using Python boto3"
   ]
  },
  {
   "cell_type": "code",
   "execution_count": 2,
   "id": "57ffb414-6f23-43c7-bbd0-6472bc6fe6cd",
   "metadata": {},
   "outputs": [],
   "source": [
    "import boto3"
   ]
  },
  {
   "cell_type": "code",
   "execution_count": 3,
   "id": "3d7afb8d-a491-425c-8f39-29e7fcc0fe87",
   "metadata": {},
   "outputs": [],
   "source": [
    "s3_client = boto3.client('s3')"
   ]
  },
  {
   "cell_type": "code",
   "execution_count": 4,
   "id": "2b6c3ff2-21b1-49bf-a45f-9e471ff2a5f2",
   "metadata": {},
   "outputs": [
    {
     "data": {
      "text/plain": [
       "{'ResponseMetadata': {'RequestId': 'RWF8KA9Q6W3JXZ11',\n",
       "  'HostId': 'x9lIpDnW00EKHzbzW/JoB1EKijosazZGW3x1jkCuqbuz6VkWeXSnxG4r3UsCu+sg0Sy9S61zdS4=',\n",
       "  'HTTPStatusCode': 200,\n",
       "  'HTTPHeaders': {'x-amz-id-2': 'x9lIpDnW00EKHzbzW/JoB1EKijosazZGW3x1jkCuqbuz6VkWeXSnxG4r3UsCu+sg0Sy9S61zdS4=',\n",
       "   'x-amz-request-id': 'RWF8KA9Q6W3JXZ11',\n",
       "   'date': 'Thu, 12 May 2022 04:12:47 GMT',\n",
       "   'content-type': 'application/xml',\n",
       "   'transfer-encoding': 'chunked',\n",
       "   'server': 'AmazonS3'},\n",
       "  'RetryAttempts': 0},\n",
       " 'Buckets': [{'Name': 'ask-dg.com',\n",
       "   'CreationDate': datetime.datetime(2016, 11, 30, 9, 17, 19, tzinfo=tzutc())},\n",
       "  {'Name': 'aws-cloudtrail-logs-582845781536-85a675a2',\n",
       "   'CreationDate': datetime.datetime(2020, 11, 22, 6, 41, 36, tzinfo=tzutc())},\n",
       "  {'Name': 'aws-emr-resources-582845781536-us-east-1',\n",
       "   'CreationDate': datetime.datetime(2020, 8, 27, 14, 41, 4, tzinfo=tzutc())},\n",
       "  {'Name': 'aws-glue-assets-582845781536-us-east-1',\n",
       "   'CreationDate': datetime.datetime(2020, 10, 15, 17, 2, 19, tzinfo=tzutc())},\n",
       "  {'Name': 'aws-glue-scripts-582845781536-us-east-1',\n",
       "   'CreationDate': datetime.datetime(2021, 1, 21, 13, 9, 53, tzinfo=tzutc())},\n",
       "  {'Name': 'aws-glue-temporary-582845781536-us-east-1',\n",
       "   'CreationDate': datetime.datetime(2021, 1, 21, 13, 9, 54, tzinfo=tzutc())},\n",
       "  {'Name': 'aws-logs-582845781536-us-east-1',\n",
       "   'CreationDate': datetime.datetime(2017, 6, 30, 5, 28, 52, tzinfo=tzutc())},\n",
       "  {'Name': 'aws-logs-582845781536-us-east-2',\n",
       "   'CreationDate': datetime.datetime(2018, 8, 11, 2, 34, 2, tzinfo=tzutc())},\n",
       "  {'Name': 'bdclouddemo',\n",
       "   'CreationDate': datetime.datetime(2018, 8, 12, 16, 44, 22, tzinfo=tzutc())},\n",
       "  {'Name': 'bigdata-labs.com',\n",
       "   'CreationDate': datetime.datetime(2017, 1, 21, 9, 9, 28, tzinfo=tzutc())},\n",
       "  {'Name': 'cf-templates-vzbtvucmbltn-us-east-1',\n",
       "   'CreationDate': datetime.datetime(2021, 3, 16, 1, 38, 14, tzinfo=tzutc())},\n",
       "  {'Name': 'corpitversity',\n",
       "   'CreationDate': datetime.datetime(2017, 7, 6, 23, 56, 55, tzinfo=tzutc())},\n",
       "  {'Name': 'default-query-results-582845781536-us-east-1',\n",
       "   'CreationDate': datetime.datetime(2021, 9, 23, 23, 3, 47, tzinfo=tzutc())},\n",
       "  {'Name': 'emrlabs',\n",
       "   'CreationDate': datetime.datetime(2018, 2, 6, 19, 42, 32, tzinfo=tzutc())},\n",
       "  {'Name': 'itc-app-images',\n",
       "   'CreationDate': datetime.datetime(2019, 10, 1, 4, 56, 24, tzinfo=tzutc())},\n",
       "  {'Name': 'itc-course-images',\n",
       "   'CreationDate': datetime.datetime(2019, 9, 18, 11, 31, 29, tzinfo=tzutc())},\n",
       "  {'Name': 'itc-course-images-uat',\n",
       "   'CreationDate': datetime.datetime(2019, 10, 1, 4, 46, 36, tzinfo=tzutc())},\n",
       "  {'Name': 'itc-uat-images',\n",
       "   'CreationDate': datetime.datetime(2019, 10, 1, 4, 49, 17, tzinfo=tzutc())},\n",
       "  {'Name': 'itv-app-images',\n",
       "   'CreationDate': datetime.datetime(2019, 10, 1, 5, 0, 59, tzinfo=tzutc())},\n",
       "  {'Name': 'itv-bls-data',\n",
       "   'CreationDate': datetime.datetime(2021, 4, 11, 17, 7, 19, tzinfo=tzutc())},\n",
       "  {'Name': 'itv-dg-sf-sandbox',\n",
       "   'CreationDate': datetime.datetime(2021, 3, 10, 21, 20, 41, tzinfo=tzutc())},\n",
       "  {'Name': 'itv-flights',\n",
       "   'CreationDate': datetime.datetime(2021, 1, 23, 7, 17, 30, tzinfo=tzutc())},\n",
       "  {'Name': 'itv-genlogs',\n",
       "   'CreationDate': datetime.datetime(2021, 1, 19, 0, 54, 16, tzinfo=tzutc())},\n",
       "  {'Name': 'itv-github',\n",
       "   'CreationDate': datetime.datetime(2021, 1, 23, 0, 20, 56, tzinfo=tzutc())},\n",
       "  {'Name': 'itv-github-db',\n",
       "   'CreationDate': datetime.datetime(2021, 2, 5, 23, 41, 39, tzinfo=tzutc())},\n",
       "  {'Name': 'itv-github-emr',\n",
       "   'CreationDate': datetime.datetime(2021, 10, 20, 20, 45, 41, tzinfo=tzutc())},\n",
       "  {'Name': 'itv-jupyterlogs',\n",
       "   'CreationDate': datetime.datetime(2021, 1, 12, 12, 41, 1, tzinfo=tzutc())},\n",
       "  {'Name': 'itv-perfdemo',\n",
       "   'CreationDate': datetime.datetime(2021, 12, 28, 14, 31, 43, tzinfo=tzutc())},\n",
       "  {'Name': 'itv-retail',\n",
       "   'CreationDate': datetime.datetime(2021, 1, 26, 4, 7, 22, tzinfo=tzutc())},\n",
       "  {'Name': 'itv-retail-af',\n",
       "   'CreationDate': datetime.datetime(2021, 10, 17, 13, 42, 10, tzinfo=tzutc())},\n",
       "  {'Name': 'itv-sfdc',\n",
       "   'CreationDate': datetime.datetime(2021, 3, 19, 19, 22, 30, tzinfo=tzutc())},\n",
       "  {'Name': 'itvathena',\n",
       "   'CreationDate': datetime.datetime(2021, 1, 23, 7, 5, 22, tzinfo=tzutc())},\n",
       "  {'Name': 'itvcdp',\n",
       "   'CreationDate': datetime.datetime(2021, 1, 6, 18, 57, 51, tzinfo=tzutc())},\n",
       "  {'Name': 'itvdbdemo',\n",
       "   'CreationDate': datetime.datetime(2022, 4, 14, 0, 43, 55, tzinfo=tzutc())},\n",
       "  {'Name': 'itvdemo',\n",
       "   'CreationDate': datetime.datetime(2021, 1, 11, 4, 59, 56, tzinfo=tzutc())},\n",
       "  {'Name': 'itversity',\n",
       "   'CreationDate': datetime.datetime(2016, 10, 30, 4, 6, 27, tzinfo=tzutc())},\n",
       "  {'Name': 'itversity-databricks',\n",
       "   'CreationDate': datetime.datetime(2019, 8, 15, 5, 6, 55, tzinfo=tzutc())},\n",
       "  {'Name': 'itversity-databricks-data',\n",
       "   'CreationDate': datetime.datetime(2019, 9, 27, 15, 38, 28, tzinfo=tzutc())},\n",
       "  {'Name': 'itversity-student-enroll',\n",
       "   'CreationDate': datetime.datetime(2018, 5, 10, 18, 49, 3, tzinfo=tzutc())},\n",
       "  {'Name': 'itversitydata',\n",
       "   'CreationDate': datetime.datetime(2017, 7, 1, 0, 48, 3, tzinfo=tzutc())},\n",
       "  {'Name': 'itvyelpws',\n",
       "   'CreationDate': datetime.datetime(2022, 3, 15, 6, 41, 29, tzinfo=tzutc())},\n",
       "  {'Name': 'kaizen.itversity.com',\n",
       "   'CreationDate': datetime.datetime(2021, 1, 7, 16, 10, 18, tzinfo=tzutc())},\n",
       "  {'Name': 'labs.itversity.com',\n",
       "   'CreationDate': datetime.datetime(2017, 1, 21, 5, 58, 18, tzinfo=tzutc())},\n",
       "  {'Name': 'notifyme.itversity.com',\n",
       "   'CreationDate': datetime.datetime(2019, 8, 17, 3, 55, 20, tzinfo=tzutc())},\n",
       "  {'Name': 'pdcdemo',\n",
       "   'CreationDate': datetime.datetime(2019, 3, 16, 8, 34, 1, tzinfo=tzutc())},\n",
       "  {'Name': 'sagemaker-studio-582845781536-9v4ju6z8cva',\n",
       "   'CreationDate': datetime.datetime(2022, 3, 23, 18, 13, 54, tzinfo=tzutc())},\n",
       "  {'Name': 'sagemaker-studio-tnekkg7j28',\n",
       "   'CreationDate': datetime.datetime(2022, 3, 12, 11, 42, 34, tzinfo=tzutc())},\n",
       "  {'Name': 'sagemaker-us-east-1-582845781536',\n",
       "   'CreationDate': datetime.datetime(2022, 3, 12, 12, 24, 28, tzinfo=tzutc())},\n",
       "  {'Name': 'serverless-flask-dev-serverlessdeploymentbucket-1dfhx4iqi1ffx',\n",
       "   'CreationDate': datetime.datetime(2021, 6, 6, 1, 54, 52, tzinfo=tzutc())},\n",
       "  {'Name': 'tr-flights',\n",
       "   'CreationDate': datetime.datetime(2021, 2, 16, 12, 11, 46, tzinfo=tzutc())},\n",
       "  {'Name': 'tr-github',\n",
       "   'CreationDate': datetime.datetime(2021, 2, 16, 16, 45, 43, tzinfo=tzutc())},\n",
       "  {'Name': 'uat.bigdata-labs.com',\n",
       "   'CreationDate': datetime.datetime(2017, 1, 17, 18, 35, 54, tzinfo=tzutc())},\n",
       "  {'Name': 'uatlabs.itversity.com',\n",
       "   'CreationDate': datetime.datetime(2017, 1, 17, 18, 36, 31, tzinfo=tzutc())},\n",
       "  {'Name': 'usingboto3',\n",
       "   'CreationDate': datetime.datetime(2018, 12, 2, 6, 18, 9, tzinfo=tzutc())},\n",
       "  {'Name': 'www.bigdata-labs.com',\n",
       "   'CreationDate': datetime.datetime(2017, 1, 21, 9, 10, 36, tzinfo=tzutc())},\n",
       "  {'Name': 'www.itversity.com',\n",
       "   'CreationDate': datetime.datetime(2017, 1, 26, 1, 1, 38, tzinfo=tzutc())}],\n",
       " 'Owner': {'DisplayName': 'dgadiraju',\n",
       "  'ID': 'af3f4735121b445e3ce11fbf7c9260feee5879b1e45e0b6142690bc5065c78a1'}}"
      ]
     },
     "execution_count": 4,
     "metadata": {},
     "output_type": "execute_result"
    }
   ],
   "source": [
    "s3_client.list_buckets()"
   ]
  },
  {
   "cell_type": "code",
   "execution_count": 5,
   "id": "800f1ca8-2410-441d-ad7f-bb257daf77aa",
   "metadata": {},
   "outputs": [],
   "source": [
    "buckets = s3_client.list_buckets()['Buckets']"
   ]
  },
  {
   "cell_type": "code",
   "execution_count": 9,
   "id": "299e5541-94ae-4a01-a969-137e785e7513",
   "metadata": {},
   "outputs": [
    {
     "data": {
      "text/plain": [
       "56"
      ]
     },
     "execution_count": 9,
     "metadata": {},
     "output_type": "execute_result"
    }
   ],
   "source": [
    "len(buckets)"
   ]
  },
  {
   "cell_type": "code",
   "execution_count": 10,
   "id": "367a23ae-e13d-4d09-b448-354b4e5d6da4",
   "metadata": {},
   "outputs": [
    {
     "name": "stdin",
     "output_type": "stream",
     "text": [
      "Enter 2 character unique prefix for your bucket:  dg\n"
     ]
    }
   ],
   "source": [
    "bucket_prefix = input('Enter 2 character unique prefix for your bucket: ')"
   ]
  },
  {
   "cell_type": "code",
   "execution_count": 11,
   "id": "08f878ef-5e74-46a7-86c7-afde2130fab0",
   "metadata": {},
   "outputs": [
    {
     "data": {
      "text/plain": [
       "{'ResponseMetadata': {'RequestId': '5GR05PHJPA6FTMB6',\n",
       "  'HostId': 'c5P5bVPdTlfkfDCaKDHRsNlJpo+lfxdeSxY813l2YNERzwNKQFlr/up6bekyje3jAvuXSI55Qng=',\n",
       "  'HTTPStatusCode': 200,\n",
       "  'HTTPHeaders': {'x-amz-id-2': 'c5P5bVPdTlfkfDCaKDHRsNlJpo+lfxdeSxY813l2YNERzwNKQFlr/up6bekyje3jAvuXSI55Qng=',\n",
       "   'x-amz-request-id': '5GR05PHJPA6FTMB6',\n",
       "   'date': 'Thu, 12 May 2022 04:15:48 GMT',\n",
       "   'location': '/dggmailpuller',\n",
       "   'server': 'AmazonS3',\n",
       "   'content-length': '0'},\n",
       "  'RetryAttempts': 0},\n",
       " 'Location': '/dggmailpuller'}"
      ]
     },
     "execution_count": 11,
     "metadata": {},
     "output_type": "execute_result"
    }
   ],
   "source": [
    "s3_client.create_bucket(Bucket=f'{bucket_prefix}gmailpuller')"
   ]
  },
  {
   "cell_type": "code",
   "execution_count": null,
   "id": "5356e5a2-9ce9-4c94-beba-792e4c313f77",
   "metadata": {},
   "outputs": [],
   "source": [
    "s3_client.list_objects?"
   ]
  },
  {
   "cell_type": "code",
   "execution_count": 12,
   "id": "717ad54f-cc0f-43a7-b039-a022b97a6e37",
   "metadata": {},
   "outputs": [
    {
     "data": {
      "text/plain": [
       "{'ResponseMetadata': {'RequestId': 'RNKQHKCYWFDJ35RH',\n",
       "  'HostId': '2KaUM4tNve9Ah7eKE3t1+5w2cVOaV7FZ07eRlTQ/3+VEGi5ynayIj7KHGGkYsDgTj5S7WbKe1aM=',\n",
       "  'HTTPStatusCode': 200,\n",
       "  'HTTPHeaders': {'x-amz-id-2': '2KaUM4tNve9Ah7eKE3t1+5w2cVOaV7FZ07eRlTQ/3+VEGi5ynayIj7KHGGkYsDgTj5S7WbKe1aM=',\n",
       "   'x-amz-request-id': 'RNKQHKCYWFDJ35RH',\n",
       "   'date': 'Thu, 12 May 2022 04:16:12 GMT',\n",
       "   'x-amz-bucket-region': 'us-east-1',\n",
       "   'content-type': 'application/xml',\n",
       "   'transfer-encoding': 'chunked',\n",
       "   'server': 'AmazonS3'},\n",
       "  'RetryAttempts': 0},\n",
       " 'IsTruncated': False,\n",
       " 'Marker': '',\n",
       " 'Name': 'dggmailpuller',\n",
       " 'Prefix': '',\n",
       " 'MaxKeys': 1000,\n",
       " 'EncodingType': 'url'}"
      ]
     },
     "execution_count": 12,
     "metadata": {},
     "output_type": "execute_result"
    }
   ],
   "source": [
    "s3_client.list_objects(\n",
    "    Bucket=f'{bucket_prefix}gmailpuller'\n",
    ")"
   ]
  },
  {
   "cell_type": "markdown",
   "id": "a8d9f6cf-9e51-440e-81e2-183101e210e0",
   "metadata": {},
   "source": [
    "* All the boto3 API calls return JSON Payload in the form of Python Dict.\n",
    "* You need to understand the structure of the dict and use required APIs to process the data further."
   ]
  },
  {
   "cell_type": "code",
   "execution_count": null,
   "id": "20787c3d-237f-473c-b410-31265652238b",
   "metadata": {},
   "outputs": [],
   "source": [
    "import pandas as pd"
   ]
  },
  {
   "cell_type": "code",
   "execution_count": null,
   "id": "1c5c2e81-a0cd-415f-a775-01101b43e592",
   "metadata": {},
   "outputs": [],
   "source": [
    "df = pd.read_json(\n",
    "    's3://itversitydata/messages/part-30dca87c-cdcb-11ec-b716-3e22fbd03f7b.json',\n",
    "    lines=True\n",
    ")"
   ]
  },
  {
   "cell_type": "markdown",
   "id": "72b35b72-f416-419b-b044-5e9ff97160e2",
   "metadata": {},
   "source": [
    "Here are some of the key interview topics on s3:\n",
    "* s3 Event Triggers\n",
    "* API Limits\n",
    "* s3 Buckets and Objects (folders and files are considered as objects). s3 is also known as object store.\n",
    "* Cross region replication\n",
    "* Reading and writing files or s3 objects\n",
    "* Prefix (keyword argument) used in API Calls"
   ]
  },
  {
   "cell_type": "code",
   "execution_count": null,
   "id": "3746cb66-8d8d-4449-aa98-21496dbd9101",
   "metadata": {},
   "outputs": [],
   "source": []
  }
 ],
 "metadata": {
  "kernelspec": {
   "display_name": "Python 3 (ipykernel)",
   "language": "python",
   "name": "python3"
  },
  "language_info": {
   "codemirror_mode": {
    "name": "ipython",
    "version": 3
   },
   "file_extension": ".py",
   "mimetype": "text/x-python",
   "name": "python",
   "nbconvert_exporter": "python",
   "pygments_lexer": "ipython3",
   "version": "3.9.12"
  }
 },
 "nbformat": 4,
 "nbformat_minor": 5
}
