{
 "cells": [
  {
   "cell_type": "code",
   "execution_count": 1,
   "id": "faa22725-8514-4b10-b97f-f7caa2286a93",
   "metadata": {},
   "outputs": [],
   "source": [
    "import boto3\n",
    "import pickle\n",
    "\n",
    "\n",
    "def get_creds():\n",
    "    sm_client = boto3.client(\n",
    "        'secretsmanager',\n",
    "        region_name='us-east-1'\n",
    "    )\n",
    "\n",
    "    secret_token = sm_client.get_secret_value(SecretId='gmail_token')['SecretBinary']\n",
    "    creds = pickle.loads(secret_token)\n",
    "    return creds"
   ]
  },
  {
   "cell_type": "code",
   "execution_count": 2,
   "id": "a8b274bb-2bd4-4f06-ab3c-746eaa99a58f",
   "metadata": {},
   "outputs": [],
   "source": [
    "from googleapiclient.discovery import build\n",
    "\n",
    "creds = get_creds()\n",
    "service = build('gmail', 'v1', credentials=creds)"
   ]
  },
  {
   "cell_type": "code",
   "execution_count": 3,
   "id": "1ff11333-e1a3-477f-baff-f5d3ddd9cb0e",
   "metadata": {},
   "outputs": [],
   "source": [
    "users = service.users()"
   ]
  },
  {
   "cell_type": "code",
   "execution_count": 4,
   "id": "195e023d-d922-48b2-8ae1-d26072fda9d6",
   "metadata": {},
   "outputs": [],
   "source": [
    "dynamodb = boto3.resource('dynamodb')"
   ]
  },
  {
   "cell_type": "code",
   "execution_count": 5,
   "id": "b891db08-15ee-4404-8aed-3cb008461688",
   "metadata": {},
   "outputs": [],
   "source": [
    "table = dynamodb.Table('gmail_jobs')"
   ]
  },
  {
   "cell_type": "code",
   "execution_count": 6,
   "id": "0e92da64-c775-479a-bf28-7b1ccb5ad80e",
   "metadata": {},
   "outputs": [],
   "source": [
    "item = {\n",
    "    'job_id': 'gmail_ingest',\n",
    "    'job_description': 'Ingest data from gmail to s3',\n",
    "    'is_active': 'Y',\n",
    "    'baseline_days': 45\n",
    "}"
   ]
  },
  {
   "cell_type": "code",
   "execution_count": 7,
   "id": "7cea295b-9382-4709-b375-2202bee5ab8c",
   "metadata": {},
   "outputs": [
    {
     "data": {
      "text/plain": [
       "{'ResponseMetadata': {'RequestId': 'DJFFKGVR9GONHIOOUHTC3QA74FVV4KQNSO5AEMVJF66Q9ASUAAJG',\n",
       "  'HTTPStatusCode': 200,\n",
       "  'HTTPHeaders': {'server': 'Server',\n",
       "   'date': 'Sat, 14 May 2022 08:13:35 GMT',\n",
       "   'content-type': 'application/x-amz-json-1.0',\n",
       "   'content-length': '2',\n",
       "   'connection': 'keep-alive',\n",
       "   'x-amzn-requestid': 'DJFFKGVR9GONHIOOUHTC3QA74FVV4KQNSO5AEMVJF66Q9ASUAAJG',\n",
       "   'x-amz-crc32': '2745614147'},\n",
       "  'RetryAttempts': 0}}"
      ]
     },
     "execution_count": 7,
     "metadata": {},
     "output_type": "execute_result"
    }
   ],
   "source": [
    "table.put_item(Item=item)"
   ]
  },
  {
   "cell_type": "code",
   "execution_count": 8,
   "id": "6f6bf4cd-6b7f-4a99-895c-0c1fb376e657",
   "metadata": {},
   "outputs": [],
   "source": [
    "def get_job_details(job_name):\n",
    "    dynamodb = boto3.resource('dynamodb')\n",
    "    table = dynamodb.Table('gmail_jobs')\n",
    "    job_details = table.get_item(Key={'job_id': job_name})['Item']\n",
    "    return job_details"
   ]
  },
  {
   "cell_type": "code",
   "execution_count": 9,
   "id": "19b1be46-f35e-497a-ad7d-821d6fd4c8e2",
   "metadata": {},
   "outputs": [],
   "source": [
    "import datetime\n",
    "import time\n",
    "\n",
    "def get_job_run_time_range(job_details):\n",
    "    job_start_time = int(time.mktime(datetime.datetime.now().timetuple()))\n",
    "    if job_details.get('job_run_bookmark_details'):\n",
    "        job_run_bookmark_details = job_details.get('job_run_bookmark_details')\n",
    "        last_run_start_time_epoch = int(job_run_bookmark_details['last_run_start_time_epoch'])\n",
    "        last_run_end_time_epoch = int(job_run_bookmark_details['last_run_end_time_epoch'])\n",
    "        last_run_diff = datetime.datetime.now().date() - datetime.datetime.fromtimestamp(last_run_end_time_epoch).date()\n",
    "        if last_run_diff.days > 1:\n",
    "            start_time_epoch = last_run_end_time_epoch\n",
    "            end_time = datetime.datetime.fromtimestamp(last_run_end_time_epoch).date() + datetime.timedelta(days=1)\n",
    "            end_time_epoch = int(time.mktime(end_time.timetuple()))\n",
    "        else:\n",
    "            start_time_epoch = last_run_end_time_epoch\n",
    "            end_time_epoch = int(time.mktime(datetime.datetime.now().timetuple()))  \n",
    "    else:\n",
    "        baseline_days = int(job_details['baseline_days'])\n",
    "        start_time = datetime.datetime.now().date() - datetime.timedelta(days=int(baseline_days))\n",
    "        end_time = start_time + datetime.timedelta(days=1)\n",
    "        start_time_epoch = int(time.mktime(start_time.timetuple()))\n",
    "        end_time_epoch = int(time.mktime(end_time.timetuple()))\n",
    "    return job_start_time, start_time_epoch, end_time_epoch"
   ]
  },
  {
   "cell_type": "code",
   "execution_count": 10,
   "id": "95f5d28b-a7cc-41a9-88a7-dd79fb0f7e53",
   "metadata": {},
   "outputs": [],
   "source": [
    "job_details = get_job_details('gmail_ingest')"
   ]
  },
  {
   "cell_type": "code",
   "execution_count": 11,
   "id": "eb8910ff-896f-4514-9db0-6137dd3f72d0",
   "metadata": {},
   "outputs": [
    {
     "data": {
      "text/plain": [
       "(1652516060, 1648578600, 1648665000)"
      ]
     },
     "execution_count": 11,
     "metadata": {},
     "output_type": "execute_result"
    }
   ],
   "source": [
    "job_start_time, start_time_epoch, end_time_epoch = get_job_run_time_range(job_details)\n",
    "(job_start_time, start_time_epoch, end_time_epoch)"
   ]
  },
  {
   "cell_type": "code",
   "execution_count": 12,
   "id": "a6f1844d-5ec6-444a-b42a-8e0f14943315",
   "metadata": {},
   "outputs": [],
   "source": [
    "import boto3\n",
    "\n",
    "sm_client = boto3.client(\n",
    "    'secretsmanager',\n",
    "    region_name='us-east-1'\n",
    ")\n",
    "\n",
    "secret_token = sm_client.get_secret_value(SecretId='gmail_token')['SecretBinary']"
   ]
  },
  {
   "cell_type": "code",
   "execution_count": 13,
   "id": "8773d610-df85-402e-a17e-e71815017f9b",
   "metadata": {},
   "outputs": [],
   "source": [
    "import pickle\n",
    "\n",
    "creds = pickle.loads(secret_token)\n",
    "\n",
    "from googleapiclient.discovery import build\n",
    "\n",
    "service = build('gmail', 'v1', credentials=creds)"
   ]
  },
  {
   "cell_type": "code",
   "execution_count": 18,
   "id": "8550545d-089a-4459-aad6-8066f1008aee",
   "metadata": {},
   "outputs": [],
   "source": [
    "def get_message_ids(start_time_epoch, end_time_epoch):\n",
    "    message_ids = []\n",
    "    next_page_token = None\n",
    "\n",
    "    users = service.users()\n",
    "    while True:\n",
    "        if next_page_token:\n",
    "            print(f'Processing in range between {start_time_epoch} and {end_time_epoch} using token {next_page_token}')\n",
    "            messages = users. \\\n",
    "                messages(). \\\n",
    "                list(\n",
    "                    userId='me', \n",
    "                    q=f'after:{start_time_epoch} before:{end_time_epoch}',\n",
    "                    pageToken=next_page_token\n",
    "                ). \\\n",
    "                execute()\n",
    "            message_ids += messages['messages']\n",
    "            next_page_token = messages.get('nextPageToken')\n",
    "        else:\n",
    "            print(f'Processing in range between {start_time_epoch} and {end_time_epoch}')\n",
    "            messages = users. \\\n",
    "                messages(). \\\n",
    "                list(\n",
    "                    userId='me', \n",
    "                    q=f'after:{start_time_epoch} before:{end_time_epoch}'\n",
    "                ). \\\n",
    "                execute()\n",
    "            message_ids = messages['messages']\n",
    "            next_page_token = messages.get('nextPageToken')\n",
    "        if next_page_token == None:\n",
    "            break\n",
    "    return message_ids"
   ]
  },
  {
   "cell_type": "code",
   "execution_count": 19,
   "id": "60c9f9b3-bbcb-4e16-ada8-3ee9860fca25",
   "metadata": {},
   "outputs": [],
   "source": [
    "import pandas as pd\n",
    "\n",
    "def get_messages(message_ids):\n",
    "    messages = []\n",
    "    for message_id in message_ids:\n",
    "        message = users.messages().get(userId='me', id=message_id['id']).execute()\n",
    "        messages.append(message)\n",
    "    return pd.DataFrame(messages)"
   ]
  },
  {
   "cell_type": "code",
   "execution_count": 20,
   "id": "24617119-3092-4f29-b88c-f5de55eeefc8",
   "metadata": {},
   "outputs": [],
   "source": [
    "import uuid\n",
    "\n",
    "\n",
    "def write_messages_to_s3(messages_df, s3_bucket, s3_prefix):\n",
    "    messages_df.to_json(f's3://{s3_bucket}/{s3_prefix}/part-{uuid.uuid1()}.json', orient='records', lines=True)\n",
    "    print(f'Successfully saved messages to s3://{s3_bucket}/{s3_prefix}/part-{uuid.uuid1()}.json')"
   ]
  },
  {
   "cell_type": "code",
   "execution_count": 21,
   "id": "4c923e26-87ff-4a69-8fa0-03265906f2df",
   "metadata": {},
   "outputs": [
    {
     "name": "stdout",
     "output_type": "stream",
     "text": [
      "Processing in range between 1648578600 and 1648665000\n"
     ]
    }
   ],
   "source": [
    "message_ids = get_message_ids(start_time_epoch, end_time_epoch)"
   ]
  },
  {
   "cell_type": "code",
   "execution_count": 22,
   "id": "3d6eab3e-58d2-47b9-bb41-0eb12d9c194e",
   "metadata": {},
   "outputs": [],
   "source": [
    "messages = get_messages(message_ids)"
   ]
  },
  {
   "cell_type": "code",
   "execution_count": 1,
   "id": "9da72309-8b42-4f58-9c57-c3340580d2c6",
   "metadata": {},
   "outputs": [
    {
     "name": "stdout",
     "output_type": "stream",
     "text": [
      "delete: s3://itversitydata/messages/part-0caec0ea-d440-11ec-b424-3e22fbd03f7b.json\n",
      "delete: s3://itversitydata/messages/part-2d270ce4-d43e-11ec-b424-3e22fbd03f7b.json\n",
      "delete: s3://itversitydata/messages/part-06440a4a-d45d-11ec-ae97-27afa2619490.json\n",
      "delete: s3://itversitydata/messages/part-1d0c068a-d442-11ec-b424-3e22fbd03f7b.json\n",
      "delete: s3://itversitydata/messages/part-10e0fb32-d441-11ec-b424-3e22fbd03f7b.json\n",
      "delete: s3://itversitydata/messages/part-26ecd208-d440-11ec-b424-3e22fbd03f7b.json\n",
      "delete: s3://itversitydata/messages/part-06fa5106-d43f-11ec-b424-3e22fbd03f7b.json\n",
      "delete: s3://itversitydata/messages/part-3077ac54-d43f-11ec-b424-3e22fbd03f7b.json\n",
      "delete: s3://itversitydata/messages/part-0c533d08-d43e-11ec-b424-3e22fbd03f7b.json\n",
      "delete: s3://itversitydata/messages/part-1f8c1af6-d43f-11ec-b424-3e22fbd03f7b.json\n",
      "delete: s3://itversitydata/messages/part-343f9e9e-d441-11ec-b424-3e22fbd03f7b.json\n",
      "delete: s3://itversitydata/messages/part-3e4c2adc-d442-11ec-b424-3e22fbd03f7b.json\n",
      "delete: s3://itversitydata/messages/part-4bd44f58-d43e-11ec-b424-3e22fbd03f7b.json\n",
      "delete: s3://itversitydata/messages/part-4435da86-d43f-11ec-b424-3e22fbd03f7b.json\n",
      "delete: s3://itversitydata/messages/part-4c9cdaac-d440-11ec-b424-3e22fbd03f7b.json\n",
      "delete: s3://itversitydata/messages/part-56576cd2-d441-11ec-b424-3e22fbd03f7b.json\n",
      "delete: s3://itversitydata/messages/part-61394f1e-d43f-11ec-b424-3e22fbd03f7b.json\n",
      "delete: s3://itversitydata/messages/part-628a31e2-d446-11ec-9c67-3e22fbd03f7b.json\n",
      "delete: s3://itversitydata/messages/part-674a0674-d43e-11ec-b424-3e22fbd03f7b.json\n",
      "delete: s3://itversitydata/messages/part-6bef202c-d440-11ec-b424-3e22fbd03f7b.json\n",
      "delete: s3://itversitydata/messages/part-7445647e-d441-11ec-b424-3e22fbd03f7b.json\n",
      "delete: s3://itversitydata/messages/part-79eb298e-d43e-11ec-b424-3e22fbd03f7b.json\n",
      "delete: s3://itversitydata/messages/part-828fba18-d43f-11ec-b424-3e22fbd03f7b.json\n",
      "delete: s3://itversitydata/messages/part-89455596-d441-11ec-b424-3e22fbd03f7b.json\n",
      "delete: s3://itversitydata/messages/part-8ac428c4-d43d-11ec-b424-3e22fbd03f7b.json\n",
      "delete: s3://itversitydata/messages/part-8c084ea8-d43e-11ec-b424-3e22fbd03f7b.json\n",
      "delete: s3://itversitydata/messages/part-92659448-d440-11ec-b424-3e22fbd03f7b.json\n",
      "delete: s3://itversitydata/messages/part-9c607962-d441-11ec-b424-3e22fbd03f7b.json\n",
      "delete: s3://itversitydata/messages/part-a618d768-d43e-11ec-b424-3e22fbd03f7b.json\n",
      "delete: s3://itversitydata/messages/part-a665cbda-d43f-11ec-b424-3e22fbd03f7b.json\n",
      "delete: s3://itversitydata/messages/part-ac93d21a-d43d-11ec-b424-3e22fbd03f7b.json\n",
      "delete: s3://itversitydata/messages/part-b07f6f12-d440-11ec-b424-3e22fbd03f7b.json\n",
      "delete: s3://itversitydata/messages/part-bb83eefa-d441-11ec-b424-3e22fbd03f7b.json\n",
      "delete: s3://itversitydata/messages/part-bf3f95ec-d43e-11ec-b424-3e22fbd03f7b.json\n",
      "delete: s3://itversitydata/messages/part-c2aa3fc6-d43d-11ec-b424-3e22fbd03f7b.json\n",
      "delete: s3://itversitydata/messages/part-c6ca7722-d43f-11ec-b424-3e22fbd03f7b.json\n",
      "delete: s3://itversitydata/messages/part-c726bce8-d440-11ec-b424-3e22fbd03f7b.json\n",
      "delete: s3://itversitydata/messages/part-d46f3f90-d43d-11ec-b424-3e22fbd03f7b.json\n",
      "delete: s3://itversitydata/messages/part-d8a1a44c-d440-11ec-b424-3e22fbd03f7b.json\n",
      "delete: s3://itversitydata/messages/part-dcd037e4-d441-11ec-b424-3e22fbd03f7b.json\n",
      "delete: s3://itversitydata/messages/part-e5197110-d43f-11ec-b424-3e22fbd03f7b.json\n",
      "delete: s3://itversitydata/messages/part-e1da4fe8-d43e-11ec-b424-3e22fbd03f7b.json\n",
      "delete: s3://itversitydata/messages/part-ea1412ee-d43d-11ec-b424-3e22fbd03f7b.json\n",
      "delete: s3://itversitydata/messages/part-f38bcdc8-d440-11ec-b424-3e22fbd03f7b.json\n",
      "delete: s3://itversitydata/messages/part-fa986852-d43f-11ec-b424-3e22fbd03f7b.json\n",
      "delete: s3://itversitydata/messages/part-fc8ed266-d441-11ec-b424-3e22fbd03f7b.json\n"
     ]
    }
   ],
   "source": [
    "!aws s3 rm s3://itversitydata/messages --recursive"
   ]
  },
  {
   "cell_type": "code",
   "execution_count": 24,
   "id": "1580b116-dbbc-480f-935d-6349c1ab9fa5",
   "metadata": {},
   "outputs": [
    {
     "name": "stdout",
     "output_type": "stream",
     "text": [
      "Successfully saved messages to s3://itversitydata/messages/part-8f762d52-d35e-11ec-a08e-3e22fbd03f7b.json\n"
     ]
    }
   ],
   "source": [
    "write_messages_to_s3(messages, 'itversitydata', 'messages')"
   ]
  },
  {
   "cell_type": "code",
   "execution_count": 25,
   "id": "fbfb0cf1-d4e0-4e08-ae07-cfe71d5abf4c",
   "metadata": {},
   "outputs": [
    {
     "name": "stdout",
     "output_type": "stream",
     "text": [
      "2022-05-14 13:49:14    3925149 part-892cd202-d35e-11ec-a08e-3e22fbd03f7b.json\n"
     ]
    }
   ],
   "source": [
    "!aws s3 ls s3://itversitydata/messages/"
   ]
  },
  {
   "cell_type": "code",
   "execution_count": null,
   "id": "f3ab2cf0-6816-49c7-8e5c-ce2600262f8e",
   "metadata": {},
   "outputs": [],
   "source": []
  }
 ],
 "metadata": {
  "kernelspec": {
   "display_name": "Python 3 (ipykernel)",
   "language": "python",
   "name": "python3"
  },
  "language_info": {
   "codemirror_mode": {
    "name": "ipython",
    "version": 3
   },
   "file_extension": ".py",
   "mimetype": "text/x-python",
   "name": "python",
   "nbconvert_exporter": "python",
   "pygments_lexer": "ipython3",
   "version": "3.9.12"
  }
 },
 "nbformat": 4,
 "nbformat_minor": 5
}
