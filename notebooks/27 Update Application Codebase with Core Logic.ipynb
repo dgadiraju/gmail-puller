{
 "cells": [
  {
   "cell_type": "markdown",
   "id": "8fe93344-2c87-4e1d-bef2-878f5c59fb8d",
   "metadata": {},
   "source": [
    "## Update Application Codebase with Core Logic\n",
    "\n",
    "After exploring the logic to read email from gmail and write to s3, we need to update the application code base so that we can deploy and schedule it.\n",
    "\n",
    "* Add bookmarking logic to **util/bookmark.py**.\n",
    "* Add core logic to get emails from GMail and write to s3 as part of **get_gmail_messages.py**.\n",
    "* Make sure to export PYTHONPATH using `export PYTHONPATH=app` (considering you are in **gmail-puller** folder)\n",
    "* Export required environment variables **BUCKET_NAME** and **FOLDER** and then run using `python -c \"import app;app.gmail_ingest_to_s3()\"`."
   ]
  },
  {
   "cell_type": "code",
   "execution_count": null,
   "id": "c4262d09-3704-4b37-9f54-3acacef9f9f7",
   "metadata": {},
   "outputs": [],
   "source": []
  }
 ],
 "metadata": {
  "kernelspec": {
   "display_name": "Python 3 (ipykernel)",
   "language": "python",
   "name": "python3"
  },
  "language_info": {
   "codemirror_mode": {
    "name": "ipython",
    "version": 3
   },
   "file_extension": ".py",
   "mimetype": "text/x-python",
   "name": "python",
   "nbconvert_exporter": "python",
   "pygments_lexer": "ipython3",
   "version": "3.9.12"
  }
 },
 "nbformat": 4,
 "nbformat_minor": 5
}
