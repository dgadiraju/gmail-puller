{
 "cells": [
  {
   "cell_type": "markdown",
   "id": "1e1f7364-1c2c-44b1-a5e6-a1e66cb603f7",
   "metadata": {},
   "source": [
    "## Create Lambda Function with Custom Docker Image\n",
    "\n",
    "As the custom docker image is built, it is time for us to push it to AWS ECR and then create the lambda function.\n",
    "\n",
    "* Here are the commands to push the custom docker image to ECR.\n",
    "\n",
    "```\n",
    "# Login to docker\n",
    "aws ecr get-login-password \\\n",
    "  --region us-east-1 | \\\n",
    "  docker login \\\n",
    "  --username AWS \\\n",
    "  --password-stdin \\\n",
    "  582845781536.dkr.ecr.us-east-1.amazonaws.com\n",
    "\n",
    "# Tag docker image to make it ready to push to AWS ECR\n",
    "docker tag gmail-puller:latest \\\n",
    "  582845781536.dkr.ecr.us-east-1.amazonaws.com/gmail-puller:latest\n",
    "\n",
    "# Push custom docker image to AWS ECR\n",
    "docker push 582845781536.dkr.ecr.us-east-1.amazonaws.com/gmail-puller:latest\n",
    "```\n",
    "* Create lambda function using custom docker image.\n",
    "* Make sure there are required permissions on s3 for Lambda Function to write the data.\n",
    "* Make sure the image is deployed using latest image.\n",
    "* Run and validate to see if the lambda function is working as expected or not."
   ]
  },
  {
   "cell_type": "code",
   "execution_count": null,
   "id": "70438b28-cf9d-4a45-9826-74bbb00f2cca",
   "metadata": {},
   "outputs": [],
   "source": []
  }
 ],
 "metadata": {
  "kernelspec": {
   "display_name": "PySpark",
   "language": "",
   "name": "pysparkkernel"
  },
  "language_info": {
   "name": ""
  }
 },
 "nbformat": 4,
 "nbformat_minor": 5
}
