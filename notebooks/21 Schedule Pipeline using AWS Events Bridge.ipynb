{
 "cells": [
  {
   "cell_type": "markdown",
   "id": "779010c5-4277-4f8c-bd9c-9c18ed50ebfb",
   "metadata": {
    "tags": []
   },
   "source": [
    "## Schedule Pipeline using AWS Events Bridge\n",
    "\n",
    "Let us go ahead and schedule pipeline using AWS Events Bridge. We can take care of it either by using Lambda console or AWS Events Bridge console.\n",
    "* To catch up we can schedule the job every 2 minutes and then we can change it to 15 minutes.\n",
    "* As we are dealing with 45 days as baseline, the job should catch up with in couple of hours.\n",
    "* We will also clean up every thing before scheduling the job."
   ]
  },
  {
   "cell_type": "code",
   "execution_count": null,
   "id": "7844d5dd-6690-45fd-9ee4-5eb093681843",
   "metadata": {},
   "outputs": [],
   "source": [
    "!aws s3 rm s3://itversitydata/messages --recursive"
   ]
  },
  {
   "cell_type": "code",
   "execution_count": null,
   "id": "2a06912c-3e13-42dd-9fdc-a98487600a57",
   "metadata": {},
   "outputs": [],
   "source": [
    "import boto3"
   ]
  },
  {
   "cell_type": "code",
   "execution_count": null,
   "id": "c89bc106-de66-4a29-8892-50c1dbfd7328",
   "metadata": {},
   "outputs": [],
   "source": [
    "dynamodb = boto3.resource('dynamodb')"
   ]
  },
  {
   "cell_type": "code",
   "execution_count": null,
   "id": "b608df88-d3ad-41ac-a372-0d022cdb8620",
   "metadata": {},
   "outputs": [],
   "source": [
    "for table in dynamodb.tables.iterator():\n",
    "    print(table)"
   ]
  },
  {
   "cell_type": "code",
   "execution_count": null,
   "id": "e1ea07e6-831e-4b5b-95fe-a92052bd907f",
   "metadata": {},
   "outputs": [],
   "source": [
    "jobs_table = dynamodb.Table('gmail_jobs')\n",
    "jobs_table.delete_item(Key={'job_id': 'gmail_jobs'})\n",
    "item = {\n",
    "    'job_id': 'gmail_ingest',\n",
    "    'job_description': 'Ingest data from gmail to s3',\n",
    "    'is_active': 'Y',\n",
    "    'baseline_days': 45\n",
    "}\n",
    "jobs_table.put_item(Item=item)"
   ]
  },
  {
   "cell_type": "code",
   "execution_count": null,
   "id": "4b3a4cbb-0846-47ba-bde9-20f2e28267f6",
   "metadata": {},
   "outputs": [],
   "source": [
    "jrd_table = dynamodb.Table('gmail_job_run_details')"
   ]
  },
  {
   "cell_type": "code",
   "execution_count": 11,
   "id": "d3cb4c08-5094-40f9-881a-cc1a015ae5c9",
   "metadata": {},
   "outputs": [],
   "source": [
    "for item in jrd_table.scan()['Items']:\n",
    "    jrd_table.delete_item(Key={'job_id': item['job_id'], 'job_run_time': item['job_run_time']})"
   ]
  },
  {
   "cell_type": "markdown",
   "id": "e4fc9df8-287b-4499-b00d-0bf15a988f0d",
   "metadata": {},
   "source": [
    "* Here are the cron expressions to schedule every 2 minutes as well as every 15 minutes.\n",
    "\n",
    "```\n",
    "cron(0/2 * * * ? *)\n",
    "cron(0/15 * * * ? *)\n",
    "```\n",
    "\n",
    "* Once the job is scheduled to run every 2 minutes to catch up we can validate to see if the emails from GMail are copied to s3 or not."
   ]
  },
  {
   "cell_type": "code",
   "execution_count": 15,
   "id": "1fa1bae9-e86a-4817-9706-63d383689f4e",
   "metadata": {},
   "outputs": [
    {
     "name": "stdout",
     "output_type": "stream",
     "text": [
      "2022-05-16 05:22:59    4981843 part-257533cd-d4aa-11ec-9629-7b9a7ee0bd59.json\n"
     ]
    }
   ],
   "source": [
    "!aws s3 ls s3://itversitydata/messages/"
   ]
  },
  {
   "cell_type": "code",
   "execution_count": 13,
   "id": "856f9dbd-af57-407d-92e1-ea1b6238568a",
   "metadata": {},
   "outputs": [
    {
     "data": {
      "text/plain": [
       "{'Items': [{'job_description': 'Ingest data from gmail to s3',\n",
       "   'is_active': 'Y',\n",
       "   'job_id': 'gmail_ingest',\n",
       "   'baseline_days': Decimal('45'),\n",
       "   'job_run_bookmark_details': {'last_run_max_message_id': '17fe245c9e5f60c3',\n",
       "    'last_run_start_time_epoch': Decimal('1648684800'),\n",
       "    'last_run_end_time_epoch': Decimal('1648771200')}}],\n",
       " 'Count': 1,\n",
       " 'ScannedCount': 1,\n",
       " 'ResponseMetadata': {'RequestId': 'JNNJGR4H1UCKF1JJUD0FMC8PHNVV4KQNSO5AEMVJF66Q9ASUAAJG',\n",
       "  'HTTPStatusCode': 200,\n",
       "  'HTTPHeaders': {'server': 'Server',\n",
       "   'date': 'Sun, 15 May 2022 23:53:00 GMT',\n",
       "   'content-type': 'application/x-amz-json-1.0',\n",
       "   'content-length': '352',\n",
       "   'connection': 'keep-alive',\n",
       "   'x-amzn-requestid': 'JNNJGR4H1UCKF1JJUD0FMC8PHNVV4KQNSO5AEMVJF66Q9ASUAAJG',\n",
       "   'x-amz-crc32': '3102346803'},\n",
       "  'RetryAttempts': 0}}"
      ]
     },
     "execution_count": 13,
     "metadata": {},
     "output_type": "execute_result"
    }
   ],
   "source": [
    "jobs_table.scan()"
   ]
  },
  {
   "cell_type": "code",
   "execution_count": 16,
   "id": "87b9f485-229f-4273-9026-cdc296bac6b7",
   "metadata": {},
   "outputs": [
    {
     "data": {
      "text/plain": [
       "{'Items': [{'job_id': 'gmail_ingest',\n",
       "   'file_name': None,\n",
       "   'job_run_bookmark_details': {'start_time_epoch': Decimal('1648684800'),\n",
       "    'end_time_epoch': Decimal('1648771200'),\n",
       "    'max_message_id': '17fe245c9e5f60c3'},\n",
       "   'rows_processed': Decimal('77'),\n",
       "   'job_run_time': Decimal('1652658769')}],\n",
       " 'Count': 1,\n",
       " 'ScannedCount': 1,\n",
       " 'ResponseMetadata': {'RequestId': 'U7RLQPUJ5N5LHCNNAFH8K7H0CFVV4KQNSO5AEMVJF66Q9ASUAAJG',\n",
       "  'HTTPStatusCode': 200,\n",
       "  'HTTPHeaders': {'server': 'Server',\n",
       "   'date': 'Sun, 15 May 2022 23:53:22 GMT',\n",
       "   'content-type': 'application/x-amz-json-1.0',\n",
       "   'content-length': '309',\n",
       "   'connection': 'keep-alive',\n",
       "   'x-amzn-requestid': 'U7RLQPUJ5N5LHCNNAFH8K7H0CFVV4KQNSO5AEMVJF66Q9ASUAAJG',\n",
       "   'x-amz-crc32': '3023659954'},\n",
       "  'RetryAttempts': 0}}"
      ]
     },
     "execution_count": 16,
     "metadata": {},
     "output_type": "execute_result"
    }
   ],
   "source": [
    "jrd_table.scan()"
   ]
  },
  {
   "cell_type": "code",
   "execution_count": null,
   "id": "c4553d5e-5030-47d3-b8b7-34dad7c36cfc",
   "metadata": {},
   "outputs": [],
   "source": []
  }
 ],
 "metadata": {
  "kernelspec": {
   "display_name": "Python 3 (ipykernel)",
   "language": "python",
   "name": "python3"
  },
  "language_info": {
   "codemirror_mode": {
    "name": "ipython",
    "version": 3
   },
   "file_extension": ".py",
   "mimetype": "text/x-python",
   "name": "python",
   "nbconvert_exporter": "python",
   "pygments_lexer": "ipython3",
   "version": "3.9.12"
  }
 },
 "nbformat": 4,
 "nbformat_minor": 5
}
