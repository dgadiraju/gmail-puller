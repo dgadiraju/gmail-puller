{
 "cells": [
  {
   "cell_type": "markdown",
   "id": "698c5219-e078-404a-8628-21f8ec8df690",
   "metadata": {},
   "source": [
    "## Recap of Date Arithmetic using Python"
   ]
  },
  {
   "cell_type": "code",
   "execution_count": 1,
   "id": "ad0bfd45-066c-4494-b3e7-d21163b49015",
   "metadata": {},
   "outputs": [],
   "source": [
    "import datetime"
   ]
  },
  {
   "cell_type": "code",
   "execution_count": 2,
   "id": "183c8c01-bff8-47e1-99db-19a3d95c4d8c",
   "metadata": {},
   "outputs": [],
   "source": [
    "import time"
   ]
  },
  {
   "cell_type": "code",
   "execution_count": 3,
   "id": "8c566383-3f5b-4fa4-9e54-99d99634f11b",
   "metadata": {},
   "outputs": [
    {
     "data": {
      "text/plain": [
       "datetime.datetime(2022, 5, 13, 10, 25, 14, 460090)"
      ]
     },
     "execution_count": 3,
     "metadata": {},
     "output_type": "execute_result"
    }
   ],
   "source": [
    "datetime.datetime.now()"
   ]
  },
  {
   "cell_type": "code",
   "execution_count": 4,
   "id": "f3a0a454-1652-4f2c-962b-1a764017544b",
   "metadata": {},
   "outputs": [
    {
     "data": {
      "text/plain": [
       "datetime.date(2022, 5, 13)"
      ]
     },
     "execution_count": 4,
     "metadata": {},
     "output_type": "execute_result"
    }
   ],
   "source": [
    "datetime.datetime.now().date()"
   ]
  },
  {
   "cell_type": "code",
   "execution_count": 7,
   "id": "242d1801-e500-4d12-8e71-67d6ce5a28f8",
   "metadata": {},
   "outputs": [
    {
     "data": {
      "text/plain": [
       "time.struct_time(tm_year=2022, tm_mon=5, tm_mday=13, tm_hour=10, tm_min=26, tm_sec=42, tm_wday=4, tm_yday=133, tm_isdst=-1)"
      ]
     },
     "execution_count": 7,
     "metadata": {},
     "output_type": "execute_result"
    }
   ],
   "source": [
    "datetime.datetime.now().timetuple()"
   ]
  },
  {
   "cell_type": "code",
   "execution_count": 8,
   "id": "29204dc8-e3fd-47b9-b7ef-2908cc77b9b3",
   "metadata": {},
   "outputs": [
    {
     "data": {
      "text/plain": [
       "1652417819.0"
      ]
     },
     "execution_count": 8,
     "metadata": {},
     "output_type": "execute_result"
    }
   ],
   "source": [
    "time.mktime(datetime.datetime.now().timetuple())"
   ]
  },
  {
   "cell_type": "code",
   "execution_count": 9,
   "id": "bf9b0292-2cd5-4dd1-ab59-8151a7db8c4d",
   "metadata": {},
   "outputs": [
    {
     "data": {
      "text/plain": [
       "1652417824"
      ]
     },
     "execution_count": 9,
     "metadata": {},
     "output_type": "execute_result"
    }
   ],
   "source": [
    "int(time.mktime(datetime.datetime.now().timetuple()))"
   ]
  },
  {
   "cell_type": "code",
   "execution_count": 14,
   "id": "2cb5fecf-a1f6-4195-b2d8-9523ff9f20d6",
   "metadata": {},
   "outputs": [
    {
     "data": {
      "text/plain": [
       "datetime.datetime(2022, 5, 13, 10, 29, 2, 990556)"
      ]
     },
     "execution_count": 14,
     "metadata": {},
     "output_type": "execute_result"
    }
   ],
   "source": [
    "current_time = datetime.datetime.now()\n",
    "current_time"
   ]
  },
  {
   "cell_type": "code",
   "execution_count": 15,
   "id": "3bfb3b34-1fe7-4d7c-bbfd-5a558dfbb2a6",
   "metadata": {},
   "outputs": [
    {
     "data": {
      "text/plain": [
       "datetime.datetime(2022, 5, 13, 9, 19, 3, 168023)"
      ]
     },
     "execution_count": 15,
     "metadata": {},
     "output_type": "execute_result"
    }
   ],
   "source": [
    "old_time = datetime.datetime.now() - datetime.timedelta(hours=1, minutes=10)\n",
    "old_time"
   ]
  },
  {
   "cell_type": "code",
   "execution_count": 18,
   "id": "bdf52df6-0e6e-4886-a05d-8b78915b5b6a",
   "metadata": {},
   "outputs": [
    {
     "data": {
      "text/plain": [
       "datetime.timedelta(seconds=4199, microseconds=822533)"
      ]
     },
     "execution_count": 18,
     "metadata": {},
     "output_type": "execute_result"
    }
   ],
   "source": [
    "timediff = current_time - old_time\n",
    "timediff"
   ]
  },
  {
   "cell_type": "code",
   "execution_count": 19,
   "id": "2e6df07e-514d-4690-83ad-370f88464bc0",
   "metadata": {},
   "outputs": [
    {
     "data": {
      "text/plain": [
       "0"
      ]
     },
     "execution_count": 19,
     "metadata": {},
     "output_type": "execute_result"
    }
   ],
   "source": [
    "timediff.days"
   ]
  },
  {
   "cell_type": "code",
   "execution_count": 21,
   "id": "e29b8d4c-655e-49b9-a87d-a7678d53c8b4",
   "metadata": {},
   "outputs": [
    {
     "data": {
      "text/plain": [
       "datetime.date(2022, 3, 29)"
      ]
     },
     "execution_count": 21,
     "metadata": {},
     "output_type": "execute_result"
    }
   ],
   "source": [
    "baseline_start_time = datetime.datetime.now().date() - datetime.timedelta(days=45)\n",
    "baseline_start_time"
   ]
  },
  {
   "cell_type": "code",
   "execution_count": 22,
   "id": "ee94de3b-8045-4ca1-9917-84461c0e8c7e",
   "metadata": {},
   "outputs": [
    {
     "data": {
      "text/plain": [
       "1648492200.0"
      ]
     },
     "execution_count": 22,
     "metadata": {},
     "output_type": "execute_result"
    }
   ],
   "source": [
    "time.mktime(baseline_start_time.timetuple())"
   ]
  },
  {
   "cell_type": "code",
   "execution_count": null,
   "id": "0862c7d0-25f9-4ca6-8230-f653c930617b",
   "metadata": {},
   "outputs": [],
   "source": []
  }
 ],
 "metadata": {
  "kernelspec": {
   "display_name": "Python 3 (ipykernel)",
   "language": "python",
   "name": "python3"
  },
  "language_info": {
   "codemirror_mode": {
    "name": "ipython",
    "version": 3
   },
   "file_extension": ".py",
   "mimetype": "text/x-python",
   "name": "python",
   "nbconvert_exporter": "python",
   "pygments_lexer": "ipython3",
   "version": "3.9.12"
  }
 },
 "nbformat": 4,
 "nbformat_minor": 5
}
