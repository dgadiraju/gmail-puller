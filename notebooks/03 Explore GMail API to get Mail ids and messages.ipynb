{
 "cells": [
  {
   "cell_type": "code",
   "execution_count": 7,
   "id": "d50238ae-ad6e-412b-b21d-0b9e567f4b9b",
   "metadata": {},
   "outputs": [],
   "source": [
    "import os"
   ]
  },
  {
   "cell_type": "code",
   "execution_count": 8,
   "id": "bdde970e-b143-4609-933f-229d15f6d1aa",
   "metadata": {},
   "outputs": [],
   "source": [
    "app_home = os.environ.get('APP_HOME')"
   ]
  },
  {
   "cell_type": "code",
   "execution_count": 9,
   "id": "badb77fe-283c-4d12-b4f3-0631a717d735",
   "metadata": {},
   "outputs": [],
   "source": [
    "import boto3"
   ]
  },
  {
   "cell_type": "code",
   "execution_count": 10,
   "id": "f289ced8-b18c-4905-809d-e716369b085c",
   "metadata": {},
   "outputs": [],
   "source": [
    "sm_client = boto3.client(\n",
    "    'secretsmanager',\n",
    "    region_name='us-east-1'\n",
    ")"
   ]
  },
  {
   "cell_type": "code",
   "execution_count": 11,
   "id": "7679b394-8416-4449-ab12-5b1db690aa85",
   "metadata": {},
   "outputs": [],
   "source": [
    "secret_token = sm_client.get_secret_value(SecretId='gmail_token')['SecretBinary']"
   ]
  },
  {
   "cell_type": "markdown",
   "id": "411632a7-0cf3-4331-a07c-3f086c55f34f",
   "metadata": {},
   "source": [
    "* `secret_token` contains the content of token.pickle generated when we have authenticated with our gmail account to read emails."
   ]
  },
  {
   "cell_type": "code",
   "execution_count": 12,
   "id": "95b15a6a-7848-49da-ba90-83722612b188",
   "metadata": {},
   "outputs": [],
   "source": [
    "import pickle"
   ]
  },
  {
   "cell_type": "code",
   "execution_count": 13,
   "id": "fc8a7841-531c-45d6-9240-a4b7241b50ea",
   "metadata": {},
   "outputs": [],
   "source": [
    "creds = pickle.loads(secret_token) # converting the content of token.pickle to credentials to GMail API"
   ]
  },
  {
   "cell_type": "code",
   "execution_count": 14,
   "id": "044c9676-cc85-4225-a84d-45ea7308258e",
   "metadata": {},
   "outputs": [],
   "source": [
    "from googleapiclient.discovery import build"
   ]
  },
  {
   "cell_type": "code",
   "execution_count": 15,
   "id": "c300f0da-c8c0-4da9-b5d1-d9a9fe1dfd63",
   "metadata": {},
   "outputs": [],
   "source": [
    "service = build('gmail', 'v1', credentials=creds)"
   ]
  },
  {
   "cell_type": "code",
   "execution_count": 16,
   "id": "1ff11333-e1a3-477f-baff-f5d3ddd9cb0e",
   "metadata": {},
   "outputs": [],
   "source": [
    "users = service.users()"
   ]
  },
  {
   "cell_type": "code",
   "execution_count": 17,
   "id": "86a12deb-e729-43c6-b2d6-1954badc4fe0",
   "metadata": {},
   "outputs": [
    {
     "name": "stdout",
     "output_type": "stream",
     "text": [
      "Help on method method in module googleapiclient.discovery:\n",
      "\n",
      "method(**kwargs) method of googleapiclient.discovery.Resource instance\n",
      "    Lists the messages in the user's mailbox.\n",
      "    \n",
      "    Args:\n",
      "      userId: string, The user's email address. The special value `me` can be used to indicate the authenticated user. (required)\n",
      "      pageToken: string, Page token to retrieve a specific page of results in the list.\n",
      "      includeSpamTrash: boolean, Include messages from `SPAM` and `TRASH` in the results.\n",
      "      maxResults: integer, Maximum number of messages to return. This field defaults to 100. The maximum allowed value for this field is 500.\n",
      "      labelIds: string, Only return messages with labels that match all of the specified label IDs. (repeated)\n",
      "      q: string, Only return messages matching the specified query. Supports the same query format as the Gmail search box. For example, `\"from:someuser@example.com rfc822msgid: is:unread\"`. Parameter cannot be used when accessing the api using the gmail.metadata scope.\n",
      "      x__xgafv: string, V1 error format.\n",
      "        Allowed values\n",
      "          1 - v1 error format\n",
      "          2 - v2 error format\n",
      "    \n",
      "    Returns:\n",
      "      An object of the form:\n",
      "    \n",
      "        {\n",
      "        \"resultSizeEstimate\": 42, # Estimated total number of results.\n",
      "        \"messages\": [ # List of messages. Note that each message resource contains only an `id` and a `threadId`. Additional message details can be fetched using the messages.get method.\n",
      "          { # An email message.\n",
      "            \"labelIds\": [ # List of IDs of labels applied to this message.\n",
      "              \"A String\",\n",
      "            ],\n",
      "            \"raw\": \"A String\", # The entire email message in an RFC 2822 formatted and base64url encoded string. Returned in `messages.get` and `drafts.get` responses when the `format=RAW` parameter is supplied.\n",
      "            \"id\": \"A String\", # The immutable ID of the message.\n",
      "            \"threadId\": \"A String\", # The ID of the thread the message belongs to. To add a message or draft to a thread, the following criteria must be met: 1. The requested `threadId` must be specified on the `Message` or `Draft.Message` you supply with your request. 2. The `References` and `In-Reply-To` headers must be set in compliance with the [RFC 2822](https://tools.ietf.org/html/rfc2822) standard. 3. The `Subject` headers must match.\n",
      "            \"payload\": { # A single MIME message part. # The parsed email structure in the message parts.\n",
      "              \"body\": { # The body of a single MIME message part. # The message part body for this part, which may be empty for container MIME message parts.\n",
      "                \"attachmentId\": \"A String\", # When present, contains the ID of an external attachment that can be retrieved in a separate `messages.attachments.get` request. When not present, the entire content of the message part body is contained in the data field.\n",
      "                \"size\": 42, # Number of bytes for the message part data (encoding notwithstanding).\n",
      "                \"data\": \"A String\", # The body data of a MIME message part as a base64url encoded string. May be empty for MIME container types that have no message body or when the body data is sent as a separate attachment. An attachment ID is present if the body data is contained in a separate attachment.\n",
      "              },\n",
      "              \"parts\": [ # The child MIME message parts of this part. This only applies to container MIME message parts, for example `multipart/*`. For non- container MIME message part types, such as `text/plain`, this field is empty. For more information, see RFC 1521.\n",
      "                # Object with schema name: MessagePart\n",
      "              ],\n",
      "              \"partId\": \"A String\", # The immutable ID of the message part.\n",
      "              \"filename\": \"A String\", # The filename of the attachment. Only present if this message part represents an attachment.\n",
      "              \"mimeType\": \"A String\", # The MIME type of the message part.\n",
      "              \"headers\": [ # List of headers on this message part. For the top-level message part, representing the entire message payload, it will contain the standard RFC 2822 email headers such as `To`, `From`, and `Subject`.\n",
      "                {\n",
      "                  \"name\": \"A String\", # The name of the header before the `:` separator. For example, `To`.\n",
      "                  \"value\": \"A String\", # The value of the header after the `:` separator. For example, `someuser@example.com`.\n",
      "                },\n",
      "              ],\n",
      "            },\n",
      "            \"sizeEstimate\": 42, # Estimated size in bytes of the message.\n",
      "            \"internalDate\": \"A String\", # The internal message creation timestamp (epoch ms), which determines ordering in the inbox. For normal SMTP-received email, this represents the time the message was originally accepted by Google, which is more reliable than the `Date` header. However, for API-migrated mail, it can be configured by client to be based on the `Date` header.\n",
      "            \"snippet\": \"A String\", # A short part of the message text.\n",
      "            \"historyId\": \"A String\", # The ID of the last history record that modified this message.\n",
      "          },\n",
      "        ],\n",
      "        \"nextPageToken\": \"A String\", # Token to retrieve the next page of results in the list.\n",
      "      }\n",
      "\n"
     ]
    }
   ],
   "source": [
    "help(users.messages().list)"
   ]
  },
  {
   "cell_type": "code",
   "execution_count": 18,
   "id": "d8d5bf49-476f-41dc-82a2-c9c041752a6d",
   "metadata": {},
   "outputs": [
    {
     "data": {
      "text/plain": [
       "{'messages': [{'id': '180b5a89e33bc2cb', 'threadId': '180b5a89e33bc2cb'},\n",
       "  {'id': '180b5a5357d4cfd7', 'threadId': '180b5a5357d4cfd7'},\n",
       "  {'id': '180b59358c8c5696', 'threadId': '180b59358c8c5696'},\n",
       "  {'id': '180b554ca0cf5813', 'threadId': '180b554ca0cf5813'},\n",
       "  {'id': '180b54f6494c100e', 'threadId': '180b54f6494c100e'},\n",
       "  {'id': '180b543c236bdfb4', 'threadId': '180b543c236bdfb4'},\n",
       "  {'id': '180b52f0c41a7bc2', 'threadId': '180b52f0c41a7bc2'},\n",
       "  {'id': '180b5283a7d486cb', 'threadId': '180b4bd40516ef05'},\n",
       "  {'id': '180b50731723b847', 'threadId': '180b50731723b847'},\n",
       "  {'id': '180b4d7a34265b94', 'threadId': '180b3bb5cf1ba3b0'},\n",
       "  {'id': '180b4d36ccfd5ea5', 'threadId': '180b4d36ccfd5ea5'},\n",
       "  {'id': '180b4bf5899ee72b', 'threadId': '180b4bf5899ee72b'},\n",
       "  {'id': '180b4bd40516ef05', 'threadId': '180b4bd40516ef05'},\n",
       "  {'id': '180b4a909ce15ef3', 'threadId': '180b4a909ce15ef3'},\n",
       "  {'id': '180b4961b77ec374', 'threadId': '180b4961b77ec374'},\n",
       "  {'id': '180b46b0397e4a2b', 'threadId': '180b46b0397e4a2b'},\n",
       "  {'id': '180b454c2fb289d0', 'threadId': '180b454c2fb289d0'},\n",
       "  {'id': '180b44cf8db9ba19', 'threadId': '180b44cf8db9ba19'},\n",
       "  {'id': '180b44be771188da', 'threadId': '180b44be771188da'},\n",
       "  {'id': '180b44308e39ae3e', 'threadId': '180b44308e39ae3e'},\n",
       "  {'id': '180b4403ba48fd99', 'threadId': '180b4403ba48fd99'},\n",
       "  {'id': '180b43ef9a71aed7', 'threadId': '180b43ef9a71aed7'},\n",
       "  {'id': '180b42ffc6a20de8', 'threadId': '180b42ffc6a20de8'},\n",
       "  {'id': '180b42c64278bb44', 'threadId': '180b42c64278bb44'},\n",
       "  {'id': '180b42355c223366', 'threadId': '180b42355c223366'},\n",
       "  {'id': '180b416bd3eb6db8', 'threadId': '180b3bb5cf1ba3b0'},\n",
       "  {'id': '180b413d0c363994', 'threadId': '180b413d0c363994'},\n",
       "  {'id': '180b3f7218de5d0b', 'threadId': '180b3f7218de5d0b'},\n",
       "  {'id': '180b3f214366e8f7', 'threadId': '180b3f214366e8f7'},\n",
       "  {'id': '180b3f0b4745b88a', 'threadId': '180b3f0b4745b88a'},\n",
       "  {'id': '180b3eb7ae71786e', 'threadId': '180b3eb7ae71786e'},\n",
       "  {'id': '180b3c6b079d205d', 'threadId': '180b3c6b079d205d'},\n",
       "  {'id': '180b3c2028f76ebb', 'threadId': '180b3c2028f76ebb'},\n",
       "  {'id': '180b3bb5cf1ba3b0', 'threadId': '180b3bb5cf1ba3b0'},\n",
       "  {'id': '180b3b21561bae88', 'threadId': '180b3b21561bae88'},\n",
       "  {'id': '180b3b154db027f7', 'threadId': '180b1b917fc63540'},\n",
       "  {'id': '180b3ae21ef98b20', 'threadId': '180b3ae21ef98b20'},\n",
       "  {'id': '180b39fdd472ca33', 'threadId': '180b39fdd472ca33'},\n",
       "  {'id': '180b39ca4cfbf858', 'threadId': '180b39ca4cfbf858'},\n",
       "  {'id': '180b38c24d1d5740', 'threadId': '180b38c24d1d5740'},\n",
       "  {'id': '180b37a655f6cde5', 'threadId': '180b37a655f6cde5'},\n",
       "  {'id': '180b3798322c19b3', 'threadId': '180b3798322c19b3'},\n",
       "  {'id': '180b3773595a0fe0', 'threadId': '180b3773595a0fe0'},\n",
       "  {'id': '180b36c545de340f', 'threadId': '180a7cff1ec9c775'},\n",
       "  {'id': '180b366e3eae5d4f', 'threadId': '180b366e3eae5d4f'},\n",
       "  {'id': '180b361abce3a9b0', 'threadId': '180b349ca4503d5c'},\n",
       "  {'id': '180b3514af6a9593', 'threadId': '180b3514af6a9593'},\n",
       "  {'id': '180b349ca4503d5c', 'threadId': '180b349ca4503d5c'},\n",
       "  {'id': '180b34880b62f502', 'threadId': '180526ba714731d2'},\n",
       "  {'id': '180b333fd3c4d24a', 'threadId': '180b333fd3c4d24a'},\n",
       "  {'id': '180b32ea09149b37', 'threadId': '180b1b917fc63540'},\n",
       "  {'id': '180b323040fa019f', 'threadId': '180b323040fa019f'},\n",
       "  {'id': '180b31c7434660c3', 'threadId': '1803b90ba1007e02'},\n",
       "  {'id': '180b3133b7c46be4', 'threadId': '180b1b917fc63540'},\n",
       "  {'id': '180b30ed48ee8814', 'threadId': '180b30ed48ee8814'},\n",
       "  {'id': '180b2ffdc40cc574', 'threadId': '180a7cff1ec9c775'},\n",
       "  {'id': '180b2fa1ec26cdd5', 'threadId': '180b2fa1ec26cdd5'},\n",
       "  {'id': '180b2f1d809e9f76', 'threadId': '180a7cff1ec9c775'},\n",
       "  {'id': '180b2e224332b1dd', 'threadId': '180b2e224332b1dd'},\n",
       "  {'id': '180b2d7d5a2f0bbe', 'threadId': '180b26720fc9be38'},\n",
       "  {'id': '180b2c8af5b02b81', 'threadId': '180b26720fc9be38'},\n",
       "  {'id': '180b2c680297bbd3', 'threadId': '17f0b10b2c36466a'},\n",
       "  {'id': '180b2ba3e92dc06a', 'threadId': '180b26720fc9be38'},\n",
       "  {'id': '180b2acbef584a28', 'threadId': '180b2acbef584a28'},\n",
       "  {'id': '180b296545024e1a', 'threadId': '180b296545024e1a'},\n",
       "  {'id': '180b28ff4e7f0e32', 'threadId': '180b28ff4e7f0e32'},\n",
       "  {'id': '180b27af51525749', 'threadId': '180b27af51525749'},\n",
       "  {'id': '180b27942cb2c435', 'threadId': '180b27942cb2c435'},\n",
       "  {'id': '180b277bcecefd57', 'threadId': '180b277bcecefd57'},\n",
       "  {'id': '180b26720fc9be38', 'threadId': '180b26720fc9be38'},\n",
       "  {'id': '180b24dd0cd740d6', 'threadId': '180526ba714731d2'},\n",
       "  {'id': '180b23d4d84f2f26', 'threadId': '180b23d4d84f2f26'},\n",
       "  {'id': '180b22e22bdf7b5e', 'threadId': '180b22e22bdf7b5e'},\n",
       "  {'id': '180b21f87d2851fa', 'threadId': '180b21f87d2851fa'},\n",
       "  {'id': '180b1db9111088af', 'threadId': '180b1db9111088af'},\n",
       "  {'id': '180b1bb235b3b977', 'threadId': '180b1bb235b3b977'},\n",
       "  {'id': '180b1b917fc63540', 'threadId': '180b1b917fc63540'},\n",
       "  {'id': '180b1b0ec48bbe98', 'threadId': '180b1b0ec48bbe98'},\n",
       "  {'id': '180b1afb804cacfb', 'threadId': '180b1a9efd7d8f2c'},\n",
       "  {'id': '180b1a9efd7d8f2c', 'threadId': '180b1a9efd7d8f2c'},\n",
       "  {'id': '180b1a8152d18635', 'threadId': '180b180655925a17'},\n",
       "  {'id': '180b190b7b7ab45f', 'threadId': '180b190b7b7ab45f'},\n",
       "  {'id': '180b180655925a17', 'threadId': '180b180655925a17'},\n",
       "  {'id': '180b17f6b7c616aa', 'threadId': '180b17f6b7c616aa'},\n",
       "  {'id': '180b16cced970e99', 'threadId': '180b16cced970e99'},\n",
       "  {'id': '180b16900543f8aa', 'threadId': '180b16900543f8aa'},\n",
       "  {'id': '180b163a90499ac7', 'threadId': '180b143dbd1edc4f'},\n",
       "  {'id': '180b14cfc1590f26', 'threadId': '180b143dbd1edc4f'},\n",
       "  {'id': '180b14c94601ee58', 'threadId': '180b13ce08db91fa'},\n",
       "  {'id': '180b148e90aeafdd', 'threadId': '180b143dbd1edc4f'},\n",
       "  {'id': '180b143c01b3ca55', 'threadId': '180b13ce08db91fa'},\n",
       "  {'id': '180b13c8d34d5b9e', 'threadId': '180b132a75f12ff6'},\n",
       "  {'id': '180b103f732a2838', 'threadId': '180b103f732a2838'},\n",
       "  {'id': '180b0f3c7721df48', 'threadId': '180b0f3c7721df48'},\n",
       "  {'id': '180b0c5e91ebf84c', 'threadId': '180b0c5e91ebf84c'},\n",
       "  {'id': '180b098f5bb19b82', 'threadId': '180b098f5bb19b82'},\n",
       "  {'id': '180b087d54e27457', 'threadId': '180b087d54e27457'},\n",
       "  {'id': '180b08654ab285ff', 'threadId': '180b08654ab285ff'},\n",
       "  {'id': '180b02034af16f8c', 'threadId': '180b02034af16f8c'},\n",
       "  {'id': '180b006ec139d277', 'threadId': '180b006ec139d277'}],\n",
       " 'nextPageToken': '09964838688402155803',\n",
       " 'resultSizeEstimate': 926}"
      ]
     },
     "execution_count": 18,
     "metadata": {},
     "output_type": "execute_result"
    }
   ],
   "source": [
    "users.messages().list(userId='me').execute()"
   ]
  },
  {
   "cell_type": "code",
   "execution_count": 48,
   "id": "f2caa64b-72c0-4349-bf80-7ddd6ef0c020",
   "metadata": {},
   "outputs": [],
   "source": [
    "START_DATE = '2022/01/01'\n",
    "END_DATE = '2022/01/02'"
   ]
  },
  {
   "cell_type": "code",
   "execution_count": 49,
   "id": "55d7cf69-72ea-41cf-a20d-99e85bc30d92",
   "metadata": {},
   "outputs": [],
   "source": [
    "messages = users. \\\n",
    "    messages(). \\\n",
    "    list(\n",
    "        userId='me', \n",
    "        q=f'after:{START_DATE} before:{END_DATE}'\n",
    "    ). \\\n",
    "    execute()"
   ]
  },
  {
   "cell_type": "code",
   "execution_count": 50,
   "id": "cfd60085-023a-4647-917f-c17648d68864",
   "metadata": {},
   "outputs": [
    {
     "data": {
      "text/plain": [
       "{'messages': [{'id': '17e17d0dc4d7af57', 'threadId': '17e17d0dc4d7af57'},\n",
       "  {'id': '17e17a20164c51df', 'threadId': '17e17a20164c51df'},\n",
       "  {'id': '17e179ca107d53de', 'threadId': '17e179ca107d53de'},\n",
       "  {'id': '17e1748fe5d06c0d', 'threadId': '17e1748fe5d06c0d'},\n",
       "  {'id': '17e173e4237d48b0', 'threadId': '17e173e4237d48b0'},\n",
       "  {'id': '17e170740e117688', 'threadId': '17e170740e117688'},\n",
       "  {'id': '17e17026fb941568', 'threadId': '17e17026fb941568'},\n",
       "  {'id': '17e16f710ed42382', 'threadId': '17e16f710ed42382'},\n",
       "  {'id': '17e16f515312f2d2', 'threadId': '17e16f515312f2d2'},\n",
       "  {'id': '17e16cd38afd7894', 'threadId': '17e16cd38afd7894'},\n",
       "  {'id': '17e16affd249164d', 'threadId': '17e16affd249164d'},\n",
       "  {'id': '17e1667535e1782d', 'threadId': '17e1667535e1782d'},\n",
       "  {'id': '17e166020a0a8d2b', 'threadId': '17e166020a0a8d2b'},\n",
       "  {'id': '17e1646b28f27207', 'threadId': '17e1646b28f27207'},\n",
       "  {'id': '17e15ee9223f5afa', 'threadId': '17e15ee9223f5afa'},\n",
       "  {'id': '17e15ed9b413d7c2', 'threadId': '17e15ed9b413d7c2'},\n",
       "  {'id': '17e15ed79f638499', 'threadId': '17e15ed79f638499'},\n",
       "  {'id': '17e15c14dc00ee4e', 'threadId': '17e15b4ffcf7bf42'},\n",
       "  {'id': '17e15bf32e758588', 'threadId': '17e15bf32e758588'},\n",
       "  {'id': '17e15b9bb46f481d', 'threadId': '17e15b9bb46f481d'},\n",
       "  {'id': '17e15b4ffcf7bf42', 'threadId': '17e15b4ffcf7bf42'},\n",
       "  {'id': '17e15abafa78892e', 'threadId': '17e15abafa78892e'},\n",
       "  {'id': '17e15956d248886f', 'threadId': '17e1243a6ea4b75d'},\n",
       "  {'id': '17e15445b5314374', 'threadId': '17e1243a6ea4b75d'},\n",
       "  {'id': '17e15271a466e141', 'threadId': '17e15271a466e141'},\n",
       "  {'id': '17e151cefb6b58eb', 'threadId': '17e151cefb6b58eb'},\n",
       "  {'id': '17e151ba8ead6604', 'threadId': '17e151ba8ead6604'},\n",
       "  {'id': '17e14e97b5c70cc9', 'threadId': '17e14e97b5c70cc9'},\n",
       "  {'id': '17e14daaef633cbb', 'threadId': '17e1243a6ea4b75d'},\n",
       "  {'id': '17e148d9070fe129', 'threadId': '17e1243a6ea4b75d'},\n",
       "  {'id': '17e146ddeaaae724', 'threadId': '17e146ddeaaae724'},\n",
       "  {'id': '17e144500cc9efec', 'threadId': '17e144500cc9efec'},\n",
       "  {'id': '17e1421546329a98', 'threadId': '17e1421546329a98'},\n",
       "  {'id': '17e13e13559eed40', 'threadId': '17e13e13559eed40'},\n",
       "  {'id': '17e13cd066d40b88', 'threadId': '17e13cd066d40b88'},\n",
       "  {'id': '17e13a5861743d17', 'threadId': '17e13a5861743d17'},\n",
       "  {'id': '17e136ea1a291195', 'threadId': '17e136ea1a291195'},\n",
       "  {'id': '17e135fce345bc6c', 'threadId': '17e135fce345bc6c'},\n",
       "  {'id': '17e135ef8c297830', 'threadId': '17e135ef8c297830'},\n",
       "  {'id': '17e134a5b4295c98', 'threadId': '17e134a5b4295c98'},\n",
       "  {'id': '17e130fa17fa9d2e', 'threadId': '17e130fa17fa9d2e'}],\n",
       " 'resultSizeEstimate': 41}"
      ]
     },
     "execution_count": 50,
     "metadata": {},
     "output_type": "execute_result"
    }
   ],
   "source": [
    "messages"
   ]
  },
  {
   "cell_type": "code",
   "execution_count": 51,
   "id": "342a1acb-4b5d-43d1-983f-aa4a0b7552df",
   "metadata": {},
   "outputs": [
    {
     "data": {
      "text/plain": [
       "[{'id': '17e17d0dc4d7af57', 'threadId': '17e17d0dc4d7af57'},\n",
       " {'id': '17e17a20164c51df', 'threadId': '17e17a20164c51df'},\n",
       " {'id': '17e179ca107d53de', 'threadId': '17e179ca107d53de'},\n",
       " {'id': '17e1748fe5d06c0d', 'threadId': '17e1748fe5d06c0d'},\n",
       " {'id': '17e173e4237d48b0', 'threadId': '17e173e4237d48b0'},\n",
       " {'id': '17e170740e117688', 'threadId': '17e170740e117688'},\n",
       " {'id': '17e17026fb941568', 'threadId': '17e17026fb941568'},\n",
       " {'id': '17e16f710ed42382', 'threadId': '17e16f710ed42382'},\n",
       " {'id': '17e16f515312f2d2', 'threadId': '17e16f515312f2d2'},\n",
       " {'id': '17e16cd38afd7894', 'threadId': '17e16cd38afd7894'},\n",
       " {'id': '17e16affd249164d', 'threadId': '17e16affd249164d'},\n",
       " {'id': '17e1667535e1782d', 'threadId': '17e1667535e1782d'},\n",
       " {'id': '17e166020a0a8d2b', 'threadId': '17e166020a0a8d2b'},\n",
       " {'id': '17e1646b28f27207', 'threadId': '17e1646b28f27207'},\n",
       " {'id': '17e15ee9223f5afa', 'threadId': '17e15ee9223f5afa'},\n",
       " {'id': '17e15ed9b413d7c2', 'threadId': '17e15ed9b413d7c2'},\n",
       " {'id': '17e15ed79f638499', 'threadId': '17e15ed79f638499'},\n",
       " {'id': '17e15c14dc00ee4e', 'threadId': '17e15b4ffcf7bf42'},\n",
       " {'id': '17e15bf32e758588', 'threadId': '17e15bf32e758588'},\n",
       " {'id': '17e15b9bb46f481d', 'threadId': '17e15b9bb46f481d'},\n",
       " {'id': '17e15b4ffcf7bf42', 'threadId': '17e15b4ffcf7bf42'},\n",
       " {'id': '17e15abafa78892e', 'threadId': '17e15abafa78892e'},\n",
       " {'id': '17e15956d248886f', 'threadId': '17e1243a6ea4b75d'},\n",
       " {'id': '17e15445b5314374', 'threadId': '17e1243a6ea4b75d'},\n",
       " {'id': '17e15271a466e141', 'threadId': '17e15271a466e141'},\n",
       " {'id': '17e151cefb6b58eb', 'threadId': '17e151cefb6b58eb'},\n",
       " {'id': '17e151ba8ead6604', 'threadId': '17e151ba8ead6604'},\n",
       " {'id': '17e14e97b5c70cc9', 'threadId': '17e14e97b5c70cc9'},\n",
       " {'id': '17e14daaef633cbb', 'threadId': '17e1243a6ea4b75d'},\n",
       " {'id': '17e148d9070fe129', 'threadId': '17e1243a6ea4b75d'},\n",
       " {'id': '17e146ddeaaae724', 'threadId': '17e146ddeaaae724'},\n",
       " {'id': '17e144500cc9efec', 'threadId': '17e144500cc9efec'},\n",
       " {'id': '17e1421546329a98', 'threadId': '17e1421546329a98'},\n",
       " {'id': '17e13e13559eed40', 'threadId': '17e13e13559eed40'},\n",
       " {'id': '17e13cd066d40b88', 'threadId': '17e13cd066d40b88'},\n",
       " {'id': '17e13a5861743d17', 'threadId': '17e13a5861743d17'},\n",
       " {'id': '17e136ea1a291195', 'threadId': '17e136ea1a291195'},\n",
       " {'id': '17e135fce345bc6c', 'threadId': '17e135fce345bc6c'},\n",
       " {'id': '17e135ef8c297830', 'threadId': '17e135ef8c297830'},\n",
       " {'id': '17e134a5b4295c98', 'threadId': '17e134a5b4295c98'},\n",
       " {'id': '17e130fa17fa9d2e', 'threadId': '17e130fa17fa9d2e'}]"
      ]
     },
     "execution_count": 51,
     "metadata": {},
     "output_type": "execute_result"
    }
   ],
   "source": [
    "messages['messages']"
   ]
  },
  {
   "cell_type": "code",
   "execution_count": 27,
   "id": "51e208ca-af83-46df-9df2-6e6a6d1bafa8",
   "metadata": {},
   "outputs": [],
   "source": [
    "import time, datetime"
   ]
  },
  {
   "cell_type": "code",
   "execution_count": 29,
   "id": "5d5e12ed-2748-4a5f-a180-a739ae2b4119",
   "metadata": {},
   "outputs": [
    {
     "data": {
      "text/plain": [
       "1652316967"
      ]
     },
     "execution_count": 29,
     "metadata": {},
     "output_type": "execute_result"
    }
   ],
   "source": [
    "int(time.mktime(datetime.datetime.now().timetuple()))"
   ]
  },
  {
   "cell_type": "code",
   "execution_count": 32,
   "id": "52b5eed0-ed82-4c0f-9e16-202c1c0d1433",
   "metadata": {},
   "outputs": [],
   "source": [
    "start_time = int(time.mktime(datetime.datetime(2022, 1, 1, 10, 0, 0).timetuple()))"
   ]
  },
  {
   "cell_type": "code",
   "execution_count": 39,
   "id": "57c96750-76e6-455d-9371-f5b23a8765d3",
   "metadata": {},
   "outputs": [],
   "source": [
    "end_time = int(time.mktime(datetime.datetime(2022, 1, 1, 12, 0, 0).timetuple()))"
   ]
  },
  {
   "cell_type": "code",
   "execution_count": 40,
   "id": "f80790b3-5923-4fa4-bc24-c1be1112e119",
   "metadata": {},
   "outputs": [],
   "source": [
    "messages = users. \\\n",
    "    messages(). \\\n",
    "    list(\n",
    "        userId='me', \n",
    "        q=f'after:{start_time} before:{end_time}'\n",
    "    ). \\\n",
    "    execute()"
   ]
  },
  {
   "cell_type": "code",
   "execution_count": 41,
   "id": "9fb1aa5b-811e-4add-8a1d-090a2b8b351a",
   "metadata": {},
   "outputs": [
    {
     "data": {
      "text/plain": [
       "[{'id': '17e144500cc9efec', 'threadId': '17e144500cc9efec'},\n",
       " {'id': '17e1421546329a98', 'threadId': '17e1421546329a98'}]"
      ]
     },
     "execution_count": 41,
     "metadata": {},
     "output_type": "execute_result"
    }
   ],
   "source": [
    "messages['messages']"
   ]
  },
  {
   "cell_type": "code",
   "execution_count": 46,
   "id": "ad282ec5-cc56-429d-81f3-95fc087cffae",
   "metadata": {},
   "outputs": [],
   "source": [
    "m = messages['messages'][0]\n",
    "msg = users.messages().get(userId='me', id=m['id']).execute()"
   ]
  },
  {
   "cell_type": "code",
   "execution_count": 54,
   "id": "f9db549a-967d-4c18-8b96-2b522a467c75",
   "metadata": {},
   "outputs": [
    {
     "data": {
      "text/plain": [
       "1641011400"
      ]
     },
     "execution_count": 54,
     "metadata": {},
     "output_type": "execute_result"
    }
   ],
   "source": [
    "start_time"
   ]
  },
  {
   "cell_type": "code",
   "execution_count": 55,
   "id": "6cb462f2-022a-4428-b98a-78402a2d4daa",
   "metadata": {},
   "outputs": [
    {
     "data": {
      "text/plain": [
       "1641018600"
      ]
     },
     "execution_count": 55,
     "metadata": {},
     "output_type": "execute_result"
    }
   ],
   "source": [
    "end_time"
   ]
  },
  {
   "cell_type": "code",
   "execution_count": 52,
   "id": "cf14500d-744f-4fad-a334-f5e8a883355c",
   "metadata": {},
   "outputs": [
    {
     "data": {
      "text/plain": [
       "'1641017563000'"
      ]
     },
     "execution_count": 52,
     "metadata": {},
     "output_type": "execute_result"
    }
   ],
   "source": [
    "msg['internalDate']"
   ]
  },
  {
   "cell_type": "code",
   "execution_count": 47,
   "id": "86b0a110-c3a8-489d-a1a1-bf5664f4402c",
   "metadata": {},
   "outputs": [
    {
     "data": {
      "text/plain": [
       "[{'name': 'Delivered-To', 'value': 'dgadiraju@itversity.com'},\n",
       " {'name': 'Received',\n",
       "  'value': 'by 2002:ab0:7618:0:0:0:0:0 with SMTP id o24csp3993254uap;        Fri, 31 Dec 2021 22:12:53 -0800 (PST)'},\n",
       " {'name': 'X-Google-Smtp-Source',\n",
       "  'value': 'ABdhPJxD8zJ1As/BSG32bpRQa1Spe0VAj+6pjVdg0K6zXkZpf56o/o16lo0GCZS1CzDTKMZPi/wA'},\n",
       " {'name': 'X-Received',\n",
       "  'value': 'by 2002:a05:6214:2249:: with SMTP id c9mr21926180qvc.68.1641017573710;        Fri, 31 Dec 2021 22:12:53 -0800 (PST)'},\n",
       " {'name': 'ARC-Seal',\n",
       "  'value': 'i=1; a=rsa-sha256; t=1641017573; cv=none;        d=google.com; s=arc-20160816;        b=xazZvcYlZ2rYED1xdmu0ECGrYTLUcMaYq29o45nl9OMxbhaUQ/dvjPbmW3jSC2RjNN         K0Ass/xNXwnVBIPEYo8cdnVWcDpkpmWS5/mHJbzNmWPlFuR/XGbnsbfWfTksqTG+N5T6         al5JdlByTslYeLvIXNb8Kjn3t8BMdTgcuNobbCMsjoUFVZclihiFS8zGlfloihoBwCho         J2mgmwYsj9g2F3HP1rbkZt4Dtgrr+T84iQvzgFQs3xrPYN4Vm/2fCb27bIIsw8zaY8Lt         oaYvy3ai7cJFZ+QI59WXa+twhx0AbIu/TioD3eMP6f2W/pHJmfsZ/2H9yp0jRj5nH8DS         zrsw=='},\n",
       " {'name': 'ARC-Message-Signature',\n",
       "  'value': 'i=1; a=rsa-sha256; c=relaxed/relaxed; d=google.com; s=arc-20160816;        h=require-recipient-valid-since:list-unsubscribe:date:to:mime-version         :subject:message-id:from:dkim-signature:dkim-signature;        bh=z4hAld2o8kcQIlWY0/SYDt6FxjHAS4hcxkTX1d3sUbM=;        b=Zh5Z/31yN5mRkaS++Jh2/XAT3s1EhXjoS4eiodybcwxxJdMvJcKCR9ohY0L19G9T/P         fdbOXpntERZAkwVwbnsKGK5sphk2FZJDzD9soLMNCSCD1Hf6b9rxL96JXGEfSkvNXfPi         XZSGKMsT70o+v1CjJ3MsYEF3IpwXgTB8W485intlsQGdqQRi2uO051Y2lIQ30OWM5h2L         uwl3WOEWNHlbAKcBEIzcsX0t3IzSNkFlBd7Ym9/8H3TBofIfDYrsnWwB6qceST7NLpfv         vzPHaXilWa71JwZ2s76NaclG/KRx/5J3U6wO4KqOdc4eEi2crb+3KU+h54NwxdRx0yQb         1EWA=='},\n",
       " {'name': 'ARC-Authentication-Results',\n",
       "  'value': 'i=1; mx.google.com;       dkim=pass header.i=@linkedin.com header.s=d2048-201806-01 header.b=lh4zrzh2;       dkim=pass header.i=@maile.linkedin.com header.s=proddkim1024 header.b=NZQSulPE;       spf=pass (google.com: domain of s-4s3db1wcfy9ghyd10l5a9ryso3ruij55xrxyjc0m6z5xpv8dubjahnxi@bounce.linkedin.com designates 108.174.3.204 as permitted sender) smtp.mailfrom=s-4s3db1wcfy9ghyd10l5a9ryso3ruij55xrxyjc0m6z5xpv8dubjahnxi@bounce.linkedin.com;       dmarc=pass (p=REJECT sp=REJECT dis=NONE) header.from=linkedin.com'},\n",
       " {'name': 'Return-Path',\n",
       "  'value': '<s-4s3db1wcfy9ghyd10l5a9ryso3ruij55xrxyjc0m6z5xpv8dubjahnxi@bounce.linkedin.com>'},\n",
       " {'name': 'Received',\n",
       "  'value': 'from maile-bd.linkedin.com (maile-bd.linkedin.com. [108.174.3.204])        by mx.google.com with ESMTPS id dv6si12873013qvb.99.2021.12.31.22.12.53        for <dgadiraju@itversity.com>        (version=TLS1_2 cipher=ECDHE-ECDSA-AES128-GCM-SHA256 bits=128/128);        Fri, 31 Dec 2021 22:12:53 -0800 (PST)'},\n",
       " {'name': 'Received-SPF',\n",
       "  'value': 'pass (google.com: domain of s-4s3db1wcfy9ghyd10l5a9ryso3ruij55xrxyjc0m6z5xpv8dubjahnxi@bounce.linkedin.com designates 108.174.3.204 as permitted sender) client-ip=108.174.3.204;'},\n",
       " {'name': 'Authentication-Results',\n",
       "  'value': 'mx.google.com;       dkim=pass header.i=@linkedin.com header.s=d2048-201806-01 header.b=lh4zrzh2;       dkim=pass header.i=@maile.linkedin.com header.s=proddkim1024 header.b=NZQSulPE;       spf=pass (google.com: domain of s-4s3db1wcfy9ghyd10l5a9ryso3ruij55xrxyjc0m6z5xpv8dubjahnxi@bounce.linkedin.com designates 108.174.3.204 as permitted sender) smtp.mailfrom=s-4s3db1wcfy9ghyd10l5a9ryso3ruij55xrxyjc0m6z5xpv8dubjahnxi@bounce.linkedin.com;       dmarc=pass (p=REJECT sp=REJECT dis=NONE) header.from=linkedin.com'},\n",
       " {'name': 'DKIM-Signature',\n",
       "  'value': 'v=1; a=rsa-sha256; c=relaxed/relaxed; d=linkedin.com; s=d2048-201806-01; t=1641017563; bh=z4hAld2o8kcQIlWY0/SYDt6FxjHAS4hcxkTX1d3sUbM=; h=From:Subject:MIME-Version:Content-Type:To:Date:X-LinkedIn-Class:\\t X-LinkedIn-Template:X-LinkedIn-fbl; b=lh4zrzh2Y0iXGHVY+a5tk82CMg+9+O39U3urXuD5XApvn/4jAHRI+0Coufg3wUQW0\\t nUTLCnCYIa+ozMILDe6xxfHk7wLbeYlCGv6pZk/Ey3EZ7cSboLtYiLg/UjcgNUuzTq\\t ZouahdK8N4y/6iD5HUMZ9iMb3lgibgJlTFiW1BqNqAyVZ2Riuwo9fP2E2dA9o9/QQy\\t nqKfVzeqtHeGps9l2HD1x6pDUO9oAkX38h60bgkgiw1unoBIDFBqpbwB5UW/azJ5oJ\\t BUZg03mGPAEACmx0+QLVYpqu8WX/noFkCOhIGCrEEkmSgshTfgr4KGAzjEg6P64q5M\\t Fa79OxMwZ/Enw=='},\n",
       " {'name': 'DKIM-Signature',\n",
       "  'value': 'v=1; a=rsa-sha256; c=relaxed/relaxed; d=maile.linkedin.com; s=proddkim1024; t=1641017563; bh=z4hAld2o8kcQIlWY0/SYDt6FxjHAS4hcxkTX1d3sUbM=; h=From:Subject:MIME-Version:Content-Type:To:Date:X-LinkedIn-Class:\\t X-LinkedIn-Template:X-LinkedIn-fbl; b=NZQSulPEVLIn2R9oT6qmDl89PvRqMDvdGLrnsqwXpHSY+KiH5TnMw3mfI9pZ8h4Lu\\t f9YLZWn0Ty16upDJZxwD6IEobfjK12XaLUQPHX7vPwJjWJPZGXg6GsIo9odm4Ccb2c\\t JhD5/yogelRuXzdjNLR1JgyIe+gyPHJI4R2ALedQ='},\n",
       " {'name': 'From',\n",
       "  'value': '\"Dr.Dinesh Chandrasekar via LinkedIn\" <newsletters-noreply@linkedin.com>'},\n",
       " {'name': 'Message-ID',\n",
       "  'value': '<1159216453.13646810.1641017563201@ltx1-app70677.prod.linkedin.com>'},\n",
       " {'name': 'Subject',\n",
       "  'value': 'Memoirs of GB Episode 85: What’s in a New Year ? A Happy Life!!!'},\n",
       " {'name': 'MIME-Version', 'value': '1.0'},\n",
       " {'name': 'Content-Type',\n",
       "  'value': 'multipart/alternative; boundary=\"----=_Part_13646808_1171862594.1641017563198\"'},\n",
       " {'name': 'To', 'value': 'Durga Gadiraju <dgadiraju@itversity.com>'},\n",
       " {'name': 'Date', 'value': 'Sat, 1 Jan 2022 06:12:43 +0000 (UTC)'},\n",
       " {'name': 'X-LinkedIn-Class', 'value': 'EMAIL-DEFAULT'},\n",
       " {'name': 'X-LinkedIn-Template', 'value': 'email_series_follow_newsletter_01'},\n",
       " {'name': 'X-LinkedIn-fbl',\n",
       "  'value': 'm2-aszv4ovs6gyozdj6plvsr8w07xtgz5uckdu873gv3ylb289ncevo30p79sus28v1d7dv759b2g5lvlcrqvyffjks1aftgogkpg2rma'},\n",
       " {'name': 'X-LinkedIn-Id', 'value': '51esc-kxvfhj5w-fu'},\n",
       " {'name': 'List-Unsubscribe',\n",
       "  'value': '<https://www.linkedin.com/e/v2?e=51esc-kxvfhj5w-fu&t=lun&midToken=AQGacFgxFCzhPQ&midSig=0A_sjltbkklq41&ek=email_series_follow_newsletter_01&li=14&m=unsub&ts=unsub&eid=51esc-kxvfhj5w-fu&loid=AQGC-pWMfaT17AAAAX4URNgOj92SOUvvjDGkV7VrcebANHp3hyqbEBCwEjxcMzR6BZAtRYAf2RD38KmFzCasDhgzrYf7tJ_Zbd4dJHLYxYaoyg2fe5FosvqI>'},\n",
       " {'name': 'Require-Recipient-Valid-Since',\n",
       "  'value': 'dgadiraju@itversity.com; Sat, 14 Oct 2017 15:41:58 +0000'}]"
      ]
     },
     "execution_count": 47,
     "metadata": {},
     "output_type": "execute_result"
    }
   ],
   "source": [
    "msg['payload']['headers']"
   ]
  },
  {
   "cell_type": "code",
   "execution_count": 44,
   "id": "95a4308f-3941-454e-bd44-e5c2bb5b9061",
   "metadata": {},
   "outputs": [],
   "source": [
    "message_list = []\n",
    "\n",
    "for m in messages['messages']:\n",
    "    msg = users.messages().get(userId='me', id=m['id']).execute()\n",
    "    msg_details = {'id': m['id']}\n",
    "    for headers in msg['payload']['headers']:\n",
    "        if headers['name'] == 'From':\n",
    "            for header in msg['payload']['headers']:\n",
    "                if header['name'] == 'From':\n",
    "                    msg_details['From'] = header['value']\n",
    "                elif header['name'] == 'Date':\n",
    "                    msg_details['Date'] = header['value']\n",
    "            message_list.append(msg_details)"
   ]
  },
  {
   "cell_type": "code",
   "execution_count": 45,
   "id": "dd41f091-a481-4050-9c19-f78a845f81e8",
   "metadata": {},
   "outputs": [
    {
     "data": {
      "text/plain": [
       "[{'id': '17e144500cc9efec',\n",
       "  'From': '\"Dr.Dinesh Chandrasekar via LinkedIn\" <newsletters-noreply@linkedin.com>',\n",
       "  'Date': 'Sat, 1 Jan 2022 06:12:43 +0000 (UTC)'},\n",
       " {'id': '17e1421546329a98',\n",
       "  'Date': 'Sat, 1 Jan 2022 10:56:22 +0530 (IST)',\n",
       "  'From': 'Magicbricks <propmb@magicbricks.com>'}]"
      ]
     },
     "execution_count": 45,
     "metadata": {},
     "output_type": "execute_result"
    }
   ],
   "source": [
    "message_list"
   ]
  },
  {
   "cell_type": "code",
   "execution_count": null,
   "id": "b4c0bc09-c7a9-4695-aa6d-4bf217f00809",
   "metadata": {},
   "outputs": [],
   "source": []
  }
 ],
 "metadata": {
  "kernelspec": {
   "display_name": "Python 3 (ipykernel)",
   "language": "python",
   "name": "python3"
  },
  "language_info": {
   "codemirror_mode": {
    "name": "ipython",
    "version": 3
   },
   "file_extension": ".py",
   "mimetype": "text/x-python",
   "name": "python",
   "nbconvert_exporter": "python",
   "pygments_lexer": "ipython3",
   "version": "3.9.12"
  }
 },
 "nbformat": 4,
 "nbformat_minor": 5
}
