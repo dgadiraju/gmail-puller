{
 "cells": [
  {
   "cell_type": "code",
   "execution_count": null,
   "id": "d50238ae-ad6e-412b-b21d-0b9e567f4b9b",
   "metadata": {},
   "outputs": [],
   "source": [
    "import os"
   ]
  },
  {
   "cell_type": "code",
   "execution_count": null,
   "id": "bdde970e-b143-4609-933f-229d15f6d1aa",
   "metadata": {},
   "outputs": [],
   "source": [
    "app_home = os.environ.get('APP_HOME')"
   ]
  },
  {
   "cell_type": "code",
   "execution_count": null,
   "id": "badb77fe-283c-4d12-b4f3-0631a717d735",
   "metadata": {},
   "outputs": [],
   "source": [
    "import boto3"
   ]
  },
  {
   "cell_type": "code",
   "execution_count": null,
   "id": "f289ced8-b18c-4905-809d-e716369b085c",
   "metadata": {},
   "outputs": [],
   "source": [
    "sm_client = boto3.client(\n",
    "    'secretsmanager',\n",
    "    region_name='us-east-1'\n",
    ")"
   ]
  },
  {
   "cell_type": "code",
   "execution_count": null,
   "id": "7679b394-8416-4449-ab12-5b1db690aa85",
   "metadata": {},
   "outputs": [],
   "source": [
    "secret_token = sm_client.get_secret_value(SecretId='gmail_token')['SecretBinary']"
   ]
  },
  {
   "cell_type": "markdown",
   "id": "411632a7-0cf3-4331-a07c-3f086c55f34f",
   "metadata": {},
   "source": [
    "* `secret_token` contains the content of token.pickle generated when we have authenticated with our gmail account to read emails."
   ]
  },
  {
   "cell_type": "code",
   "execution_count": null,
   "id": "95b15a6a-7848-49da-ba90-83722612b188",
   "metadata": {},
   "outputs": [],
   "source": [
    "import pickle"
   ]
  },
  {
   "cell_type": "code",
   "execution_count": null,
   "id": "fc8a7841-531c-45d6-9240-a4b7241b50ea",
   "metadata": {},
   "outputs": [],
   "source": [
    "creds = pickle.loads(secret_token) # converting the content of token.pickle to credentials to GMail API"
   ]
  },
  {
   "cell_type": "code",
   "execution_count": null,
   "id": "044c9676-cc85-4225-a84d-45ea7308258e",
   "metadata": {},
   "outputs": [],
   "source": [
    "from googleapiclient.discovery import build"
   ]
  },
  {
   "cell_type": "code",
   "execution_count": null,
   "id": "c300f0da-c8c0-4da9-b5d1-d9a9fe1dfd63",
   "metadata": {},
   "outputs": [],
   "source": [
    "service = build('gmail', 'v1', credentials=creds)"
   ]
  },
  {
   "cell_type": "code",
   "execution_count": null,
   "id": "1ff11333-e1a3-477f-baff-f5d3ddd9cb0e",
   "metadata": {},
   "outputs": [],
   "source": [
    "users = service.users()"
   ]
  },
  {
   "cell_type": "code",
   "execution_count": null,
   "id": "86a12deb-e729-43c6-b2d6-1954badc4fe0",
   "metadata": {},
   "outputs": [],
   "source": [
    "help(users.messages().list)"
   ]
  },
  {
   "cell_type": "code",
   "execution_count": null,
   "id": "d8d5bf49-476f-41dc-82a2-c9c041752a6d",
   "metadata": {},
   "outputs": [],
   "source": [
    "users.messages().list(userId='me').execute()"
   ]
  },
  {
   "cell_type": "code",
   "execution_count": null,
   "id": "f2caa64b-72c0-4349-bf80-7ddd6ef0c020",
   "metadata": {},
   "outputs": [],
   "source": [
    "START_DATE = '2022/01/01'\n",
    "END_DATE = '2022/01/02'"
   ]
  },
  {
   "cell_type": "code",
   "execution_count": null,
   "id": "55d7cf69-72ea-41cf-a20d-99e85bc30d92",
   "metadata": {},
   "outputs": [],
   "source": [
    "messages = users. \\\n",
    "    messages(). \\\n",
    "    list(\n",
    "        userId='me', \n",
    "        q=f'after:{START_DATE} before:{END_DATE}'\n",
    "    ). \\\n",
    "    execute()"
   ]
  },
  {
   "cell_type": "code",
   "execution_count": null,
   "id": "cfd60085-023a-4647-917f-c17648d68864",
   "metadata": {},
   "outputs": [],
   "source": [
    "messages"
   ]
  },
  {
   "cell_type": "code",
   "execution_count": null,
   "id": "342a1acb-4b5d-43d1-983f-aa4a0b7552df",
   "metadata": {},
   "outputs": [],
   "source": [
    "messages['messages']"
   ]
  },
  {
   "cell_type": "code",
   "execution_count": null,
   "id": "51e208ca-af83-46df-9df2-6e6a6d1bafa8",
   "metadata": {},
   "outputs": [],
   "source": [
    "import time, datetime"
   ]
  },
  {
   "cell_type": "code",
   "execution_count": null,
   "id": "5d5e12ed-2748-4a5f-a180-a739ae2b4119",
   "metadata": {},
   "outputs": [],
   "source": [
    "int(time.mktime(datetime.datetime.now().timetuple()))"
   ]
  },
  {
   "cell_type": "code",
   "execution_count": null,
   "id": "52b5eed0-ed82-4c0f-9e16-202c1c0d1433",
   "metadata": {},
   "outputs": [],
   "source": [
    "start_time = int(time.mktime(datetime.datetime(2022, 1, 1, 10, 0, 0).timetuple()))"
   ]
  },
  {
   "cell_type": "code",
   "execution_count": null,
   "id": "57c96750-76e6-455d-9371-f5b23a8765d3",
   "metadata": {},
   "outputs": [],
   "source": [
    "end_time = int(time.mktime(datetime.datetime(2022, 1, 1, 12, 0, 0).timetuple()))"
   ]
  },
  {
   "cell_type": "code",
   "execution_count": null,
   "id": "f80790b3-5923-4fa4-bc24-c1be1112e119",
   "metadata": {},
   "outputs": [],
   "source": [
    "messages = users. \\\n",
    "    messages(). \\\n",
    "    list(\n",
    "        userId='me', \n",
    "        q=f'after:{start_time} before:{end_time}'\n",
    "    ). \\\n",
    "    execute()"
   ]
  },
  {
   "cell_type": "code",
   "execution_count": null,
   "id": "9fb1aa5b-811e-4add-8a1d-090a2b8b351a",
   "metadata": {},
   "outputs": [],
   "source": [
    "messages['messages']"
   ]
  },
  {
   "cell_type": "code",
   "execution_count": null,
   "id": "ad282ec5-cc56-429d-81f3-95fc087cffae",
   "metadata": {},
   "outputs": [],
   "source": [
    "m = messages['messages'][0]\n",
    "msg = users.messages().get(userId='me', id=m['id']).execute()"
   ]
  },
  {
   "cell_type": "code",
   "execution_count": null,
   "id": "f9db549a-967d-4c18-8b96-2b522a467c75",
   "metadata": {},
   "outputs": [],
   "source": [
    "start_time"
   ]
  },
  {
   "cell_type": "code",
   "execution_count": null,
   "id": "6cb462f2-022a-4428-b98a-78402a2d4daa",
   "metadata": {},
   "outputs": [],
   "source": [
    "end_time"
   ]
  },
  {
   "cell_type": "code",
   "execution_count": null,
   "id": "cf14500d-744f-4fad-a334-f5e8a883355c",
   "metadata": {},
   "outputs": [],
   "source": [
    "msg['internalDate']"
   ]
  },
  {
   "cell_type": "code",
   "execution_count": null,
   "id": "86b0a110-c3a8-489d-a1a1-bf5664f4402c",
   "metadata": {},
   "outputs": [],
   "source": [
    "msg['payload']['headers']"
   ]
  },
  {
   "cell_type": "code",
   "execution_count": null,
   "id": "95a4308f-3941-454e-bd44-e5c2bb5b9061",
   "metadata": {},
   "outputs": [],
   "source": [
    "message_list = []\n",
    "\n",
    "for m in messages['messages']:\n",
    "    msg = users.messages().get(userId='me', id=m['id']).execute()\n",
    "    msg_details = {'id': m['id']}\n",
    "    for headers in msg['payload']['headers']:\n",
    "        if headers['name'] == 'From':\n",
    "            for header in msg['payload']['headers']:\n",
    "                if header['name'] == 'From':\n",
    "                    msg_details['From'] = header['value']\n",
    "                elif header['name'] == 'Date':\n",
    "                    msg_details['Date'] = header['value']\n",
    "            message_list.append(msg_details)"
   ]
  },
  {
   "cell_type": "code",
   "execution_count": null,
   "id": "dd41f091-a481-4050-9c19-f78a845f81e8",
   "metadata": {},
   "outputs": [],
   "source": [
    "message_list"
   ]
  },
  {
   "cell_type": "code",
   "execution_count": null,
   "id": "b4c0bc09-c7a9-4695-aa6d-4bf217f00809",
   "metadata": {},
   "outputs": [],
   "source": []
  }
 ],
 "metadata": {
  "kernelspec": {
   "display_name": "Python 3 (ipykernel)",
   "language": "python",
   "name": "python3"
  },
  "language_info": {
   "codemirror_mode": {
    "name": "ipython",
    "version": 3
   },
   "file_extension": ".py",
   "mimetype": "text/x-python",
   "name": "python",
   "nbconvert_exporter": "python",
   "pygments_lexer": "ipython3",
   "version": "3.9.12"
  }
 },
 "nbformat": 4,
 "nbformat_minor": 5
}
