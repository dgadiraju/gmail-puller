{
 "cells": [
  {
   "cell_type": "code",
   "execution_count": 1,
   "id": "faa22725-8514-4b10-b97f-f7caa2286a93",
   "metadata": {},
   "outputs": [],
   "source": [
    "import boto3\n",
    "import pickle\n",
    "\n",
    "\n",
    "def get_creds():\n",
    "    sm_client = boto3.client(\n",
    "        'secretsmanager',\n",
    "        region_name='us-east-1'\n",
    "    )\n",
    "\n",
    "    secret_token = sm_client.get_secret_value(SecretId='gmail_token')['SecretBinary']\n",
    "    creds = pickle.loads(secret_token)\n",
    "    return creds"
   ]
  },
  {
   "cell_type": "code",
   "execution_count": 2,
   "id": "a8b274bb-2bd4-4f06-ab3c-746eaa99a58f",
   "metadata": {},
   "outputs": [],
   "source": [
    "from googleapiclient.discovery import build\n",
    "\n",
    "creds = get_creds()\n",
    "service = build('gmail', 'v1', credentials=creds)"
   ]
  },
  {
   "cell_type": "code",
   "execution_count": 3,
   "id": "1ff11333-e1a3-477f-baff-f5d3ddd9cb0e",
   "metadata": {},
   "outputs": [],
   "source": [
    "users = service.users()"
   ]
  },
  {
   "cell_type": "code",
   "execution_count": 4,
   "id": "195e023d-d922-48b2-8ae1-d26072fda9d6",
   "metadata": {},
   "outputs": [],
   "source": [
    "dynamodb = boto3.resource('dynamodb')"
   ]
  },
  {
   "cell_type": "code",
   "execution_count": 5,
   "id": "b891db08-15ee-4404-8aed-3cb008461688",
   "metadata": {},
   "outputs": [],
   "source": [
    "table = dynamodb.Table('gmail_jobs')"
   ]
  },
  {
   "cell_type": "code",
   "execution_count": 6,
   "id": "0e92da64-c775-479a-bf28-7b1ccb5ad80e",
   "metadata": {},
   "outputs": [],
   "source": [
    "item = {\n",
    "    'job_id': 'gmail_ingest',\n",
    "    'job_description': 'Ingest data from gmail to s3',\n",
    "    'is_active': 'Y',\n",
    "    'baseline_days': 45\n",
    "}"
   ]
  },
  {
   "cell_type": "code",
   "execution_count": 7,
   "id": "7cea295b-9382-4709-b375-2202bee5ab8c",
   "metadata": {},
   "outputs": [
    {
     "data": {
      "text/plain": [
       "{'ResponseMetadata': {'RequestId': '9O6IGRQJ29OL6SHNHLAU95TQAFVV4KQNSO5AEMVJF66Q9ASUAAJG',\n",
       "  'HTTPStatusCode': 200,\n",
       "  'HTTPHeaders': {'server': 'Server',\n",
       "   'date': 'Sat, 14 May 2022 08:02:01 GMT',\n",
       "   'content-type': 'application/x-amz-json-1.0',\n",
       "   'content-length': '2',\n",
       "   'connection': 'keep-alive',\n",
       "   'x-amzn-requestid': '9O6IGRQJ29OL6SHNHLAU95TQAFVV4KQNSO5AEMVJF66Q9ASUAAJG',\n",
       "   'x-amz-crc32': '2745614147'},\n",
       "  'RetryAttempts': 0}}"
      ]
     },
     "execution_count": 7,
     "metadata": {},
     "output_type": "execute_result"
    }
   ],
   "source": [
    "table.put_item(Item=item)"
   ]
  },
  {
   "cell_type": "code",
   "execution_count": 8,
   "id": "6f6bf4cd-6b7f-4a99-895c-0c1fb376e657",
   "metadata": {},
   "outputs": [],
   "source": [
    "def get_job_details(job_name):\n",
    "    dynamodb = boto3.resource('dynamodb')\n",
    "    table = dynamodb.Table('gmail_jobs')\n",
    "    job_details = table.get_item(Key={'job_id': job_name})['Item']\n",
    "    return job_details"
   ]
  },
  {
   "cell_type": "code",
   "execution_count": 9,
   "id": "eda5e09b-35a3-4706-93d2-6b0d598ae5c4",
   "metadata": {},
   "outputs": [],
   "source": [
    "import datetime\n",
    "import time\n",
    "\n",
    "def get_job_run_time_range(job_details):\n",
    "    if job_details.get('job_run_bookmark_details'):\n",
    "        job_run_bookmark_details = job_details.get('job_run_bookmark_details')\n",
    "        last_run_start_time_epoch = int(job_run_bookmark_details['last_run_start_time_epoch'])\n",
    "        last_run_end_time_epoch = int(job_run_bookmark_details['last_run_end_time_epoch'])\n",
    "        last_run_diff = datetime.datetime.now().date() - datetime.datetime.fromtimestamp(last_run_end_time_epoch).date()\n",
    "        if last_run_diff.days > 1:\n",
    "            start_time_epoch = last_run_end_time_epoch\n",
    "            end_time = datetime.datetime.fromtimestamp(last_run_end_time_epoch).date() + datetime.timedelta(days=1)\n",
    "            end_time_epoch = int(time.mktime(end_time.timetuple()))\n",
    "        else:\n",
    "            start_time_epoch = last_run_end_time_epoch\n",
    "            end_time_epoch = int(time.mktime(datetime.datetime.now().timetuple()))  \n",
    "    else:\n",
    "        baseline_days = int(job_details['baseline_days'])\n",
    "        start_time = datetime.datetime.now().date() - datetime.timedelta(days=int(baseline_days))\n",
    "        end_time = start_time + datetime.timedelta(days=1)\n",
    "        start_time_epoch = int(time.mktime(start_time.timetuple()))\n",
    "        end_time_epoch = int(time.mktime(end_time.timetuple()))\n",
    "    return start_time_epoch, end_time_epoch"
   ]
  },
  {
   "cell_type": "code",
   "execution_count": 10,
   "id": "95f5d28b-a7cc-41a9-88a7-dd79fb0f7e53",
   "metadata": {},
   "outputs": [],
   "source": [
    "job_details = get_job_details('gmail_ingest')"
   ]
  },
  {
   "cell_type": "code",
   "execution_count": 11,
   "id": "eb8910ff-896f-4514-9db0-6137dd3f72d0",
   "metadata": {},
   "outputs": [
    {
     "data": {
      "text/plain": [
       "(1648578600, 1648665000)"
      ]
     },
     "execution_count": 11,
     "metadata": {},
     "output_type": "execute_result"
    }
   ],
   "source": [
    "get_job_run_time_range(job_details)"
   ]
  },
  {
   "cell_type": "code",
   "execution_count": 12,
   "id": "8e566ac0-d09a-440d-b8ba-e6c9ee314fea",
   "metadata": {},
   "outputs": [],
   "source": [
    "job_details = {\n",
    "    'job_id': 'gmail_ingest',\n",
    "    'job_description': 'Ingest data from gmail to s3',\n",
    "    'is_active': 'Y',\n",
    "    'baseline_days': 45,\n",
    "    'job_run_bookmark_details': {\n",
    "        'last_run_message_id': '17e144500cc9efec',\n",
    "        'last_run_start_time_epoch': int(time.mktime(datetime.datetime.now().date().timetuple())),\n",
    "        'last_run_end_time_epoch': int(time.mktime((datetime.datetime.now() - datetime.timedelta(hours=2, minutes=10)).timetuple()))\n",
    "    }\n",
    "}"
   ]
  },
  {
   "cell_type": "code",
   "execution_count": 13,
   "id": "34d1336c-2d0e-43db-a381-683ff034e490",
   "metadata": {},
   "outputs": [
    {
     "data": {
      "text/plain": [
       "{'job_id': 'gmail_ingest',\n",
       " 'job_description': 'Ingest data from gmail to s3',\n",
       " 'is_active': 'Y',\n",
       " 'baseline_days': 45,\n",
       " 'job_run_bookmark_details': {'last_run_message_id': '17e144500cc9efec',\n",
       "  'last_run_start_time_epoch': 1652466600,\n",
       "  'last_run_end_time_epoch': 1652507531}}"
      ]
     },
     "execution_count": 13,
     "metadata": {},
     "output_type": "execute_result"
    }
   ],
   "source": [
    "job_details"
   ]
  },
  {
   "cell_type": "code",
   "execution_count": 14,
   "id": "9fd56046-aefd-4434-bcaf-9a1df5f7a08a",
   "metadata": {},
   "outputs": [
    {
     "data": {
      "text/plain": [
       "(1652507531, 1652515334)"
      ]
     },
     "execution_count": 14,
     "metadata": {},
     "output_type": "execute_result"
    }
   ],
   "source": [
    "get_job_run_time_range(job_details)"
   ]
  },
  {
   "cell_type": "code",
   "execution_count": null,
   "id": "46b36153-cb0b-4f85-aae0-6a68e41039a2",
   "metadata": {},
   "outputs": [],
   "source": []
  }
 ],
 "metadata": {
  "kernelspec": {
   "display_name": "Python 3 (ipykernel)",
   "language": "python",
   "name": "python3"
  },
  "language_info": {
   "codemirror_mode": {
    "name": "ipython",
    "version": 3
   },
   "file_extension": ".py",
   "mimetype": "text/x-python",
   "name": "python",
   "nbconvert_exporter": "python",
   "pygments_lexer": "ipython3",
   "version": "3.9.12"
  }
 },
 "nbformat": 4,
 "nbformat_minor": 5
}
