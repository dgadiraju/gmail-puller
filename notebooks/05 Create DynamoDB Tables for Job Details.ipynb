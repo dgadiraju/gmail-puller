{
 "cells": [
  {
   "cell_type": "code",
   "execution_count": 1,
   "id": "4654b9a2-c69f-4d99-ba54-9c264c2e307e",
   "metadata": {},
   "outputs": [],
   "source": [
    "import boto3"
   ]
  },
  {
   "cell_type": "code",
   "execution_count": 2,
   "id": "1974ecdb-3ff1-4a8c-8616-18213f880b59",
   "metadata": {},
   "outputs": [],
   "source": [
    "dynamo_client = boto3.client('dynamodb')"
   ]
  },
  {
   "cell_type": "code",
   "execution_count": 3,
   "id": "cc14ad8f-0494-429c-a5fa-e535d365eea9",
   "metadata": {},
   "outputs": [
    {
     "data": {
      "text/plain": [
       "{'TableNames': ['emails', 'ghmarker', 'ghrepos', 'gmail_jobs', 'posts'],\n",
       " 'ResponseMetadata': {'RequestId': '55PRD2KUKD4DG0J0390B7TPFP3VV4KQNSO5AEMVJF66Q9ASUAAJG',\n",
       "  'HTTPStatusCode': 200,\n",
       "  'HTTPHeaders': {'server': 'Server',\n",
       "   'date': 'Tue, 10 May 2022 03:19:33 GMT',\n",
       "   'content-type': 'application/x-amz-json-1.0',\n",
       "   'content-length': '67',\n",
       "   'connection': 'keep-alive',\n",
       "   'x-amzn-requestid': '55PRD2KUKD4DG0J0390B7TPFP3VV4KQNSO5AEMVJF66Q9ASUAAJG',\n",
       "   'x-amz-crc32': '188921284'},\n",
       "  'RetryAttempts': 0}}"
      ]
     },
     "execution_count": 3,
     "metadata": {},
     "output_type": "execute_result"
    }
   ],
   "source": [
    "dynamo_client.list_tables()"
   ]
  },
  {
   "cell_type": "code",
   "execution_count": null,
   "id": "24b0ae2d-9727-4916-8ddb-49127d999d15",
   "metadata": {},
   "outputs": [],
   "source": [
    "dynamo_client.create_table?"
   ]
  },
  {
   "cell_type": "code",
   "execution_count": null,
   "id": "8cc5247e-22f4-413e-88c2-126f024aac30",
   "metadata": {},
   "outputs": [],
   "source": [
    "response = dynamo_client.create_table(\n",
    "    AttributeDefinitions=[\n",
    "        {\n",
    "            'AttributeName': 'job_id',\n",
    "            'AttributeType': 'S'\n",
    "        }\n",
    "    ],\n",
    "    TableName='gmail_jobs',\n",
    "    KeySchema=[\n",
    "      {\n",
    "          'AttributeName': 'job_id',\n",
    "          'KeyType': 'HASH'\n",
    "      },\n",
    "    ],\n",
    "    BillingMode='PAY_PER_REQUEST'\n",
    ")"
   ]
  },
  {
   "cell_type": "code",
   "execution_count": 5,
   "id": "93d40fa5-a3fa-4f82-b141-ef6ea7523cca",
   "metadata": {},
   "outputs": [
    {
     "ename": "NameError",
     "evalue": "name 'response' is not defined",
     "output_type": "error",
     "traceback": [
      "\u001b[0;31m---------------------------------------------------------------------------\u001b[0m",
      "\u001b[0;31mNameError\u001b[0m                                 Traceback (most recent call last)",
      "Input \u001b[0;32mIn [5]\u001b[0m, in \u001b[0;36m<cell line: 1>\u001b[0;34m()\u001b[0m\n\u001b[0;32m----> 1\u001b[0m \u001b[43mresponse\u001b[49m\n",
      "\u001b[0;31mNameError\u001b[0m: name 'response' is not defined"
     ]
    }
   ],
   "source": [
    "response"
   ]
  },
  {
   "cell_type": "code",
   "execution_count": 6,
   "id": "f95078c5-f7c0-4dba-b266-1bb4c447230c",
   "metadata": {},
   "outputs": [
    {
     "data": {
      "text/plain": [
       "{'TableNames': ['emails', 'ghmarker', 'ghrepos', 'gmail_jobs', 'posts'],\n",
       " 'ResponseMetadata': {'RequestId': 'Q4UAOF2AC23H6M1M5ST25VVK7RVV4KQNSO5AEMVJF66Q9ASUAAJG',\n",
       "  'HTTPStatusCode': 200,\n",
       "  'HTTPHeaders': {'server': 'Server',\n",
       "   'date': 'Tue, 10 May 2022 03:19:47 GMT',\n",
       "   'content-type': 'application/x-amz-json-1.0',\n",
       "   'content-length': '67',\n",
       "   'connection': 'keep-alive',\n",
       "   'x-amzn-requestid': 'Q4UAOF2AC23H6M1M5ST25VVK7RVV4KQNSO5AEMVJF66Q9ASUAAJG',\n",
       "   'x-amz-crc32': '188921284'},\n",
       "  'RetryAttempts': 0}}"
      ]
     },
     "execution_count": 6,
     "metadata": {},
     "output_type": "execute_result"
    }
   ],
   "source": [
    "dynamo_client.list_tables()"
   ]
  },
  {
   "cell_type": "code",
   "execution_count": 7,
   "id": "1732b26c-0656-4826-abd9-662b65557610",
   "metadata": {},
   "outputs": [
    {
     "data": {
      "text/plain": [
       "{'Table': {'AttributeDefinitions': [{'AttributeName': 'job_id',\n",
       "    'AttributeType': 'S'}],\n",
       "  'TableName': 'gmail_jobs',\n",
       "  'KeySchema': [{'AttributeName': 'job_id', 'KeyType': 'HASH'}],\n",
       "  'TableStatus': 'ACTIVE',\n",
       "  'CreationDateTime': datetime.datetime(2022, 5, 9, 16, 16, 35, 798000, tzinfo=tzlocal()),\n",
       "  'ProvisionedThroughput': {'NumberOfDecreasesToday': 0,\n",
       "   'ReadCapacityUnits': 0,\n",
       "   'WriteCapacityUnits': 0},\n",
       "  'TableSizeBytes': 0,\n",
       "  'ItemCount': 0,\n",
       "  'TableArn': 'arn:aws:dynamodb:us-east-1:582845781536:table/gmail_jobs',\n",
       "  'TableId': '9ecf19b6-45e4-4e54-a1af-fdae5b44af54',\n",
       "  'BillingModeSummary': {'BillingMode': 'PAY_PER_REQUEST',\n",
       "   'LastUpdateToPayPerRequestDateTime': datetime.datetime(2022, 5, 9, 16, 16, 35, 798000, tzinfo=tzlocal())}},\n",
       " 'ResponseMetadata': {'RequestId': '7LFB5JQBNKCURI8BGHS81D7GBNVV4KQNSO5AEMVJF66Q9ASUAAJG',\n",
       "  'HTTPStatusCode': 200,\n",
       "  'HTTPHeaders': {'server': 'Server',\n",
       "   'date': 'Tue, 10 May 2022 03:19:47 GMT',\n",
       "   'content-type': 'application/x-amz-json-1.0',\n",
       "   'content-length': '707',\n",
       "   'connection': 'keep-alive',\n",
       "   'x-amzn-requestid': '7LFB5JQBNKCURI8BGHS81D7GBNVV4KQNSO5AEMVJF66Q9ASUAAJG',\n",
       "   'x-amz-crc32': '1526512993'},\n",
       "  'RetryAttempts': 0}}"
      ]
     },
     "execution_count": 7,
     "metadata": {},
     "output_type": "execute_result"
    }
   ],
   "source": [
    "dynamo_client.describe_table(TableName='gmail_jobs')"
   ]
  },
  {
   "cell_type": "code",
   "execution_count": 8,
   "id": "50ded030-e55b-41d1-bd03-aa86f1d419ae",
   "metadata": {},
   "outputs": [],
   "source": [
    "dynamodb_resource = boto3.resource('dynamodb')"
   ]
  },
  {
   "cell_type": "code",
   "execution_count": 9,
   "id": "0580d767-115d-4620-a071-c72f587f2193",
   "metadata": {},
   "outputs": [],
   "source": [
    "job_details_table = dynamodb_resource.Table('gmail_jobs')"
   ]
  },
  {
   "cell_type": "code",
   "execution_count": 10,
   "id": "b38c2460-1fb5-4ad8-81f9-9248059927f2",
   "metadata": {},
   "outputs": [],
   "source": [
    "job_details = {\n",
    "    'job_id': 'gmail_ingest',\n",
    "    'job_description': 'Ingest data from gmail to s3',\n",
    "    'is_active': 'Y'\n",
    "}"
   ]
  },
  {
   "cell_type": "code",
   "execution_count": 11,
   "id": "d7911fe3-ea34-475a-bc86-d49ef76f1e54",
   "metadata": {},
   "outputs": [
    {
     "data": {
      "text/plain": [
       "{'ResponseMetadata': {'RequestId': '9JKGLMBQ6JM74IDJT5593EJIMVVV4KQNSO5AEMVJF66Q9ASUAAJG',\n",
       "  'HTTPStatusCode': 200,\n",
       "  'HTTPHeaders': {'server': 'Server',\n",
       "   'date': 'Tue, 10 May 2022 03:21:12 GMT',\n",
       "   'content-type': 'application/x-amz-json-1.0',\n",
       "   'content-length': '2',\n",
       "   'connection': 'keep-alive',\n",
       "   'x-amzn-requestid': '9JKGLMBQ6JM74IDJT5593EJIMVVV4KQNSO5AEMVJF66Q9ASUAAJG',\n",
       "   'x-amz-crc32': '2745614147'},\n",
       "  'RetryAttempts': 0}}"
      ]
     },
     "execution_count": 11,
     "metadata": {},
     "output_type": "execute_result"
    }
   ],
   "source": [
    "job_details_table.put_item(\n",
    "    Item=job_details\n",
    ")"
   ]
  },
  {
   "cell_type": "code",
   "execution_count": 12,
   "id": "f34895c9-f707-472c-ad72-019936e9847a",
   "metadata": {},
   "outputs": [
    {
     "data": {
      "text/plain": [
       "{'Items': [{'job_description': 'Ingest data from gmail to s3',\n",
       "   'is_active': 'Y',\n",
       "   'job_id': 'gmail_ingest'}],\n",
       " 'Count': 1,\n",
       " 'ScannedCount': 1,\n",
       " 'ResponseMetadata': {'RequestId': 'KL83BEDU1SEOHK5IEPLP4CDP7BVV4KQNSO5AEMVJF66Q9ASUAAJG',\n",
       "  'HTTPStatusCode': 200,\n",
       "  'HTTPHeaders': {'server': 'Server',\n",
       "   'date': 'Tue, 10 May 2022 03:21:29 GMT',\n",
       "   'content-type': 'application/x-amz-json-1.0',\n",
       "   'content-length': '147',\n",
       "   'connection': 'keep-alive',\n",
       "   'x-amzn-requestid': 'KL83BEDU1SEOHK5IEPLP4CDP7BVV4KQNSO5AEMVJF66Q9ASUAAJG',\n",
       "   'x-amz-crc32': '765100336'},\n",
       "  'RetryAttempts': 0}}"
      ]
     },
     "execution_count": 12,
     "metadata": {},
     "output_type": "execute_result"
    }
   ],
   "source": [
    "job_details_table.scan()"
   ]
  },
  {
   "cell_type": "code",
   "execution_count": 14,
   "id": "54bf2802-143c-4aa3-a095-61384185e534",
   "metadata": {},
   "outputs": [
    {
     "data": {
      "text/plain": [
       "{'Item': {'job_description': 'Ingest data from gmail to s3',\n",
       "  'is_active': 'Y',\n",
       "  'job_id': 'gmail_ingest'},\n",
       " 'ResponseMetadata': {'RequestId': '8GHCHHNIV0PS8NES9TJDH9QONJVV4KQNSO5AEMVJF66Q9ASUAAJG',\n",
       "  'HTTPStatusCode': 200,\n",
       "  'HTTPHeaders': {'server': 'Server',\n",
       "   'date': 'Tue, 10 May 2022 03:22:12 GMT',\n",
       "   'content-type': 'application/x-amz-json-1.0',\n",
       "   'content-length': '117',\n",
       "   'connection': 'keep-alive',\n",
       "   'x-amzn-requestid': '8GHCHHNIV0PS8NES9TJDH9QONJVV4KQNSO5AEMVJF66Q9ASUAAJG',\n",
       "   'x-amz-crc32': '233539393'},\n",
       "  'RetryAttempts': 0}}"
      ]
     },
     "execution_count": 14,
     "metadata": {},
     "output_type": "execute_result"
    }
   ],
   "source": [
    "job_details_table.get_item(Key={'job_id': 'gmail_ingest'})"
   ]
  },
  {
   "cell_type": "code",
   "execution_count": null,
   "id": "2ec1453b-116f-4fbd-aef5-fa3a285e9ac4",
   "metadata": {},
   "outputs": [],
   "source": []
  }
 ],
 "metadata": {
  "kernelspec": {
   "display_name": "Python 3 (ipykernel)",
   "language": "python",
   "name": "python3"
  },
  "language_info": {
   "codemirror_mode": {
    "name": "ipython",
    "version": 3
   },
   "file_extension": ".py",
   "mimetype": "text/x-python",
   "name": "python",
   "nbconvert_exporter": "python",
   "pygments_lexer": "ipython3",
   "version": "3.9.12"
  }
 },
 "nbformat": 4,
 "nbformat_minor": 5
}
