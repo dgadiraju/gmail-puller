{
 "cells": [
  {
   "cell_type": "markdown",
   "id": "5863a54f-f981-497c-b35d-1081c2dd729b",
   "metadata": {},
   "source": [
    "## Build Custom Docker Image for the Application\n",
    "\n",
    "As application is ready, let us go ahead and build the custom docker image. We can use **public.ecr.aws/lambda/python:3.9** as the base image and customize as per the application to copy data from GMail to s3.\n",
    "\n",
    "* Here is the content related to **Dockerfile** to build custom image.\n",
    "\n",
    "```\n",
    "FROM public.ecr.aws/lambda/python:3.9\n",
    "\n",
    "COPY app ${LAMBDA_TASK_ROOT}/app\n",
    "ENV PYTHONPATH=${LAMBDA_TASK_ROOT}/app\n",
    "\n",
    "COPY requirements.txt requirements.txt\n",
    "RUN pip install -r requirements.txt\n",
    "\n",
    "CMD [ \"app.lambda_handler\" ]\n",
    "```\n",
    "\n",
    "* Once **Dockerfile** is updated, custom image can be built using `docker build -t gmail-puller .`.\n",
    "* Here is the command to create and start the container using custom image.\n",
    "\n",
    "```\n",
    "# Start docker container with custom image\n",
    "docker run \\\n",
    "  --name gmail-puller \\\n",
    "  -v /Users/itversity/.aws:/root/.aws \\\n",
    "  -p 9000:8080 \\\n",
    "  -e START_DATE=2022/01/01 \\\n",
    "  -e END_DATE=2022/01/02 \\\n",
    "  -e BUCKET_NAME=itversitydata \\\n",
    "  -e FOLDER=messages \\\n",
    "  -d \\\n",
    "  gmail-puller\n",
    "```\n",
    "\n",
    "* We can validate lambda function locally using the following command.\n",
    "\n",
    "```\n",
    "# Validate docker image for lambda function locally\n",
    "curl -XPOST \"http://localhost:9000/2015-03-31/functions/function/invocations\" -d '{}'\n",
    "```\n"
   ]
  },
  {
   "cell_type": "code",
   "execution_count": null,
   "id": "d9c7a4c4-4f2a-4399-ac5a-35a0e3f8a1e5",
   "metadata": {},
   "outputs": [],
   "source": []
  }
 ],
 "metadata": {
  "kernelspec": {
   "display_name": "Python 3 (ipykernel)",
   "language": "python",
   "name": "python3"
  },
  "language_info": {
   "codemirror_mode": {
    "name": "ipython",
    "version": 3
   },
   "file_extension": ".py",
   "mimetype": "text/x-python",
   "name": "python",
   "nbconvert_exporter": "python",
   "pygments_lexer": "ipython3",
   "version": "3.9.12"
  }
 },
 "nbformat": 4,
 "nbformat_minor": 5
}
