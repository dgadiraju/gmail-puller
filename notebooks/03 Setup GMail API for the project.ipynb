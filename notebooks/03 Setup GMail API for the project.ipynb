{
 "cells": [
  {
   "cell_type": "markdown",
   "id": "9c06fe0c-e82f-4365-a49e-ee1362a3d450",
   "metadata": {},
   "source": [
    "## Setup GMail API for the project\n",
    "\n",
    "Make sure to setup GMail API for the project to read messages from GMail using Python based SDK.\n",
    "* Signup for https://console.cloud.google.com\n",
    "* Create a Project\n",
    "* Go to **APIs & Services**\n",
    "* Click on Create Credentials and follow the screens.\n",
    "  * Application Type: Desktop app\n",
    "  * Name: GMail Puller\n",
    "  * Download the JSON which contain credentials related to GMail API."
   ]
  }
 ],
 "metadata": {
  "kernelspec": {
   "display_name": "Python 3 (ipykernel)",
   "language": "python",
   "name": "python3"
  },
  "language_info": {
   "codemirror_mode": {
    "name": "ipython",
    "version": 3
   },
   "file_extension": ".py",
   "mimetype": "text/x-python",
   "name": "python",
   "nbconvert_exporter": "python",
   "pygments_lexer": "ipython3",
   "version": "3.9.12"
  }
 },
 "nbformat": 4,
 "nbformat_minor": 5
}
