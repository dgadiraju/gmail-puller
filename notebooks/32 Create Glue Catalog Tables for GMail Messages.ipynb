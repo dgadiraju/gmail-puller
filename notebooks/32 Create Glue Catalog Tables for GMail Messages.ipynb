{
 "cells": [
  {
   "cell_type": "markdown",
   "id": "779aeeb2-22b2-46b1-b85b-4c8b46ca26dd",
   "metadata": {},
   "source": [
    "## Create Glue Catalog Tables for GMail Messages\n",
    "\n",
    "As data is ready, let us go ahead and create Glue Catalog Table using Glue Crawler. We will also validate whether the table is created or not.\n",
    "\n",
    "* Glue Crawler can crawl existing files and create or update Glue Catalog Table.\n",
    "* Create Glue Crawler using the following information.\n",
    "    * Crawler: **GMail Crawler**\n",
    "    * Database: **gmail_db**\n",
    "    * Table Name: **messages**\n",
    "* Once the crawler is created run using AWS Web Console."
   ]
  },
  {
   "cell_type": "code",
   "execution_count": 3,
   "id": "6400360e-ae20-4594-8cfc-a44167bb53d8",
   "metadata": {},
   "outputs": [],
   "source": [
    "import boto3"
   ]
  },
  {
   "cell_type": "code",
   "execution_count": 4,
   "id": "4c5ae6e5-ad0f-424d-959d-08e2693bf0be",
   "metadata": {},
   "outputs": [],
   "source": [
    "glue_client = boto3.client('glue')"
   ]
  },
  {
   "cell_type": "code",
   "execution_count": 5,
   "id": "c9428ad7-e8f7-4c14-b710-f732aee7e184",
   "metadata": {},
   "outputs": [
    {
     "data": {
      "text/plain": [
       "{'CrawlerNames': ['Flights Data Crawler',\n",
       "  'Flights Parquet Data Crawler',\n",
       "  'GHActivity Landing Crawler',\n",
       "  'GHActivity Raw Crawler',\n",
       "  'GHRepos Landing Crawler',\n",
       "  'GMail Crawler',\n",
       "  'ITV Retail DB JSON Crawler',\n",
       "  'ITV Retail DB Parquet Crawler',\n",
       "  'Retail Crawler',\n",
       "  'TR Flights CSV Crawler',\n",
       "  'TR Flights Parquet Crawler',\n",
       "  'TR GHActivity Landing Crawler',\n",
       "  'TR GHActivity Raw Crawler',\n",
       "  'TR Retail Crawler',\n",
       "  'Yelp Dataset JSON Crawler',\n",
       "  'Yelp Predictions Crawler'],\n",
       " 'ResponseMetadata': {'RequestId': '61ab6dc3-e264-4230-87af-9a3e28c66b7b',\n",
       "  'HTTPStatusCode': 200,\n",
       "  'HTTPHeaders': {'date': 'Mon, 16 May 2022 04:23:42 GMT',\n",
       "   'content-type': 'application/x-amz-json-1.1',\n",
       "   'content-length': '435',\n",
       "   'connection': 'keep-alive',\n",
       "   'x-amzn-requestid': '61ab6dc3-e264-4230-87af-9a3e28c66b7b'},\n",
       "  'RetryAttempts': 0}}"
      ]
     },
     "execution_count": 5,
     "metadata": {},
     "output_type": "execute_result"
    }
   ],
   "source": [
    "glue_client.list_crawlers()"
   ]
  },
  {
   "cell_type": "code",
   "execution_count": 8,
   "id": "e4555326-4ce6-4300-ba2e-af1840c272f8",
   "metadata": {},
   "outputs": [
    {
     "data": {
      "text/plain": [
       "['Flights Data Crawler',\n",
       " 'Flights Parquet Data Crawler',\n",
       " 'GHActivity Landing Crawler',\n",
       " 'GHActivity Raw Crawler',\n",
       " 'GHRepos Landing Crawler',\n",
       " 'GMail Crawler',\n",
       " 'ITV Retail DB JSON Crawler',\n",
       " 'ITV Retail DB Parquet Crawler',\n",
       " 'Retail Crawler',\n",
       " 'TR Flights CSV Crawler',\n",
       " 'TR Flights Parquet Crawler',\n",
       " 'TR GHActivity Landing Crawler',\n",
       " 'TR GHActivity Raw Crawler',\n",
       " 'TR Retail Crawler',\n",
       " 'Yelp Dataset JSON Crawler',\n",
       " 'Yelp Predictions Crawler']"
      ]
     },
     "execution_count": 8,
     "metadata": {},
     "output_type": "execute_result"
    }
   ],
   "source": [
    "crawlers = glue_client.list_crawlers()['CrawlerNames']\n",
    "crawlers"
   ]
  },
  {
   "cell_type": "code",
   "execution_count": 10,
   "id": "5e0441ee-78c6-4b72-9ac0-4e38f1b30b45",
   "metadata": {},
   "outputs": [
    {
     "data": {
      "text/plain": [
       "{'DatabaseList': [{'Name': 'bls_db',\n",
       "   'Description': '',\n",
       "   'LocationUri': 'dbfs:/user/hive/warehouse/bls_db.db',\n",
       "   'Parameters': {},\n",
       "   'CreateTime': datetime.datetime(2021, 4, 11, 22, 47, 39, tzinfo=tzlocal()),\n",
       "   'CreateTableDefaultPermissions': [{'Principal': {'DataLakePrincipalIdentifier': 'IAM_ALLOWED_PRINCIPALS'},\n",
       "     'Permissions': ['ALL']}],\n",
       "   'CatalogId': '582845781536'},\n",
       "  {'Name': 'default',\n",
       "   'Description': 'Default Hive database',\n",
       "   'LocationUri': 'hdfs://ip-172-31-93-65.ec2.internal:8020/user/hive/warehouse',\n",
       "   'CreateTime': datetime.datetime(2018, 2, 7, 0, 36, 18, tzinfo=tzlocal()),\n",
       "   'CreateTableDefaultPermissions': [{'Principal': {'DataLakePrincipalIdentifier': 'IAM_ALLOWED_PRINCIPALS'},\n",
       "     'Permissions': ['ALL']}],\n",
       "   'CatalogId': '582845781536'},\n",
       "  {'Name': 'flights-db',\n",
       "   'CreateTime': datetime.datetime(2021, 1, 23, 12, 9, 32, tzinfo=tzlocal()),\n",
       "   'CreateTableDefaultPermissions': [{'Principal': {'DataLakePrincipalIdentifier': 'IAM_ALLOWED_PRINCIPALS'},\n",
       "     'Permissions': ['ALL']}],\n",
       "   'CatalogId': '582845781536'},\n",
       "  {'Name': 'genlogsdb',\n",
       "   'CreateTime': datetime.datetime(2021, 1, 24, 11, 40, 24, tzinfo=tzlocal()),\n",
       "   'CreateTableDefaultPermissions': [{'Principal': {'DataLakePrincipalIdentifier': 'IAM_ALLOWED_PRINCIPALS'},\n",
       "     'Permissions': ['ALL']}],\n",
       "   'CatalogId': '582845781536'},\n",
       "  {'Name': 'gmail_db',\n",
       "   'CreateTime': datetime.datetime(2022, 5, 7, 11, 58, 52, tzinfo=tzlocal()),\n",
       "   'CreateTableDefaultPermissions': [{'Principal': {'DataLakePrincipalIdentifier': 'IAM_ALLOWED_PRINCIPALS'},\n",
       "     'Permissions': ['ALL']}],\n",
       "   'CatalogId': '582845781536'},\n",
       "  {'Name': 'itv_retail_db_json',\n",
       "   'CreateTime': datetime.datetime(2022, 4, 17, 7, 7, 3, tzinfo=tzlocal()),\n",
       "   'CreateTableDefaultPermissions': [{'Principal': {'DataLakePrincipalIdentifier': 'IAM_ALLOWED_PRINCIPALS'},\n",
       "     'Permissions': ['ALL']}],\n",
       "   'CatalogId': '582845781536'},\n",
       "  {'Name': 'itvghlandingdb',\n",
       "   'CreateTime': datetime.datetime(2021, 1, 26, 5, 53, 31, tzinfo=tzlocal()),\n",
       "   'CreateTableDefaultPermissions': [{'Principal': {'DataLakePrincipalIdentifier': 'IAM_ALLOWED_PRINCIPALS'},\n",
       "     'Permissions': ['ALL']}],\n",
       "   'CatalogId': '582845781536'},\n",
       "  {'Name': 'itvghrawdb',\n",
       "   'CreateTime': datetime.datetime(2021, 1, 26, 12, 47, 49, tzinfo=tzlocal()),\n",
       "   'CreateTableDefaultPermissions': [{'Principal': {'DataLakePrincipalIdentifier': 'IAM_ALLOWED_PRINCIPALS'},\n",
       "     'Permissions': ['ALL']}],\n",
       "   'CatalogId': '582845781536'},\n",
       "  {'Name': 'jh_db',\n",
       "   'CreateTime': datetime.datetime(2021, 1, 21, 15, 37, 1, tzinfo=tzlocal()),\n",
       "   'CreateTableDefaultPermissions': [{'Principal': {'DataLakePrincipalIdentifier': 'IAM_ALLOWED_PRINCIPALS'},\n",
       "     'Permissions': ['ALL']}],\n",
       "   'CatalogId': '582845781536'},\n",
       "  {'Name': 'myretail',\n",
       "   'CreateTime': datetime.datetime(2021, 9, 23, 22, 53, 23, tzinfo=tzlocal()),\n",
       "   'CreateTableDefaultPermissions': [{'Principal': {'DataLakePrincipalIdentifier': 'IAM_ALLOWED_PRINCIPALS'},\n",
       "     'Permissions': ['ALL']}],\n",
       "   'CatalogId': '582845781536'},\n",
       "  {'Name': 'retail_db',\n",
       "   'CreateTime': datetime.datetime(2021, 1, 26, 10, 54, 27, tzinfo=tzlocal()),\n",
       "   'CreateTableDefaultPermissions': [{'Principal': {'DataLakePrincipalIdentifier': 'IAM_ALLOWED_PRINCIPALS'},\n",
       "     'Permissions': ['ALL']}],\n",
       "   'CatalogId': '582845781536'},\n",
       "  {'Name': 'sagemaker_data_wrangler',\n",
       "   'CreateTime': datetime.datetime(2022, 3, 27, 15, 45, 1, tzinfo=tzlocal()),\n",
       "   'CreateTableDefaultPermissions': [{'Principal': {'DataLakePrincipalIdentifier': 'IAM_ALLOWED_PRINCIPALS'},\n",
       "     'Permissions': ['ALL']}],\n",
       "   'CatalogId': '582845781536'},\n",
       "  {'Name': 'sagemaker_processing',\n",
       "   'CreateTime': datetime.datetime(2022, 3, 28, 5, 53, 21, tzinfo=tzlocal()),\n",
       "   'CreateTableDefaultPermissions': [{'Principal': {'DataLakePrincipalIdentifier': 'IAM_ALLOWED_PRINCIPALS'},\n",
       "     'Permissions': ['ALL']}],\n",
       "   'CatalogId': '582845781536'},\n",
       "  {'Name': 'sampledb',\n",
       "   'Description': 'Sample database',\n",
       "   'Parameters': {'CreatedBy': 'Athena', 'EXTERNAL': 'TRUE'},\n",
       "   'CreateTime': datetime.datetime(2021, 6, 24, 17, 3, 50, tzinfo=tzlocal()),\n",
       "   'CreateTableDefaultPermissions': [{'Principal': {'DataLakePrincipalIdentifier': 'IAM_ALLOWED_PRINCIPALS'},\n",
       "     'Permissions': ['ALL']}],\n",
       "   'CatalogId': '582845781536'},\n",
       "  {'Name': 'tr-flights-db',\n",
       "   'CreateTime': datetime.datetime(2021, 2, 16, 18, 32, 55, tzinfo=tzlocal()),\n",
       "   'CreateTableDefaultPermissions': [{'Principal': {'DataLakePrincipalIdentifier': 'IAM_ALLOWED_PRINCIPALS'},\n",
       "     'Permissions': ['ALL']}],\n",
       "   'CatalogId': '582845781536'},\n",
       "  {'Name': 'trghlandingdb',\n",
       "   'CreateTime': datetime.datetime(2021, 2, 17, 9, 55, 7, tzinfo=tzlocal()),\n",
       "   'CreateTableDefaultPermissions': [{'Principal': {'DataLakePrincipalIdentifier': 'IAM_ALLOWED_PRINCIPALS'},\n",
       "     'Permissions': ['ALL']}],\n",
       "   'CatalogId': '582845781536'},\n",
       "  {'Name': 'trghrawdb',\n",
       "   'CreateTime': datetime.datetime(2021, 2, 17, 11, 39, 3, tzinfo=tzlocal()),\n",
       "   'CreateTableDefaultPermissions': [{'Principal': {'DataLakePrincipalIdentifier': 'IAM_ALLOWED_PRINCIPALS'},\n",
       "     'Permissions': ['ALL']}],\n",
       "   'CatalogId': '582845781536'},\n",
       "  {'Name': 'yelp_json_db',\n",
       "   'CreateTime': datetime.datetime(2022, 3, 12, 18, 1, 20, tzinfo=tzlocal()),\n",
       "   'CreateTableDefaultPermissions': [{'Principal': {'DataLakePrincipalIdentifier': 'IAM_ALLOWED_PRINCIPALS'},\n",
       "     'Permissions': ['ALL']}],\n",
       "   'CatalogId': '582845781536'},\n",
       "  {'Name': 'yelp_predictions',\n",
       "   'CreateTime': datetime.datetime(2022, 3, 28, 6, 16, 46, tzinfo=tzlocal()),\n",
       "   'CreateTableDefaultPermissions': [{'Principal': {'DataLakePrincipalIdentifier': 'IAM_ALLOWED_PRINCIPALS'},\n",
       "     'Permissions': ['ALL']}],\n",
       "   'CatalogId': '582845781536'}],\n",
       " 'ResponseMetadata': {'RequestId': 'd18badf2-f69b-45c5-a361-b5b6f516d7fd',\n",
       "  'HTTPStatusCode': 200,\n",
       "  'HTTPHeaders': {'date': 'Mon, 16 May 2022 04:25:11 GMT',\n",
       "   'content-type': 'application/x-amz-json-1.1',\n",
       "   'content-length': '4795',\n",
       "   'connection': 'keep-alive',\n",
       "   'x-amzn-requestid': 'd18badf2-f69b-45c5-a361-b5b6f516d7fd'},\n",
       "  'RetryAttempts': 0}}"
      ]
     },
     "execution_count": 10,
     "metadata": {},
     "output_type": "execute_result"
    }
   ],
   "source": [
    "glue_client.get_databases()"
   ]
  },
  {
   "cell_type": "code",
   "execution_count": 12,
   "id": "d784e986-2414-4c9d-b675-a537bf5c5d57",
   "metadata": {},
   "outputs": [],
   "source": [
    "database_list = glue_client.get_databases()['DatabaseList']"
   ]
  },
  {
   "cell_type": "code",
   "execution_count": 13,
   "id": "9bc4d808-f970-424d-ab67-13f1666ca746",
   "metadata": {},
   "outputs": [],
   "source": [
    "database_names = [database['Name'] for database in database_list]"
   ]
  },
  {
   "cell_type": "code",
   "execution_count": 14,
   "id": "58d486d9-fba6-44da-8d61-5acbefbe83cd",
   "metadata": {},
   "outputs": [
    {
     "data": {
      "text/plain": [
       "['bls_db',\n",
       " 'default',\n",
       " 'flights-db',\n",
       " 'genlogsdb',\n",
       " 'gmail_db',\n",
       " 'itv_retail_db_json',\n",
       " 'itvghlandingdb',\n",
       " 'itvghrawdb',\n",
       " 'jh_db',\n",
       " 'myretail',\n",
       " 'retail_db',\n",
       " 'sagemaker_data_wrangler',\n",
       " 'sagemaker_processing',\n",
       " 'sampledb',\n",
       " 'tr-flights-db',\n",
       " 'trghlandingdb',\n",
       " 'trghrawdb',\n",
       " 'yelp_json_db',\n",
       " 'yelp_predictions']"
      ]
     },
     "execution_count": 14,
     "metadata": {},
     "output_type": "execute_result"
    }
   ],
   "source": [
    "database_names"
   ]
  },
  {
   "cell_type": "code",
   "execution_count": null,
   "id": "15a81529-8bfe-4b23-bc6e-bc50ec3d151c",
   "metadata": {},
   "outputs": [],
   "source": [
    "glue_client.get_tables?"
   ]
  },
  {
   "cell_type": "code",
   "execution_count": 16,
   "id": "1e94caf4-390e-45fa-a6c9-c4ddaee026a7",
   "metadata": {},
   "outputs": [
    {
     "data": {
      "text/plain": [
       "{'TableList': [{'Name': 'messages',\n",
       "   'DatabaseName': 'gmail_db',\n",
       "   'Owner': 'owner',\n",
       "   'CreateTime': datetime.datetime(2022, 5, 7, 11, 59, 41, tzinfo=tzlocal()),\n",
       "   'UpdateTime': datetime.datetime(2022, 5, 7, 11, 59, 41, tzinfo=tzlocal()),\n",
       "   'LastAccessTime': datetime.datetime(2022, 5, 7, 11, 59, 41, tzinfo=tzlocal()),\n",
       "   'Retention': 0,\n",
       "   'StorageDescriptor': {'Columns': [{'Name': 'id', 'Type': 'string'},\n",
       "     {'Name': 'threadid', 'Type': 'string'},\n",
       "     {'Name': 'labelids', 'Type': 'array<string>'},\n",
       "     {'Name': 'snippet', 'Type': 'string'},\n",
       "     {'Name': 'payload',\n",
       "      'Type': 'struct<partId:string,mimeType:string,filename:string,headers:array<struct<name:string,value:string>>,body:struct<size:int,data:string>,parts:array<struct<partId:string,mimeType:string,filename:string,headers:array<struct<name:string,value:string>>,body:struct<size:int,data:string>,parts:array<struct<partId:string,mimeType:string,filename:string,headers:array<struct<name:string,value:string>>,body:struct<size:int>,parts:array<struct<partId:string,mimeType:string,filename:string,headers:array<struct<name:string,value:string>>,body:struct<size:int,data:string>>>>>>>>'},\n",
       "     {'Name': 'sizeestimate', 'Type': 'int'},\n",
       "     {'Name': 'historyid', 'Type': 'string'},\n",
       "     {'Name': 'internaldate', 'Type': 'string'}],\n",
       "    'Location': 's3://itversitydata/messages/',\n",
       "    'InputFormat': 'org.apache.hadoop.mapred.TextInputFormat',\n",
       "    'OutputFormat': 'org.apache.hadoop.hive.ql.io.HiveIgnoreKeyTextOutputFormat',\n",
       "    'Compressed': False,\n",
       "    'NumberOfBuckets': -1,\n",
       "    'SerdeInfo': {'SerializationLibrary': 'org.openx.data.jsonserde.JsonSerDe',\n",
       "     'Parameters': {'paths': 'historyId,id,internalDate,labelIds,payload,sizeEstimate,snippet,threadId'}},\n",
       "    'BucketColumns': [],\n",
       "    'SortColumns': [],\n",
       "    'Parameters': {'CrawlerSchemaDeserializerVersion': '1.0',\n",
       "     'CrawlerSchemaSerializerVersion': '1.0',\n",
       "     'UPDATED_BY_CRAWLER': 'GMail Crawler',\n",
       "     'averageRecordSize': '69905',\n",
       "     'classification': 'json',\n",
       "     'compressionType': 'none',\n",
       "     'objectCount': '1',\n",
       "     'recordCount': '79',\n",
       "     'sizeKey': '5531832',\n",
       "     'typeOfData': 'file'},\n",
       "    'StoredAsSubDirectories': False},\n",
       "   'PartitionKeys': [],\n",
       "   'TableType': 'EXTERNAL_TABLE',\n",
       "   'Parameters': {'CrawlerSchemaDeserializerVersion': '1.0',\n",
       "    'CrawlerSchemaSerializerVersion': '1.0',\n",
       "    'UPDATED_BY_CRAWLER': 'GMail Crawler',\n",
       "    'averageRecordSize': '69905',\n",
       "    'classification': 'json',\n",
       "    'compressionType': 'none',\n",
       "    'objectCount': '1',\n",
       "    'recordCount': '79',\n",
       "    'sizeKey': '5531832',\n",
       "    'typeOfData': 'file'},\n",
       "   'CreatedBy': 'arn:aws:sts::582845781536:assumed-role/AWSGlueServiceRole-Messages/AWS-Crawler',\n",
       "   'IsRegisteredWithLakeFormation': False,\n",
       "   'CatalogId': '582845781536',\n",
       "   'VersionId': '0'}],\n",
       " 'ResponseMetadata': {'RequestId': '0ad52295-ac32-4c9d-b4d5-4b9c15d6b72c',\n",
       "  'HTTPStatusCode': 200,\n",
       "  'HTTPHeaders': {'date': 'Mon, 16 May 2022 04:27:59 GMT',\n",
       "   'content-type': 'application/x-amz-json-1.1',\n",
       "   'content-length': '2393',\n",
       "   'connection': 'keep-alive',\n",
       "   'x-amzn-requestid': '0ad52295-ac32-4c9d-b4d5-4b9c15d6b72c'},\n",
       "  'RetryAttempts': 0}}"
      ]
     },
     "execution_count": 16,
     "metadata": {},
     "output_type": "execute_result"
    }
   ],
   "source": [
    "glue_client.get_tables(DatabaseName='gmail_db')"
   ]
  },
  {
   "cell_type": "code",
   "execution_count": 19,
   "id": "11a32530-6175-4f80-8034-2e77ca6730a5",
   "metadata": {},
   "outputs": [],
   "source": [
    "table_list = glue_client.get_tables(DatabaseName='gmail_db')['TableList']"
   ]
  },
  {
   "cell_type": "code",
   "execution_count": 20,
   "id": "0d5c84a5-c1f1-4e4e-9d55-b7058c43c61f",
   "metadata": {},
   "outputs": [],
   "source": [
    "table_names = [table['Name'] for table in table_list]"
   ]
  },
  {
   "cell_type": "code",
   "execution_count": 21,
   "id": "a8aa4cda-3ff2-4a72-8bb8-deec3d06e9c2",
   "metadata": {},
   "outputs": [
    {
     "data": {
      "text/plain": [
       "['messages']"
      ]
     },
     "execution_count": 21,
     "metadata": {},
     "output_type": "execute_result"
    }
   ],
   "source": [
    "table_names"
   ]
  },
  {
   "cell_type": "code",
   "execution_count": null,
   "id": "cd28516a-1d43-4477-8817-3f3ed9909669",
   "metadata": {},
   "outputs": [],
   "source": []
  }
 ],
 "metadata": {
  "kernelspec": {
   "display_name": "Python 3 (ipykernel)",
   "language": "python",
   "name": "python3"
  },
  "language_info": {
   "codemirror_mode": {
    "name": "ipython",
    "version": 3
   },
   "file_extension": ".py",
   "mimetype": "text/x-python",
   "name": "python",
   "nbconvert_exporter": "python",
   "pygments_lexer": "ipython3",
   "version": "3.9.12"
  }
 },
 "nbformat": 4,
 "nbformat_minor": 5
}
