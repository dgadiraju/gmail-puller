{
 "cells": [
  {
   "cell_type": "code",
   "execution_count": 1,
   "id": "d50238ae-ad6e-412b-b21d-0b9e567f4b9b",
   "metadata": {},
   "outputs": [],
   "source": [
    "import os"
   ]
  },
  {
   "cell_type": "code",
   "execution_count": 2,
   "id": "bdde970e-b143-4609-933f-229d15f6d1aa",
   "metadata": {},
   "outputs": [],
   "source": [
    "app_home = os.environ.get('APP_HOME')"
   ]
  },
  {
   "cell_type": "code",
   "execution_count": 3,
   "id": "badb77fe-283c-4d12-b4f3-0631a717d735",
   "metadata": {},
   "outputs": [],
   "source": [
    "import boto3"
   ]
  },
  {
   "cell_type": "code",
   "execution_count": 4,
   "id": "f289ced8-b18c-4905-809d-e716369b085c",
   "metadata": {},
   "outputs": [],
   "source": [
    "sm_client = boto3.client(\n",
    "    'secretsmanager',\n",
    "    region_name='us-east-1'\n",
    ")"
   ]
  },
  {
   "cell_type": "code",
   "execution_count": 5,
   "id": "7679b394-8416-4449-ab12-5b1db690aa85",
   "metadata": {},
   "outputs": [],
   "source": [
    "secret_token = sm_client.get_secret_value(SecretId='gmail_token')['SecretBinary']"
   ]
  },
  {
   "cell_type": "markdown",
   "id": "411632a7-0cf3-4331-a07c-3f086c55f34f",
   "metadata": {},
   "source": [
    "* `secret_token` contains the content of token.pickle generated when we have authenticated with our gmail account to read emails."
   ]
  },
  {
   "cell_type": "code",
   "execution_count": null,
   "id": "95b15a6a-7848-49da-ba90-83722612b188",
   "metadata": {},
   "outputs": [],
   "source": [
    "import pickle"
   ]
  },
  {
   "cell_type": "code",
   "execution_count": null,
   "id": "fc8a7841-531c-45d6-9240-a4b7241b50ea",
   "metadata": {},
   "outputs": [],
   "source": [
    "creds = pickle.loads(secret_token) # converting the content of token.pickle to credentials to GMail API"
   ]
  },
  {
   "cell_type": "code",
   "execution_count": null,
   "id": "044c9676-cc85-4225-a84d-45ea7308258e",
   "metadata": {},
   "outputs": [],
   "source": [
    "from googleapiclient.discovery import build"
   ]
  },
  {
   "cell_type": "code",
   "execution_count": null,
   "id": "c300f0da-c8c0-4da9-b5d1-d9a9fe1dfd63",
   "metadata": {},
   "outputs": [],
   "source": [
    "service = build('gmail', 'v1', credentials=creds)"
   ]
  },
  {
   "cell_type": "code",
   "execution_count": null,
   "id": "1ff11333-e1a3-477f-baff-f5d3ddd9cb0e",
   "metadata": {},
   "outputs": [],
   "source": [
    "users = service.users()"
   ]
  },
  {
   "cell_type": "code",
   "execution_count": null,
   "id": "86a12deb-e729-43c6-b2d6-1954badc4fe0",
   "metadata": {},
   "outputs": [],
   "source": [
    "help(users.messages().list)"
   ]
  },
  {
   "cell_type": "code",
   "execution_count": null,
   "id": "d8d5bf49-476f-41dc-82a2-c9c041752a6d",
   "metadata": {},
   "outputs": [],
   "source": [
    "users.messages().list(userId='me').execute()"
   ]
  },
  {
   "cell_type": "code",
   "execution_count": null,
   "id": "f2caa64b-72c0-4349-bf80-7ddd6ef0c020",
   "metadata": {},
   "outputs": [],
   "source": [
    "START_DATE = '2022/01/01'\n",
    "END_DATE = '2022/01/10'"
   ]
  },
  {
   "cell_type": "code",
   "execution_count": null,
   "id": "55d7cf69-72ea-41cf-a20d-99e85bc30d92",
   "metadata": {},
   "outputs": [],
   "source": [
    "messages_all = []\n",
    "next_page_token = None\n",
    "\n",
    "while True:\n",
    "    print(f'Processing in range between {START_DATE} and {END_DATE} using token {next_page_token}')\n",
    "    if next_page_token:\n",
    "        messages = users. \\\n",
    "            messages(). \\\n",
    "            list(\n",
    "                userId='me', \n",
    "                q=f'after:{START_DATE} before:{END_DATE}',\n",
    "                pageToken=next_page_token\n",
    "            ). \\\n",
    "            execute()\n",
    "        messages_all += messages['messages']\n",
    "        next_page_token = messages.get('nextPageToken')\n",
    "    else:\n",
    "        messages = users. \\\n",
    "            messages(). \\\n",
    "            list(\n",
    "                userId='me', \n",
    "                q=f'after:{START_DATE} before:{END_DATE}'\n",
    "            ). \\\n",
    "            execute()\n",
    "        messages_all = messages['messages']\n",
    "        next_page_token = messages.get('nextPageToken')\n",
    "    if next_page_token == None:\n",
    "        break\n",
    "        "
   ]
  },
  {
   "cell_type": "code",
   "execution_count": null,
   "id": "cfd60085-023a-4647-917f-c17648d68864",
   "metadata": {},
   "outputs": [],
   "source": [
    "messages_all"
   ]
  },
  {
   "cell_type": "code",
   "execution_count": null,
   "id": "342a1acb-4b5d-43d1-983f-aa4a0b7552df",
   "metadata": {},
   "outputs": [],
   "source": [
    "len(messages_all)"
   ]
  },
  {
   "cell_type": "code",
   "execution_count": null,
   "id": "354ba5e4-b7a6-4035-8453-02cb553be9e2",
   "metadata": {},
   "outputs": [],
   "source": []
  }
 ],
 "metadata": {
  "kernelspec": {
   "display_name": "Python 3 (ipykernel)",
   "language": "python",
   "name": "python3"
  },
  "language_info": {
   "codemirror_mode": {
    "name": "ipython",
    "version": 3
   },
   "file_extension": ".py",
   "mimetype": "text/x-python",
   "name": "python",
   "nbconvert_exporter": "python",
   "pygments_lexer": "ipython3",
   "version": "3.9.12"
  }
 },
 "nbformat": 4,
 "nbformat_minor": 5
}
