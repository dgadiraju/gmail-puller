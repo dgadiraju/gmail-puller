{
 "cells": [
  {
   "cell_type": "markdown",
   "id": "a2be22d7-81dd-4477-b706-f59472c687f9",
   "metadata": {},
   "source": [
    "## Setup Development Environment for the Project\n",
    "\n",
    "Let us go through the details about setting up the development environment for this project.\n",
    "* Make sure to have Python 3.9 installed.\n",
    "* Clone the project from GitHub.\n",
    "* Make sure virtual environment is created with name gp-venv. You can use python3.9 -m venv gp-venv.\n",
    "* Install required libraries by running `pip install -r requirements.txt`\n",
    "* The repository also contain jupyter notebooks to learn key concepts required for this project. Install jupyter lab using `pip install jupyterlab`.\n",
    "* Once jupyter lab is installed, you can run jupyter lab command to start jupter lab based notebook server.\n",
    "* Make sure to create .credentials folder under project directory gmail-puller. Copy the **token.pickle** to .credentials."
   ]
  },
  {
   "cell_type": "code",
   "execution_count": null,
   "id": "002e4892-dd06-4483-8111-c1a8ba6a6bab",
   "metadata": {},
   "outputs": [],
   "source": []
  }
 ],
 "metadata": {
  "kernelspec": {
   "display_name": "Python 3 (ipykernel)",
   "language": "python",
   "name": "python3"
  },
  "language_info": {
   "codemirror_mode": {
    "name": "ipython",
    "version": 3
   },
   "file_extension": ".py",
   "mimetype": "text/x-python",
   "name": "python",
   "nbconvert_exporter": "python",
   "pygments_lexer": "ipython3",
   "version": "3.9.12"
  }
 },
 "nbformat": 4,
 "nbformat_minor": 5
}
