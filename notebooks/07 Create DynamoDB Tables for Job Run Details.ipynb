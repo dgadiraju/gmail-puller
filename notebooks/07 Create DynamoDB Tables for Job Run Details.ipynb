{
 "cells": [
  {
   "cell_type": "code",
   "execution_count": 1,
   "id": "4654b9a2-c69f-4d99-ba54-9c264c2e307e",
   "metadata": {},
   "outputs": [],
   "source": [
    "import boto3"
   ]
  },
  {
   "cell_type": "code",
   "execution_count": 2,
   "id": "1974ecdb-3ff1-4a8c-8616-18213f880b59",
   "metadata": {},
   "outputs": [],
   "source": [
    "dynamo_client = boto3.client('dynamodb')"
   ]
  },
  {
   "cell_type": "code",
   "execution_count": 3,
   "id": "cc14ad8f-0494-429c-a5fa-e535d365eea9",
   "metadata": {},
   "outputs": [
    {
     "data": {
      "text/plain": [
       "{'TableNames': ['emails', 'ghmarker', 'ghrepos', 'gmail_jobs', 'posts'],\n",
       " 'ResponseMetadata': {'RequestId': '15P316INURVHVFKQ589VOIG7HBVV4KQNSO5AEMVJF66Q9ASUAAJG',\n",
       "  'HTTPStatusCode': 200,\n",
       "  'HTTPHeaders': {'server': 'Server',\n",
       "   'date': 'Thu, 12 May 2022 03:07:24 GMT',\n",
       "   'content-type': 'application/x-amz-json-1.0',\n",
       "   'content-length': '67',\n",
       "   'connection': 'keep-alive',\n",
       "   'x-amzn-requestid': '15P316INURVHVFKQ589VOIG7HBVV4KQNSO5AEMVJF66Q9ASUAAJG',\n",
       "   'x-amz-crc32': '188921284'},\n",
       "  'RetryAttempts': 0}}"
      ]
     },
     "execution_count": 3,
     "metadata": {},
     "output_type": "execute_result"
    }
   ],
   "source": [
    "dynamo_client.list_tables()"
   ]
  },
  {
   "cell_type": "code",
   "execution_count": 23,
   "id": "bfd32f77-b653-4ea2-915d-c2e45932a5f4",
   "metadata": {},
   "outputs": [
    {
     "data": {
      "text/plain": [
       "{'TableDescription': {'TableName': 'gmail_job_run_details',\n",
       "  'TableStatus': 'DELETING',\n",
       "  'ProvisionedThroughput': {'NumberOfDecreasesToday': 0,\n",
       "   'ReadCapacityUnits': 0,\n",
       "   'WriteCapacityUnits': 0},\n",
       "  'TableSizeBytes': 0,\n",
       "  'ItemCount': 0,\n",
       "  'TableArn': 'arn:aws:dynamodb:us-east-1:582845781536:table/gmail_job_run_details',\n",
       "  'TableId': '4d0134b0-12b3-4b8a-b051-d2cdc446c862',\n",
       "  'BillingModeSummary': {'BillingMode': 'PAY_PER_REQUEST',\n",
       "   'LastUpdateToPayPerRequestDateTime': datetime.datetime(2022, 5, 12, 9, 3, 44, 872000, tzinfo=tzlocal())}},\n",
       " 'ResponseMetadata': {'RequestId': 'JE7OB09GHEAKPCPLND644MS1RRVV4KQNSO5AEMVJF66Q9ASUAAJG',\n",
       "  'HTTPStatusCode': 200,\n",
       "  'HTTPHeaders': {'server': 'Server',\n",
       "   'date': 'Thu, 12 May 2022 03:52:31 GMT',\n",
       "   'content-type': 'application/x-amz-json-1.0',\n",
       "   'content-length': '576',\n",
       "   'connection': 'keep-alive',\n",
       "   'x-amzn-requestid': 'JE7OB09GHEAKPCPLND644MS1RRVV4KQNSO5AEMVJF66Q9ASUAAJG',\n",
       "   'x-amz-crc32': '1350872295'},\n",
       "  'RetryAttempts': 0}}"
      ]
     },
     "execution_count": 23,
     "metadata": {},
     "output_type": "execute_result"
    }
   ],
   "source": [
    "dynamo_client.delete_table(TableName='gmail_job_run_details')"
   ]
  },
  {
   "cell_type": "code",
   "execution_count": null,
   "id": "1d07db82-514e-477a-8716-87ecf3eaf9ca",
   "metadata": {},
   "outputs": [],
   "source": [
    "dynamo_client.create_table?"
   ]
  },
  {
   "cell_type": "code",
   "execution_count": 24,
   "id": "8cc5247e-22f4-413e-88c2-126f024aac30",
   "metadata": {},
   "outputs": [],
   "source": [
    "response = dynamo_client.create_table(\n",
    "    AttributeDefinitions=[\n",
    "        {\n",
    "            'AttributeName': 'job_id',\n",
    "            'AttributeType': 'S'\n",
    "        },\n",
    "                {\n",
    "            'AttributeName': 'job_run_time',\n",
    "            'AttributeType': 'N'\n",
    "        }\n",
    "    ],\n",
    "    TableName='gmail_job_run_details',\n",
    "    KeySchema=[\n",
    "        {\n",
    "          'AttributeName': 'job_id',\n",
    "          'KeyType': 'HASH'\n",
    "        },\n",
    "        {\n",
    "          'AttributeName': 'job_run_time',\n",
    "          'KeyType': 'RANGE'\n",
    "        },        \n",
    "    ],\n",
    "    BillingMode='PAY_PER_REQUEST'\n",
    ")"
   ]
  },
  {
   "cell_type": "code",
   "execution_count": 12,
   "id": "93d40fa5-a3fa-4f82-b141-ef6ea7523cca",
   "metadata": {},
   "outputs": [
    {
     "data": {
      "text/plain": [
       "{'TableDescription': {'AttributeDefinitions': [{'AttributeName': 'job_id',\n",
       "    'AttributeType': 'S'},\n",
       "   {'AttributeName': 'job_run_time', 'AttributeType': 'S'}],\n",
       "  'TableName': 'gmail_job_run_details',\n",
       "  'KeySchema': [{'AttributeName': 'job_id', 'KeyType': 'HASH'},\n",
       "   {'AttributeName': 'job_run_time', 'KeyType': 'RANGE'}],\n",
       "  'TableStatus': 'CREATING',\n",
       "  'CreationDateTime': datetime.datetime(2022, 5, 12, 9, 3, 44, 872000, tzinfo=tzlocal()),\n",
       "  'ProvisionedThroughput': {'NumberOfDecreasesToday': 0,\n",
       "   'ReadCapacityUnits': 0,\n",
       "   'WriteCapacityUnits': 0},\n",
       "  'TableSizeBytes': 0,\n",
       "  'ItemCount': 0,\n",
       "  'TableArn': 'arn:aws:dynamodb:us-east-1:582845781536:table/gmail_job_run_details',\n",
       "  'TableId': '4d0134b0-12b3-4b8a-b051-d2cdc446c862',\n",
       "  'BillingModeSummary': {'BillingMode': 'PAY_PER_REQUEST'}},\n",
       " 'ResponseMetadata': {'RequestId': '1AQU8OCI7UKLMTAH300MD9AMS7VV4KQNSO5AEMVJF66Q9ASUAAJG',\n",
       "  'HTTPStatusCode': 200,\n",
       "  'HTTPHeaders': {'server': 'Server',\n",
       "   'date': 'Thu, 12 May 2022 03:33:44 GMT',\n",
       "   'content-type': 'application/x-amz-json-1.0',\n",
       "   'content-length': '740',\n",
       "   'connection': 'keep-alive',\n",
       "   'x-amzn-requestid': '1AQU8OCI7UKLMTAH300MD9AMS7VV4KQNSO5AEMVJF66Q9ASUAAJG',\n",
       "   'x-amz-crc32': '2835930891'},\n",
       "  'RetryAttempts': 0}}"
      ]
     },
     "execution_count": 12,
     "metadata": {},
     "output_type": "execute_result"
    }
   ],
   "source": [
    "response"
   ]
  },
  {
   "cell_type": "code",
   "execution_count": 13,
   "id": "f95078c5-f7c0-4dba-b266-1bb4c447230c",
   "metadata": {},
   "outputs": [
    {
     "data": {
      "text/plain": [
       "{'TableNames': ['emails',\n",
       "  'ghmarker',\n",
       "  'ghrepos',\n",
       "  'gmail_job_run_details',\n",
       "  'gmail_jobs',\n",
       "  'posts'],\n",
       " 'ResponseMetadata': {'RequestId': '7OCUDG2ELK7FHE71HD5U6FH1VJVV4KQNSO5AEMVJF66Q9ASUAAJG',\n",
       "  'HTTPStatusCode': 200,\n",
       "  'HTTPHeaders': {'server': 'Server',\n",
       "   'date': 'Thu, 12 May 2022 03:33:57 GMT',\n",
       "   'content-type': 'application/x-amz-json-1.0',\n",
       "   'content-length': '91',\n",
       "   'connection': 'keep-alive',\n",
       "   'x-amzn-requestid': '7OCUDG2ELK7FHE71HD5U6FH1VJVV4KQNSO5AEMVJF66Q9ASUAAJG',\n",
       "   'x-amz-crc32': '190728639'},\n",
       "  'RetryAttempts': 0}}"
      ]
     },
     "execution_count": 13,
     "metadata": {},
     "output_type": "execute_result"
    }
   ],
   "source": [
    "dynamo_client.list_tables()"
   ]
  },
  {
   "cell_type": "code",
   "execution_count": 14,
   "id": "1732b26c-0656-4826-abd9-662b65557610",
   "metadata": {},
   "outputs": [
    {
     "data": {
      "text/plain": [
       "{'Table': {'AttributeDefinitions': [{'AttributeName': 'job_id',\n",
       "    'AttributeType': 'S'},\n",
       "   {'AttributeName': 'job_run_time', 'AttributeType': 'S'}],\n",
       "  'TableName': 'gmail_job_run_details',\n",
       "  'KeySchema': [{'AttributeName': 'job_id', 'KeyType': 'HASH'},\n",
       "   {'AttributeName': 'job_run_time', 'KeyType': 'RANGE'}],\n",
       "  'TableStatus': 'ACTIVE',\n",
       "  'CreationDateTime': datetime.datetime(2022, 5, 12, 9, 3, 44, 872000, tzinfo=tzlocal()),\n",
       "  'ProvisionedThroughput': {'NumberOfDecreasesToday': 0,\n",
       "   'ReadCapacityUnits': 0,\n",
       "   'WriteCapacityUnits': 0},\n",
       "  'TableSizeBytes': 0,\n",
       "  'ItemCount': 0,\n",
       "  'TableArn': 'arn:aws:dynamodb:us-east-1:582845781536:table/gmail_job_run_details',\n",
       "  'TableId': '4d0134b0-12b3-4b8a-b051-d2cdc446c862',\n",
       "  'BillingModeSummary': {'BillingMode': 'PAY_PER_REQUEST',\n",
       "   'LastUpdateToPayPerRequestDateTime': datetime.datetime(2022, 5, 12, 9, 3, 44, 872000, tzinfo=tzlocal())}},\n",
       " 'ResponseMetadata': {'RequestId': 'D1E74M2IBU0KJEHIOSC1MMIDSFVV4KQNSO5AEMVJF66Q9ASUAAJG',\n",
       "  'HTTPStatusCode': 200,\n",
       "  'HTTPHeaders': {'server': 'Server',\n",
       "   'date': 'Thu, 12 May 2022 03:34:08 GMT',\n",
       "   'content-type': 'application/x-amz-json-1.0',\n",
       "   'content-length': '833',\n",
       "   'connection': 'keep-alive',\n",
       "   'x-amzn-requestid': 'D1E74M2IBU0KJEHIOSC1MMIDSFVV4KQNSO5AEMVJF66Q9ASUAAJG',\n",
       "   'x-amz-crc32': '714185553'},\n",
       "  'RetryAttempts': 0}}"
      ]
     },
     "execution_count": 14,
     "metadata": {},
     "output_type": "execute_result"
    }
   ],
   "source": [
    "dynamo_client.describe_table(TableName='gmail_job_run_details')"
   ]
  },
  {
   "cell_type": "code",
   "execution_count": 25,
   "id": "50ded030-e55b-41d1-bd03-aa86f1d419ae",
   "metadata": {},
   "outputs": [],
   "source": [
    "dynamodb_resource = boto3.resource('dynamodb')"
   ]
  },
  {
   "cell_type": "code",
   "execution_count": 26,
   "id": "0580d767-115d-4620-a071-c72f587f2193",
   "metadata": {},
   "outputs": [],
   "source": [
    "job_details_table = dynamodb_resource.Table('gmail_job_run_details')"
   ]
  },
  {
   "cell_type": "code",
   "execution_count": 27,
   "id": "db1c7bf8-d304-4c0b-8902-21f22bdbdf7b",
   "metadata": {},
   "outputs": [],
   "source": [
    "import time\n",
    "import datetime"
   ]
  },
  {
   "cell_type": "code",
   "execution_count": 28,
   "id": "3dd03dc6-5b4f-4727-9a9e-a2ceefa451e0",
   "metadata": {},
   "outputs": [],
   "source": [
    "jrd_item = {\n",
    "    'job_id': 'gmail_ingest',\n",
    "    'job_run_time': int(time.mktime(datetime.datetime.now().timetuple())),\n",
    "    'job_run_bookmark_details': {\n",
    "        'last_message_id': '17e144500cc9efec',\n",
    "        'last_message_start_time': 1641011400,\n",
    "        'last_message_end_time': 1641018600\n",
    "    },\n",
    "    'rows_processed': 0\n",
    "}"
   ]
  },
  {
   "cell_type": "code",
   "execution_count": 29,
   "id": "c2d744f5-1c1d-45dc-9d38-9895486dfe15",
   "metadata": {},
   "outputs": [
    {
     "data": {
      "text/plain": [
       "{'job_id': 'gmail_ingest',\n",
       " 'job_run_time': 1652327576,\n",
       " 'job_run_bookmark_details': {'last_message_id': '17e144500cc9efec',\n",
       "  'last_message_start_time': 1641011400,\n",
       "  'last_message_end_time': 1641018600},\n",
       " 'rows_processed': 0}"
      ]
     },
     "execution_count": 29,
     "metadata": {},
     "output_type": "execute_result"
    }
   ],
   "source": [
    "jrd_item"
   ]
  },
  {
   "cell_type": "code",
   "execution_count": 30,
   "id": "366a84e1-b0da-4ce4-afe9-7f2caa9a148e",
   "metadata": {},
   "outputs": [
    {
     "data": {
      "text/plain": [
       "{'ResponseMetadata': {'RequestId': 'I2MGUF3NDDUREECP0ND96KT0V7VV4KQNSO5AEMVJF66Q9ASUAAJG',\n",
       "  'HTTPStatusCode': 200,\n",
       "  'HTTPHeaders': {'server': 'Server',\n",
       "   'date': 'Thu, 12 May 2022 03:54:00 GMT',\n",
       "   'content-type': 'application/x-amz-json-1.0',\n",
       "   'content-length': '2',\n",
       "   'connection': 'keep-alive',\n",
       "   'x-amzn-requestid': 'I2MGUF3NDDUREECP0ND96KT0V7VV4KQNSO5AEMVJF66Q9ASUAAJG',\n",
       "   'x-amz-crc32': '2745614147'},\n",
       "  'RetryAttempts': 0}}"
      ]
     },
     "execution_count": 30,
     "metadata": {},
     "output_type": "execute_result"
    }
   ],
   "source": [
    "job_details_table.put_item(\n",
    "    Item=jrd_item\n",
    ")"
   ]
  },
  {
   "cell_type": "code",
   "execution_count": 31,
   "id": "791b1baf-6205-43dc-85c1-07a29fe4fff4",
   "metadata": {},
   "outputs": [
    {
     "data": {
      "text/plain": [
       "{'Items': [{'job_id': 'gmail_ingest',\n",
       "   'job_run_bookmark_details': {'last_message_id': '17e144500cc9efec',\n",
       "    'last_message_start_time': Decimal('1641011400'),\n",
       "    'last_message_end_time': Decimal('1641018600')},\n",
       "   'rows_processed': Decimal('0'),\n",
       "   'job_run_time': Decimal('1652327576')}],\n",
       " 'Count': 1,\n",
       " 'ScannedCount': 1,\n",
       " 'ResponseMetadata': {'RequestId': 'EAGJO2AKCP8O5P5NR790U77BF3VV4KQNSO5AEMVJF66Q9ASUAAJG',\n",
       "  'HTTPStatusCode': 200,\n",
       "  'HTTPHeaders': {'server': 'Server',\n",
       "   'date': 'Thu, 12 May 2022 03:54:10 GMT',\n",
       "   'content-type': 'application/x-amz-json-1.0',\n",
       "   'content-length': '297',\n",
       "   'connection': 'keep-alive',\n",
       "   'x-amzn-requestid': 'EAGJO2AKCP8O5P5NR790U77BF3VV4KQNSO5AEMVJF66Q9ASUAAJG',\n",
       "   'x-amz-crc32': '2648615777'},\n",
       "  'RetryAttempts': 0}}"
      ]
     },
     "execution_count": 31,
     "metadata": {},
     "output_type": "execute_result"
    }
   ],
   "source": [
    "job_details_table.scan()"
   ]
  },
  {
   "cell_type": "code",
   "execution_count": null,
   "id": "94c3cf5e-ba94-4c32-8692-63e753180ae3",
   "metadata": {},
   "outputs": [],
   "source": []
  }
 ],
 "metadata": {
  "kernelspec": {
   "display_name": "Python 3 (ipykernel)",
   "language": "python",
   "name": "python3"
  },
  "language_info": {
   "codemirror_mode": {
    "name": "ipython",
    "version": 3
   },
   "file_extension": ".py",
   "mimetype": "text/x-python",
   "name": "python",
   "nbconvert_exporter": "python",
   "pygments_lexer": "ipython3",
   "version": "3.9.12"
  }
 },
 "nbformat": 4,
 "nbformat_minor": 5
}
