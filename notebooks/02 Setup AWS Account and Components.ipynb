{
 "cells": [
  {
   "cell_type": "markdown",
   "id": "87dbff51-df8f-4d77-9a84-7027defacbaa",
   "metadata": {},
   "source": [
    "## Setup AWS Account and Components\n",
    "\n",
    "Let us go ahead and setup AWS Account and also review some of the components that will be used in this project.\n",
    "* Keep your credit card handy as it require to register credit card to setup AWS account.\n",
    "* Go to https://aws.amazon.com and complete the sign up process.\n",
    "* Once sign up is done login using the credentials and review below components.\n",
    "  * AWS Billing Dashboard\n",
    "  * AWS IAM (for users, groups and roles)\n",
    "  * Glue\n",
    "  * Athena\n",
    "  * Cloudwatch\n",
    "* Also review AWS Cloud Shell and understand advantages of it."
   ]
  },
  {
   "cell_type": "code",
   "execution_count": null,
   "id": "c451d600-2bcf-4c21-a0bf-0845528f2d01",
   "metadata": {},
   "outputs": [],
   "source": []
  }
 ],
 "metadata": {
  "kernelspec": {
   "display_name": "Python 3 (ipykernel)",
   "language": "python",
   "name": "python3"
  },
  "language_info": {
   "codemirror_mode": {
    "name": "ipython",
    "version": 3
   },
   "file_extension": ".py",
   "mimetype": "text/x-python",
   "name": "python",
   "nbconvert_exporter": "python",
   "pygments_lexer": "ipython3",
   "version": "3.9.12"
  }
 },
 "nbformat": 4,
 "nbformat_minor": 5
}
