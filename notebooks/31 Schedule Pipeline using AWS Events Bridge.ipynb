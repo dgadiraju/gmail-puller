{
 "cells": [
  {
   "cell_type": "markdown",
   "id": "779010c5-4277-4f8c-bd9c-9c18ed50ebfb",
   "metadata": {
    "tags": []
   },
   "source": [
    "## Schedule Pipeline using AWS Events Bridge\n",
    "\n",
    "Let us go ahead and schedule pipeline using AWS Events Bridge. We can take care of it either by using Lambda console or AWS Events Bridge console.\n",
    "* To catch up we can schedule the job every 2 minutes and then we can change it to 15 minutes.\n",
    "* As we are dealing with 45 days as baseline, the job should catch up with in couple of hours.\n",
    "* We will also clean up every thing before scheduling the job."
   ]
  },
  {
   "cell_type": "code",
   "execution_count": 1,
   "id": "7844d5dd-6690-45fd-9ee4-5eb093681843",
   "metadata": {},
   "outputs": [
    {
     "name": "stdout",
     "output_type": "stream",
     "text": [
      "delete: s3://itversitydata/messages/part-1415c2d6-d4e3-11ec-8d5b-3e22fbd03f7b.json\n",
      "delete: s3://itversitydata/messages/part-fef7d1d2-d4e2-11ec-8d5b-3e22fbd03f7b.json\n"
     ]
    }
   ],
   "source": [
    "!aws s3 rm s3://itversitydata/messages --recursive"
   ]
  },
  {
   "cell_type": "code",
   "execution_count": 2,
   "id": "2a06912c-3e13-42dd-9fdc-a98487600a57",
   "metadata": {},
   "outputs": [],
   "source": [
    "import boto3"
   ]
  },
  {
   "cell_type": "code",
   "execution_count": 3,
   "id": "c89bc106-de66-4a29-8892-50c1dbfd7328",
   "metadata": {},
   "outputs": [],
   "source": [
    "dynamodb = boto3.resource('dynamodb')"
   ]
  },
  {
   "cell_type": "code",
   "execution_count": 4,
   "id": "b608df88-d3ad-41ac-a372-0d022cdb8620",
   "metadata": {},
   "outputs": [
    {
     "name": "stdout",
     "output_type": "stream",
     "text": [
      "dynamodb.Table(name='emails')\n",
      "dynamodb.Table(name='ghmarker')\n",
      "dynamodb.Table(name='ghrepos')\n",
      "dynamodb.Table(name='gmail_job_run_details')\n",
      "dynamodb.Table(name='gmail_jobs')\n",
      "dynamodb.Table(name='posts')\n"
     ]
    }
   ],
   "source": [
    "for table in dynamodb.tables.iterator():\n",
    "    print(table)"
   ]
  },
  {
   "cell_type": "code",
   "execution_count": 5,
   "id": "e1ea07e6-831e-4b5b-95fe-a92052bd907f",
   "metadata": {},
   "outputs": [
    {
     "data": {
      "text/plain": [
       "{'ResponseMetadata': {'RequestId': '2USQFQMI7JBCNAJMN1UBQ4SVUNVV4KQNSO5AEMVJF66Q9ASUAAJG',\n",
       "  'HTTPStatusCode': 200,\n",
       "  'HTTPHeaders': {'server': 'Server',\n",
       "   'date': 'Mon, 16 May 2022 06:53:15 GMT',\n",
       "   'content-type': 'application/x-amz-json-1.0',\n",
       "   'content-length': '2',\n",
       "   'connection': 'keep-alive',\n",
       "   'x-amzn-requestid': '2USQFQMI7JBCNAJMN1UBQ4SVUNVV4KQNSO5AEMVJF66Q9ASUAAJG',\n",
       "   'x-amz-crc32': '2745614147'},\n",
       "  'RetryAttempts': 0}}"
      ]
     },
     "execution_count": 5,
     "metadata": {},
     "output_type": "execute_result"
    }
   ],
   "source": [
    "jobs_table = dynamodb.Table('gmail_jobs')\n",
    "jobs_table.delete_item(Key={'job_id': 'gmail_jobs'})\n",
    "item = {\n",
    "    'job_id': 'gmail_ingest',\n",
    "    'job_description': 'Ingest data from gmail to s3',\n",
    "    'is_active': 'Y',\n",
    "    'baseline_days': 45\n",
    "}\n",
    "jobs_table.put_item(Item=item)"
   ]
  },
  {
   "cell_type": "code",
   "execution_count": 6,
   "id": "4b3a4cbb-0846-47ba-bde9-20f2e28267f6",
   "metadata": {},
   "outputs": [],
   "source": [
    "jrd_table = dynamodb.Table('gmail_job_run_details')"
   ]
  },
  {
   "cell_type": "code",
   "execution_count": 7,
   "id": "d3cb4c08-5094-40f9-881a-cc1a015ae5c9",
   "metadata": {},
   "outputs": [],
   "source": [
    "for item in jrd_table.scan()['Items']:\n",
    "    jrd_table.delete_item(Key={'job_id': item['job_id'], 'job_run_time': item['job_run_time']})"
   ]
  },
  {
   "cell_type": "markdown",
   "id": "e4fc9df8-287b-4499-b00d-0bf15a988f0d",
   "metadata": {},
   "source": [
    "* Here are the cron expressions to schedule every 2 minutes as well as every 15 minutes.\n",
    "\n",
    "```\n",
    "cron(0/2 * * * ? *)\n",
    "cron(0/15 * * * ? *)\n",
    "```\n",
    "\n",
    "* Once the job is scheduled to run every 2 minutes to catch up we can validate to see if the emails from GMail are copied to s3 or not."
   ]
  },
  {
   "cell_type": "code",
   "execution_count": 8,
   "id": "1fa1bae9-e86a-4817-9706-63d383689f4e",
   "metadata": {},
   "outputs": [],
   "source": [
    "!aws s3 ls s3://itversitydata/messages/"
   ]
  },
  {
   "cell_type": "code",
   "execution_count": 4,
   "id": "856f9dbd-af57-407d-92e1-ea1b6238568a",
   "metadata": {},
   "outputs": [
    {
     "data": {
      "text/plain": [
       "{'Items': [{'job_description': 'Ingest data from gmail to s3',\n",
       "   'is_active': 'Y',\n",
       "   'job_id': 'gmail_ingest',\n",
       "   'baseline_days': Decimal('45'),\n",
       "   'job_run_bookmark_details': {'last_run_max_message_id': '1800b8e80b0a8b02',\n",
       "    'last_run_start_time_epoch': Decimal('1649376000'),\n",
       "    'last_run_end_time_epoch': Decimal('1649462400')}}],\n",
       " 'Count': 1,\n",
       " 'ScannedCount': 1,\n",
       " 'ResponseMetadata': {'RequestId': 'UOE2LCD50LDOSLNHCV9GBLBD3VVV4KQNSO5AEMVJF66Q9ASUAAJG',\n",
       "  'HTTPStatusCode': 200,\n",
       "  'HTTPHeaders': {'server': 'Server',\n",
       "   'date': 'Mon, 16 May 2022 00:08:56 GMT',\n",
       "   'content-type': 'application/x-amz-json-1.0',\n",
       "   'content-length': '352',\n",
       "   'connection': 'keep-alive',\n",
       "   'x-amzn-requestid': 'UOE2LCD50LDOSLNHCV9GBLBD3VVV4KQNSO5AEMVJF66Q9ASUAAJG',\n",
       "   'x-amz-crc32': '962851235'},\n",
       "  'RetryAttempts': 0}}"
      ]
     },
     "execution_count": 4,
     "metadata": {},
     "output_type": "execute_result"
    }
   ],
   "source": [
    "jobs_table = dynamodb.Table('gmail_jobs')\n",
    "\n",
    "jobs_table.scan()"
   ]
  },
  {
   "cell_type": "code",
   "execution_count": 5,
   "id": "87b9f485-229f-4273-9026-cdc296bac6b7",
   "metadata": {},
   "outputs": [
    {
     "data": {
      "text/plain": [
       "{'Items': [{'job_id': 'gmail_ingest',\n",
       "   'file_name': None,\n",
       "   'job_run_bookmark_details': {'start_time_epoch': Decimal('1648684800'),\n",
       "    'end_time_epoch': Decimal('1648771200'),\n",
       "    'max_message_id': '17fe245c9e5f60c3'},\n",
       "   'rows_processed': Decimal('77'),\n",
       "   'job_run_time': Decimal('1652658769')},\n",
       "  {'job_id': 'gmail_ingest',\n",
       "   'file_name': None,\n",
       "   'job_run_bookmark_details': {'start_time_epoch': Decimal('1648771200'),\n",
       "    'end_time_epoch': Decimal('1648857600'),\n",
       "    'max_message_id': '17fe77331a39bff5'},\n",
       "   'rows_processed': Decimal('89'),\n",
       "   'job_run_time': Decimal('1652658886')},\n",
       "  {'job_id': 'gmail_ingest',\n",
       "   'file_name': None,\n",
       "   'job_run_bookmark_details': {'start_time_epoch': Decimal('1648857600'),\n",
       "    'end_time_epoch': Decimal('1648944000'),\n",
       "    'max_message_id': '17fec72ffbd966a0'},\n",
       "   'rows_processed': Decimal('38'),\n",
       "   'job_run_time': Decimal('1652659006')},\n",
       "  {'job_id': 'gmail_ingest',\n",
       "   'file_name': None,\n",
       "   'job_run_bookmark_details': {'start_time_epoch': Decimal('1648944000'),\n",
       "    'end_time_epoch': Decimal('1649030400'),\n",
       "    'max_message_id': '17ff16c72843659d'},\n",
       "   'rows_processed': Decimal('35'),\n",
       "   'job_run_time': Decimal('1652659126')},\n",
       "  {'job_id': 'gmail_ingest',\n",
       "   'file_name': None,\n",
       "   'job_run_bookmark_details': {'start_time_epoch': Decimal('1649030400'),\n",
       "    'end_time_epoch': Decimal('1649116800'),\n",
       "    'max_message_id': '17ff6b90ebcd5a69'},\n",
       "   'rows_processed': Decimal('72'),\n",
       "   'job_run_time': Decimal('1652659247')},\n",
       "  {'job_id': 'gmail_ingest',\n",
       "   'file_name': None,\n",
       "   'job_run_bookmark_details': {'start_time_epoch': Decimal('1649116800'),\n",
       "    'end_time_epoch': Decimal('1649203200'),\n",
       "    'max_message_id': '17ffc18bea3c65f8'},\n",
       "   'rows_processed': Decimal('115'),\n",
       "   'job_run_time': Decimal('1652659366')},\n",
       "  {'job_id': 'gmail_ingest',\n",
       "   'file_name': None,\n",
       "   'job_run_bookmark_details': {'start_time_epoch': Decimal('1649203200'),\n",
       "    'end_time_epoch': Decimal('1649289600'),\n",
       "    'max_message_id': '180014ca7b16c300'},\n",
       "   'rows_processed': Decimal('94'),\n",
       "   'job_run_time': Decimal('1652659486')},\n",
       "  {'job_id': 'gmail_ingest',\n",
       "   'file_name': None,\n",
       "   'job_run_bookmark_details': {'start_time_epoch': Decimal('1649289600'),\n",
       "    'end_time_epoch': Decimal('1649376000'),\n",
       "    'max_message_id': '1800677955e7c0be'},\n",
       "   'rows_processed': Decimal('88'),\n",
       "   'job_run_time': Decimal('1652659606')},\n",
       "  {'job_id': 'gmail_ingest',\n",
       "   'file_name': None,\n",
       "   'job_run_bookmark_details': {'start_time_epoch': Decimal('1649376000'),\n",
       "    'end_time_epoch': Decimal('1649462400'),\n",
       "    'max_message_id': '1800b8e80b0a8b02'},\n",
       "   'rows_processed': Decimal('75'),\n",
       "   'job_run_time': Decimal('1652659726')}],\n",
       " 'Count': 9,\n",
       " 'ScannedCount': 9,\n",
       " 'ResponseMetadata': {'RequestId': '9RPGBM1GOHL95VO3S10F7M0G7VVV4KQNSO5AEMVJF66Q9ASUAAJG',\n",
       "  'HTTPStatusCode': 200,\n",
       "  'HTTPHeaders': {'server': 'Server',\n",
       "   'date': 'Mon, 16 May 2022 00:09:09 GMT',\n",
       "   'content-type': 'application/x-amz-json-1.0',\n",
       "   'content-length': '2478',\n",
       "   'connection': 'keep-alive',\n",
       "   'x-amzn-requestid': '9RPGBM1GOHL95VO3S10F7M0G7VVV4KQNSO5AEMVJF66Q9ASUAAJG',\n",
       "   'x-amz-crc32': '2845342329'},\n",
       "  'RetryAttempts': 0}}"
      ]
     },
     "execution_count": 5,
     "metadata": {},
     "output_type": "execute_result"
    }
   ],
   "source": [
    "jrd_table = dynamodb.Table('gmail_job_run_details')\n",
    "\n",
    "jrd_table.scan()"
   ]
  },
  {
   "cell_type": "code",
   "execution_count": null,
   "id": "c4553d5e-5030-47d3-b8b7-34dad7c36cfc",
   "metadata": {},
   "outputs": [],
   "source": []
  }
 ],
 "metadata": {
  "kernelspec": {
   "display_name": "Python 3 (ipykernel)",
   "language": "python",
   "name": "python3"
  },
  "language_info": {
   "codemirror_mode": {
    "name": "ipython",
    "version": 3
   },
   "file_extension": ".py",
   "mimetype": "text/x-python",
   "name": "python",
   "nbconvert_exporter": "python",
   "pygments_lexer": "ipython3",
   "version": "3.9.12"
  }
 },
 "nbformat": 4,
 "nbformat_minor": 5
}
