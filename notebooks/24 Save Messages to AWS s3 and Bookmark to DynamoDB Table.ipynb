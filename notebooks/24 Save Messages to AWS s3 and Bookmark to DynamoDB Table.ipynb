{
 "cells": [
  {
   "cell_type": "code",
   "execution_count": 1,
   "id": "55a4cdeb-0e7a-46f5-b39d-2b7130944fad",
   "metadata": {},
   "outputs": [
    {
     "name": "stdout",
     "output_type": "stream",
     "text": [
      "delete: s3://itversitydata/messages/part-257533cd-d4aa-11ec-9629-7b9a7ee0bd59.json\n",
      "delete: s3://itversitydata/messages/part-0bbbaaf6-d4b5-11ec-8a45-e79808170361.json\n",
      "delete: s3://itversitydata/messages/part-2bab2b1d-d4af-11ec-b64e-e79808170361.json\n",
      "delete: s3://itversitydata/messages/part-0ea44930-d4ae-11ec-a61f-e79808170361.json\n",
      "delete: s3://itversitydata/messages/part-02dced21-d4b0-11ec-a5b7-e79808170361.json\n",
      "delete: s3://itversitydata/messages/part-1ff26f5a-d4b1-11ec-88cb-e79808170361.json\n",
      "delete: s3://itversitydata/messages/part-1d0129a2-d4ac-11ec-a98c-e79808170361.json\n",
      "delete: s3://itversitydata/messages/part-2ac49af3-d4b6-11ec-b598-e79808170361.json\n",
      "delete: s3://itversitydata/messages/part-14ce9e2d-d4b3-11ec-afac-e79808170361.json\n",
      "delete: s3://itversitydata/messages/part-31d38dcf-d4c0-11ec-9475-350bffe5e5eb.json\n",
      "delete: s3://itversitydata/messages/part-331bba4b-d4b4-11ec-9428-e79808170361.json\n",
      "delete: s3://itversitydata/messages/part-35dee65e-d4b9-11ec-a6f6-e79808170361.json\n",
      "delete: s3://itversitydata/messages/part-378671ca-d4ad-11ec-ba14-e79808170361.json\n",
      "delete: s3://itversitydata/messages/part-3f343fed-d4b2-11ec-a6aa-e79808170361.json\n",
      "delete: s3://itversitydata/messages/part-42b4b6ec-d4ab-11ec-8d37-e79808170361.json\n",
      "delete: s3://itversitydata/messages/part-5938c18f-d4b5-11ec-b4a9-e79808170361.json\n",
      "delete: s3://itversitydata/messages/part-49f966a4-d4b0-11ec-99bc-e79808170361.json\n",
      "delete: s3://itversitydata/messages/part-5347e9b5-d4ae-11ec-81ba-e79808170361.json\n",
      "delete: s3://itversitydata/messages/part-5f0e10ff-d4ac-11ec-b089-e79808170361.json\n",
      "delete: s3://itversitydata/messages/part-5d0c362a-d4b3-11ec-8ce7-e79808170361.json\n",
      "delete: s3://itversitydata/messages/part-6aead1e1-d4b1-11ec-9aa0-e79808170361.json\n",
      "delete: s3://itversitydata/messages/part-6b64c107-d4aa-11ec-a062-7b9a7ee0bd59.json\n",
      "delete: s3://itversitydata/messages/part-6cc3e643-d4b6-11ec-981c-e79808170361.json\n",
      "delete: s3://itversitydata/messages/part-73cb6635-d4af-11ec-88cd-e79808170361.json\n",
      "delete: s3://itversitydata/messages/part-78688d79-d4b4-11ec-9d63-e79808170361.json\n",
      "delete: s3://itversitydata/messages/part-7fc20383-d4ad-11ec-8aba-e79808170361.json\n",
      "delete: s3://itversitydata/messages/part-806076ff-d4d8-11ec-9896-096e6d115514.json\n",
      "delete: s3://itversitydata/messages/part-8c2ee32d-d4ab-11ec-8ffc-e79808170361.json\n",
      "delete: s3://itversitydata/messages/part-8ef2ae7f-d4b0-11ec-afe3-e79808170361.json\n",
      "delete: s3://itversitydata/messages/part-837d1572-d4b2-11ec-b7a5-e79808170361.json\n",
      "delete: s3://itversitydata/messages/part-98dbce16-d4b5-11ec-bc69-e79808170361.json\n",
      "delete: s3://itversitydata/messages/part-a55387fd-d4ac-11ec-b153-e79808170361.json\n",
      "delete: s3://itversitydata/messages/part-995477d2-d4ae-11ec-aa8b-e79808170361.json\n",
      "delete: s3://itversitydata/messages/part-a60cbd9a-d4b3-11ec-bed6-e79808170361.json\n",
      "delete: s3://itversitydata/messages/part-b0b06cbd-d4aa-11ec-a8ae-7b9a7ee0bd59.json\n",
      "delete: s3://itversitydata/messages/part-b4623705-d4b6-11ec-aed9-e79808170361.json\n",
      "delete: s3://itversitydata/messages/part-afb0d054-d4b1-11ec-a603-e79808170361.json\n",
      "delete: s3://itversitydata/messages/part-bb76f434-d4af-11ec-bedd-e79808170361.json\n",
      "delete: s3://itversitydata/messages/part-bcec87d0-d4c7-11ec-941c-350bffe5e5eb.json\n",
      "delete: s3://itversitydata/messages/part-bf8f67c0-d4b4-11ec-a7f2-e79808170361.json\n",
      "delete: s3://itversitydata/messages/part-c65e095c-d4ad-11ec-8d92-e79808170361.json\n",
      "delete: s3://itversitydata/messages/part-caa02222-d4b2-11ec-ae5b-e79808170361.json\n",
      "delete: s3://itversitydata/messages/part-d61d06a1-d4b0-11ec-968c-e79808170361.json\n",
      "delete: s3://itversitydata/messages/part-d9c7b23c-d4ab-11ec-b0ae-e79808170361.json\n",
      "delete: s3://itversitydata/messages/part-e0bd15fe-d4b5-11ec-bad0-e79808170361.json\n",
      "delete: s3://itversitydata/messages/part-e1c70039-d4ae-11ec-a246-e79808170361.json\n",
      "delete: s3://itversitydata/messages/part-ed6b81f7-d4ac-11ec-9468-e79808170361.json\n",
      "delete: s3://itversitydata/messages/part-edb8f599-d4b3-11ec-9798-e79808170361.json\n",
      "delete: s3://itversitydata/messages/part-f7cf76de-d4aa-11ec-8910-7b9a7ee0bd59.json\n",
      "delete: s3://itversitydata/messages/part-f8e047f0-d4b1-11ec-acb0-e79808170361.json\n"
     ]
    }
   ],
   "source": [
    "!aws s3 rm s3://itversitydata/messages --recursive"
   ]
  },
  {
   "cell_type": "code",
   "execution_count": 2,
   "id": "5add8545-d385-4bf9-ae09-63e88a129c61",
   "metadata": {},
   "outputs": [
    {
     "data": {
      "text/plain": [
       "{'ResponseMetadata': {'RequestId': 'MK3AP85BV0DI25SVU5NNQB5R3FVV4KQNSO5AEMVJF66Q9ASUAAJG',\n",
       "  'HTTPStatusCode': 200,\n",
       "  'HTTPHeaders': {'server': 'Server',\n",
       "   'date': 'Mon, 16 May 2022 06:35:58 GMT',\n",
       "   'content-type': 'application/x-amz-json-1.0',\n",
       "   'content-length': '2',\n",
       "   'connection': 'keep-alive',\n",
       "   'x-amzn-requestid': 'MK3AP85BV0DI25SVU5NNQB5R3FVV4KQNSO5AEMVJF66Q9ASUAAJG',\n",
       "   'x-amz-crc32': '2745614147'},\n",
       "  'RetryAttempts': 0}}"
      ]
     },
     "execution_count": 2,
     "metadata": {},
     "output_type": "execute_result"
    }
   ],
   "source": [
    "import boto3\n",
    "\n",
    "dynamodb = boto3.resource('dynamodb')\n",
    "table = dynamodb.Table('gmail_jobs')\n",
    "table.delete_item(Key={'job_id': 'gmail_jobs'})\n",
    "item = {\n",
    "    'job_id': 'gmail_ingest',\n",
    "    'job_description': 'Ingest data from gmail to s3',\n",
    "    'is_active': 'Y',\n",
    "    'baseline_days': 45\n",
    "}\n",
    "table.put_item(Item=item)"
   ]
  },
  {
   "cell_type": "code",
   "execution_count": 3,
   "id": "faa22725-8514-4b10-b97f-f7caa2286a93",
   "metadata": {},
   "outputs": [],
   "source": [
    "import boto3\n",
    "import pickle\n",
    "\n",
    "\n",
    "def get_creds():\n",
    "    sm_client = boto3.client(\n",
    "        'secretsmanager',\n",
    "        region_name='us-east-1'\n",
    "    )\n",
    "\n",
    "    secret_token = sm_client.get_secret_value(SecretId='gmail_token')['SecretBinary']\n",
    "    creds = pickle.loads(secret_token)\n",
    "    return creds"
   ]
  },
  {
   "cell_type": "code",
   "execution_count": 4,
   "id": "48e5f78d-0bb8-406e-b4aa-eca59006f41a",
   "metadata": {},
   "outputs": [],
   "source": [
    "from googleapiclient.discovery import build\n",
    "\n",
    "\n",
    "def get_users():\n",
    "    creds = get_creds()\n",
    "    service = build('gmail', 'v1', credentials=creds)\n",
    "    return service.users()"
   ]
  },
  {
   "cell_type": "code",
   "execution_count": 5,
   "id": "6f6bf4cd-6b7f-4a99-895c-0c1fb376e657",
   "metadata": {},
   "outputs": [],
   "source": [
    "def get_job_details(job_name):\n",
    "    dynamodb = boto3.resource('dynamodb')\n",
    "    table = dynamodb.Table('gmail_jobs')\n",
    "    job_details = table.get_item(Key={'job_id': job_name})['Item']\n",
    "    return job_details"
   ]
  },
  {
   "cell_type": "code",
   "execution_count": 6,
   "id": "eda5e09b-35a3-4706-93d2-6b0d598ae5c4",
   "metadata": {},
   "outputs": [],
   "source": [
    "import datetime\n",
    "import time\n",
    "\n",
    "def get_job_run_time_range(job_details):\n",
    "    job_start_time = int(time.mktime(datetime.datetime.now().timetuple()))\n",
    "    if job_details.get('job_run_bookmark_details'):\n",
    "        job_run_bookmark_details = job_details.get('job_run_bookmark_details')\n",
    "        last_run_start_time_epoch = int(job_run_bookmark_details['last_run_start_time_epoch'])\n",
    "        last_run_end_time_epoch = int(job_run_bookmark_details['last_run_end_time_epoch'])\n",
    "        last_run_diff = datetime.datetime.now().date() - datetime.datetime.fromtimestamp(last_run_end_time_epoch).date()\n",
    "        if last_run_diff.days > 1:\n",
    "            start_time_epoch = last_run_end_time_epoch\n",
    "            end_time = datetime.datetime.fromtimestamp(last_run_end_time_epoch).date() + datetime.timedelta(days=1)\n",
    "            end_time_epoch = int(time.mktime(end_time.timetuple()))\n",
    "        else:\n",
    "            start_time_epoch = last_run_end_time_epoch\n",
    "            end_time_epoch = int(time.mktime(datetime.datetime.now().timetuple()))  \n",
    "    else:\n",
    "        baseline_days = int(job_details['baseline_days'])\n",
    "        start_time = datetime.datetime.now().date() - datetime.timedelta(days=int(baseline_days))\n",
    "        end_time = start_time + datetime.timedelta(days=1)\n",
    "        start_time_epoch = int(time.mktime(start_time.timetuple()))\n",
    "        end_time_epoch = int(time.mktime(end_time.timetuple()))\n",
    "    return job_start_time, start_time_epoch, end_time_epoch"
   ]
  },
  {
   "cell_type": "code",
   "execution_count": 7,
   "id": "f926256c-300c-451c-8f14-e8784a275331",
   "metadata": {},
   "outputs": [],
   "source": [
    "def get_message_ids(start_time_epoch, end_time_epoch):\n",
    "    message_ids = []\n",
    "    next_page_token = None\n",
    "\n",
    "    users = get_users()\n",
    "    while True:\n",
    "        if next_page_token:\n",
    "            print(f'Processing in range between {start_time_epoch} and {end_time_epoch} using token {next_page_token}')\n",
    "            messages = users. \\\n",
    "                messages(). \\\n",
    "                list(\n",
    "                    userId='me', \n",
    "                    q=f'after:{start_time_epoch} before:{end_time_epoch}',\n",
    "                    pageToken=next_page_token\n",
    "                ). \\\n",
    "                execute()\n",
    "            message_ids += messages['messages']\n",
    "            next_page_token = messages.get('nextPageToken')\n",
    "        else:\n",
    "            print(f'Processing in range between {start_time_epoch} and {end_time_epoch}')\n",
    "            messages = users. \\\n",
    "                messages(). \\\n",
    "                list(\n",
    "                    userId='me', \n",
    "                    q=f'after:{start_time_epoch} before:{end_time_epoch}'\n",
    "                ). \\\n",
    "                execute()\n",
    "            message_ids = messages['messages']\n",
    "            next_page_token = messages.get('nextPageToken')\n",
    "        if next_page_token == None:\n",
    "            break\n",
    "    return message_ids"
   ]
  },
  {
   "cell_type": "code",
   "execution_count": 8,
   "id": "0f69779f-84ed-41b0-8754-485e0929c296",
   "metadata": {},
   "outputs": [],
   "source": [
    "import pandas as pd\n",
    "\n",
    "def get_messages(message_ids):\n",
    "    users = get_users()\n",
    "    messages = []\n",
    "    for message_id in message_ids:\n",
    "        message = users.messages().get(userId='me', id=message_id['id']).execute()\n",
    "        messages.append(message)\n",
    "    return pd.DataFrame(messages)"
   ]
  },
  {
   "cell_type": "code",
   "execution_count": 16,
   "id": "7baa1c67-4b7a-45a8-aea8-8c473bbf76c7",
   "metadata": {},
   "outputs": [],
   "source": [
    "import uuid\n",
    "\n",
    "\n",
    "def write_messages_to_s3(messages_df, s3_bucket, s3_prefix):\n",
    "    messages_df.to_json(f's3://{s3_bucket}/{s3_prefix}/part-{uuid.uuid1()}.json', orient='records', lines=True)\n",
    "    print(f'Successfully saved messages to s3://{s3_bucket}/{s3_prefix}/part-{uuid.uuid1()}.json')"
   ]
  },
  {
   "cell_type": "code",
   "execution_count": 17,
   "id": "cb67115c-ab03-411b-9214-e27ae14240b8",
   "metadata": {},
   "outputs": [],
   "source": [
    "def save_job_run_details(job_details, job_start_time, message_ids, start_time_epoch, end_time_epoch, file_name):\n",
    "    dynamodb = boto3.resource('dynamodb')\n",
    "    message_count = len(message_ids)\n",
    "    max_message_id = max([message_id['id'] for message_id in message_ids])\n",
    "    job_run_details_item = {\n",
    "        'job_id': job_details['job_id'],\n",
    "        'job_run_time': job_start_time,\n",
    "        'job_run_bookmark_details': {\n",
    "            'max_message_id': max_message_id,\n",
    "            'start_time_epoch': start_time_epoch,\n",
    "            'end_time_epoch': end_time_epoch\n",
    "        },\n",
    "        'rows_processed': message_count,\n",
    "        'file_name': file_name\n",
    "    }\n",
    "    job_run_details_table = dynamodb.Table('gmail_job_run_details')\n",
    "    job_run_details_table.put_item(Item=job_run_details_item)\n",
    "    \n",
    "    job_details_table = dynamodb.Table('gmail_jobs')\n",
    "    job_details['job_run_bookmark_details'] = {\n",
    "        'last_run_max_message_id': max_message_id,\n",
    "        'last_run_start_time_epoch': start_time_epoch,\n",
    "        'last_run_end_time_epoch': end_time_epoch \n",
    "    }\n",
    "    job_details_table.put_item(Item=job_details)"
   ]
  },
  {
   "cell_type": "code",
   "execution_count": 18,
   "id": "95f5d28b-a7cc-41a9-88a7-dd79fb0f7e53",
   "metadata": {},
   "outputs": [],
   "source": [
    "job_details = get_job_details('gmail_ingest')"
   ]
  },
  {
   "cell_type": "code",
   "execution_count": 19,
   "id": "eb8910ff-896f-4514-9db0-6137dd3f72d0",
   "metadata": {},
   "outputs": [
    {
     "data": {
      "text/plain": [
       "(1652683161, 1648751400, 1648837800)"
      ]
     },
     "execution_count": 19,
     "metadata": {},
     "output_type": "execute_result"
    }
   ],
   "source": [
    "job_start_time, start_time_epoch, end_time_epoch = get_job_run_time_range(job_details)\n",
    "(job_start_time, start_time_epoch, end_time_epoch)"
   ]
  },
  {
   "cell_type": "code",
   "execution_count": 20,
   "id": "4c923e26-87ff-4a69-8fa0-03265906f2df",
   "metadata": {},
   "outputs": [
    {
     "name": "stdout",
     "output_type": "stream",
     "text": [
      "Processing in range between 1648751400 and 1648837800\n"
     ]
    }
   ],
   "source": [
    "message_ids = get_message_ids(start_time_epoch, end_time_epoch)"
   ]
  },
  {
   "cell_type": "code",
   "execution_count": 21,
   "id": "3d6eab3e-58d2-47b9-bb41-0eb12d9c194e",
   "metadata": {},
   "outputs": [],
   "source": [
    "messages = get_messages(message_ids)"
   ]
  },
  {
   "cell_type": "code",
   "execution_count": 22,
   "id": "1580b116-dbbc-480f-935d-6349c1ab9fa5",
   "metadata": {},
   "outputs": [
    {
     "name": "stdout",
     "output_type": "stream",
     "text": [
      "Successfully saved messages to s3://itversitydata/messages/part-059e77fc-d4e3-11ec-8d5b-3e22fbd03f7b.json\n"
     ]
    }
   ],
   "source": [
    "file_name = write_messages_to_s3(messages, 'itversitydata', 'messages')"
   ]
  },
  {
   "cell_type": "code",
   "execution_count": 23,
   "id": "6290c8d5-ef9d-43b9-b0fa-903044a4de1a",
   "metadata": {},
   "outputs": [],
   "source": [
    "save_job_run_details(job_details, job_start_time, message_ids, start_time_epoch, end_time_epoch, file_name)"
   ]
  },
  {
   "cell_type": "code",
   "execution_count": 24,
   "id": "fbfb0cf1-d4e0-4e08-ae07-cfe71d5abf4c",
   "metadata": {},
   "outputs": [
    {
     "name": "stdout",
     "output_type": "stream",
     "text": [
      "2022-05-16 12:09:56    4349311 part-fef7d1d2-d4e2-11ec-8d5b-3e22fbd03f7b.json\n"
     ]
    }
   ],
   "source": [
    "!aws s3 ls s3://itversitydata/messages/"
   ]
  },
  {
   "cell_type": "code",
   "execution_count": 25,
   "id": "76e653dc-9416-4606-bd07-df3e8b881342",
   "metadata": {},
   "outputs": [
    {
     "name": "stdout",
     "output_type": "stream",
     "text": [
      "Processing in range between 1648837800 and 1648924200\n",
      "Successfully saved messages to s3://itversitydata/messages/part-1a5ee5b4-d4e3-11ec-8d5b-3e22fbd03f7b.json\n"
     ]
    }
   ],
   "source": [
    "job_details = get_job_details('gmail_ingest')\n",
    "job_start_time, start_time_epoch, end_time_epoch = get_job_run_time_range(job_details)\n",
    "message_ids = get_message_ids(start_time_epoch, end_time_epoch)\n",
    "messages = get_messages(message_ids)\n",
    "file_name = write_messages_to_s3(messages, 'itversitydata', 'messages')\n",
    "save_job_run_details(job_details, job_start_time, message_ids, start_time_epoch, end_time_epoch, file_name)"
   ]
  },
  {
   "cell_type": "code",
   "execution_count": 26,
   "id": "f3ab2cf0-6816-49c7-8e5c-ce2600262f8e",
   "metadata": {},
   "outputs": [
    {
     "name": "stdout",
     "output_type": "stream",
     "text": [
      "2022-05-16 12:10:32    3074469 part-1415c2d6-d4e3-11ec-8d5b-3e22fbd03f7b.json\n",
      "2022-05-16 12:09:56    4349311 part-fef7d1d2-d4e2-11ec-8d5b-3e22fbd03f7b.json\n"
     ]
    }
   ],
   "source": [
    "!aws s3 ls s3://itversitydata/messages/"
   ]
  },
  {
   "cell_type": "code",
   "execution_count": null,
   "id": "22969c7f-627f-4582-ab59-d82bc7832436",
   "metadata": {},
   "outputs": [],
   "source": []
  }
 ],
 "metadata": {
  "kernelspec": {
   "display_name": "Python 3 (ipykernel)",
   "language": "python",
   "name": "python3"
  },
  "language_info": {
   "codemirror_mode": {
    "name": "ipython",
    "version": 3
   },
   "file_extension": ".py",
   "mimetype": "text/x-python",
   "name": "python",
   "nbconvert_exporter": "python",
   "pygments_lexer": "ipython3",
   "version": "3.9.12"
  }
 },
 "nbformat": 4,
 "nbformat_minor": 5
}
